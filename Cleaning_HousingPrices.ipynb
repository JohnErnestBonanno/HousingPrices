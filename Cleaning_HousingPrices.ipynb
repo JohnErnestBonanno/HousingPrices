{
 "cells": [
  {
   "cell_type": "code",
   "execution_count": 1,
   "metadata": {
    "collapsed": true
   },
   "outputs": [],
   "source": [
    "#import statements\n",
    "import pandas as pd\n",
    "\n",
    "#sklearn imports\n",
    "from sklearn import preprocessing\n",
    "\n",
    "\n",
    "%matplotlib inline \n",
    "\n",
    "#sets max columns so I can everything\n",
    "pd.set_option('display.max_columns',100)\n",
    "pd.set_option('display.max_colwidth', -1)"
   ]
  },
  {
   "cell_type": "code",
   "execution_count": 2,
   "metadata": {
    "collapsed": true
   },
   "outputs": [],
   "source": [
    "#load data\n",
    "\n",
    "dfTrain = pd.read_csv(\"train.csv\")\n",
    "dfTest = pd.read_csv(\"test.csv\")"
   ]
  },
  {
   "cell_type": "code",
   "execution_count": 3,
   "metadata": {
    "collapsed": true
   },
   "outputs": [],
   "source": [
    "#specify if data is train/test\n",
    "dfTrain['DataType'] = 'Train'\n",
    "dfTest['DataType'] = 'Test'"
   ]
  },
  {
   "cell_type": "code",
   "execution_count": 4,
   "metadata": {
    "collapsed": true
   },
   "outputs": [],
   "source": [
    "#combine data frames\n",
    "dfMaster = pd.concat([dfTrain,dfTest])"
   ]
  },
  {
   "cell_type": "code",
   "execution_count": 5,
   "metadata": {},
   "outputs": [
    {
     "data": {
      "text/plain": [
       "82"
      ]
     },
     "execution_count": 5,
     "metadata": {},
     "output_type": "execute_result"
    }
   ],
   "source": [
    "#check length of master columns\n",
    "len(dfMaster.columns)"
   ]
  },
  {
   "cell_type": "code",
   "execution_count": 6,
   "metadata": {
    "collapsed": true
   },
   "outputs": [],
   "source": [
    "#creation of variable explanation cheat sheet\n",
    "dfDesciptOnly = pd.read_csv('data_descriptions_only.csv',header =0)\n",
    "dfDesciptOnly['Variable'],dfDesciptOnly['Description'] = dfDesciptOnly['Description'].str.split(':').str"
   ]
  },
  {
   "cell_type": "code",
   "execution_count": 7,
   "metadata": {
    "collapsed": true
   },
   "outputs": [],
   "source": [
    "#create df of variables only and name it \"Variable\"\n",
    "ColumnNames = pd.DataFrame(dfMaster.columns)\n",
    "ColumnNames.columns = ['Variable']"
   ]
  },
  {
   "cell_type": "code",
   "execution_count": 8,
   "metadata": {
    "collapsed": true
   },
   "outputs": [],
   "source": [
    "dfCheatSheet = pd.merge(ColumnNames,dfDesciptOnly, on = 'Variable')"
   ]
  },
  {
   "cell_type": "code",
   "execution_count": 9,
   "metadata": {
    "collapsed": true
   },
   "outputs": [],
   "source": [
    "#create filter to differentiate from Train and Test data\n",
    "TrainFilter = dfMaster['DataType']=='Train'"
   ]
  },
  {
   "cell_type": "code",
   "execution_count": 10,
   "metadata": {
    "collapsed": true
   },
   "outputs": [],
   "source": [
    "#Data Cleaning\n",
    "\n",
    "#identify & drop columns where 95% of column data is missing\n",
    "#if missing too much data, imputing is unlikely to be helpful\n",
    "\n",
    "#5% missing threshold\n",
    "threshold5per = len(dfMaster[TrainFilter])*.05\n",
    "#print(threshold95per)\n",
    "\n",
    "#isolate columns where more than 5% of data is missing \n",
    "#can index the df.columns based on boolean value\n",
    "columnsToDrop = dfMaster[TrainFilter].columns[dfMaster[TrainFilter].isnull().sum()>threshold5per]\n",
    "\n",
    "#drop columns where more than 5% of data is missing \n",
    "dfMaster.drop(labels = columnsToDrop, inplace=True, axis =1 )"
   ]
  },
  {
   "cell_type": "code",
   "execution_count": 11,
   "metadata": {},
   "outputs": [
    {
     "data": {
      "text/plain": [
       "71"
      ]
     },
     "execution_count": 11,
     "metadata": {},
     "output_type": "execute_result"
    }
   ],
   "source": [
    "len(dfMaster.columns)"
   ]
  },
  {
   "cell_type": "code",
   "execution_count": 12,
   "metadata": {
    "collapsed": true
   },
   "outputs": [],
   "source": [
    "#Remove columns where no seperation between value\n",
    "#if only have only have one or two, unlikely to provide us any extra info"
   ]
  },
  {
   "cell_type": "code",
   "execution_count": 13,
   "metadata": {},
   "outputs": [
    {
     "name": "stdout",
     "output_type": "stream",
     "text": [
      "0.0    856\n",
      "1.0    588\n",
      "2.0    15 \n",
      "3.0    1  \n",
      "Name: BsmtFullBath, dtype: int64\n",
      "\n",
      "0.0    1378\n",
      "1.0    80  \n",
      "2.0    2   \n",
      "Name: BsmtHalfBath, dtype: int64\n",
      "\n",
      "Y    1365\n",
      "N    95  \n",
      "Name: CentralAir, dtype: int64\n",
      "\n",
      "Train    1460\n",
      "Name: DataType, dtype: int64\n",
      "\n",
      "TA    906\n",
      "Gd    488\n",
      "Ex    52 \n",
      "Fa    14 \n",
      "Name: ExterQual, dtype: int64\n",
      "\n",
      "0    690\n",
      "1    650\n",
      "2    115\n",
      "3    5  \n",
      "Name: Fireplaces, dtype: int64\n",
      "\n",
      "2    768\n",
      "1    650\n",
      "3    33 \n",
      "0    9  \n",
      "Name: FullBath, dtype: int64\n",
      "\n",
      "0    913\n",
      "1    535\n",
      "2    12 \n",
      "Name: HalfBath, dtype: int64\n",
      "\n",
      "1    1392\n",
      "2    65  \n",
      "3    2   \n",
      "0    1   \n",
      "Name: KitchenAbvGr, dtype: int64\n",
      "\n",
      "TA    735\n",
      "Gd    586\n",
      "Ex    100\n",
      "Fa    39 \n",
      "Name: KitchenQual, dtype: int64\n",
      "\n",
      "Lvl    1311\n",
      "Bnk    63  \n",
      "HLS    50  \n",
      "Low    36  \n",
      "Name: LandContour, dtype: int64\n",
      "\n",
      "Gtl    1382\n",
      "Mod    65  \n",
      "Sev    13  \n",
      "Name: LandSlope, dtype: int64\n",
      "\n",
      "Reg    925\n",
      "IR1    484\n",
      "IR2    41 \n",
      "IR3    10 \n",
      "Name: LotShape, dtype: int64\n",
      "\n",
      "Y    1340\n",
      "N    90  \n",
      "P    30  \n",
      "Name: PavedDrive, dtype: int64\n",
      "\n",
      "Pave    1454\n",
      "Grvl    6   \n",
      "Name: Street, dtype: int64\n",
      "\n",
      "AllPub    1459\n",
      "NoSeWa    1   \n",
      "Name: Utilities, dtype: int64\n",
      "\n"
     ]
    }
   ],
   "source": [
    "for col in dfMaster.columns:\n",
    "    if (len(dfMaster[TrainFilter][col].unique())<=4):\n",
    "        print(dfMaster[TrainFilter][col].value_counts())\n",
    "        print()\n",
    "\n",
    "#for each column in df master\n",
    "#if the unique values in the column is less than equal to for\n",
    "#print the the value counts of the column"
   ]
  },
  {
   "cell_type": "code",
   "execution_count": 14,
   "metadata": {
    "collapsed": true
   },
   "outputs": [],
   "source": [
    "#Based on the above analysis, drop Street and Utilities.  Neither category has enough enough for meaningful info\n",
    "dfMaster.drop(labels = ['Street','Utilities'], inplace=True, axis =1 )"
   ]
  },
  {
   "cell_type": "code",
   "execution_count": 15,
   "metadata": {},
   "outputs": [
    {
     "data": {
      "text/plain": [
       "69"
      ]
     },
     "execution_count": 15,
     "metadata": {},
     "output_type": "execute_result"
    }
   ],
   "source": [
    "len(dfMaster.columns)"
   ]
  },
  {
   "cell_type": "code",
   "execution_count": 16,
   "metadata": {
    "collapsed": true
   },
   "outputs": [],
   "source": [
    "dfMaster.to_csv('dfMasterCleaned.csv')"
   ]
  },
  {
   "cell_type": "code",
   "execution_count": 17,
   "metadata": {
    "collapsed": true
   },
   "outputs": [],
   "source": [
    "#reload cleaned data\n",
    "\n",
    "dfMasterClean = pd.read_csv('dfMasterCleaned.csv',index_col = 0)"
   ]
  },
  {
   "cell_type": "code",
   "execution_count": 18,
   "metadata": {},
   "outputs": [
    {
     "data": {
      "text/plain": [
       "object     33\n",
       "int64      26\n",
       "float64    10\n",
       "dtype: int64"
      ]
     },
     "execution_count": 18,
     "metadata": {},
     "output_type": "execute_result"
    }
   ],
   "source": [
    "dfMasterClean.dtypes.value_counts()"
   ]
  },
  {
   "cell_type": "code",
   "execution_count": 19,
   "metadata": {
    "collapsed": true
   },
   "outputs": [],
   "source": [
    "objectFilter = list(dfMasterClean.dtypes == 'object')\n",
    "intFilter = list(dfMaster.dtypes != 'object')"
   ]
  },
  {
   "cell_type": "code",
   "execution_count": 20,
   "metadata": {},
   "outputs": [
    {
     "name": "stdout",
     "output_type": "stream",
     "text": [
      "Index(['BldgType', 'BsmtCond', 'BsmtExposure', 'BsmtFinType1', 'BsmtFinType2',\n",
      "       'BsmtQual', 'CentralAir', 'Condition1', 'Condition2', 'DataType',\n",
      "       'Electrical', 'ExterCond', 'ExterQual', 'Exterior1st', 'Exterior2nd',\n",
      "       'Foundation', 'Functional', 'Heating', 'HeatingQC', 'HouseStyle',\n",
      "       'KitchenQual', 'LandContour', 'LandSlope', 'LotConfig', 'LotShape',\n",
      "       'MSZoning', 'MasVnrType', 'Neighborhood', 'PavedDrive', 'RoofMatl',\n",
      "       'RoofStyle', 'SaleCondition', 'SaleType'],\n",
      "      dtype='object')\n",
      "Index(['1stFlrSF', '2ndFlrSF', '3SsnPorch', 'BedroomAbvGr', 'BsmtFinSF1',\n",
      "       'BsmtFinSF2', 'BsmtFullBath', 'BsmtHalfBath', 'BsmtUnfSF',\n",
      "       'EnclosedPorch', 'Fireplaces', 'FullBath', 'GarageArea', 'GarageCars',\n",
      "       'GrLivArea', 'HalfBath', 'Id', 'KitchenAbvGr', 'LotArea',\n",
      "       'LowQualFinSF', 'MSSubClass', 'MasVnrArea', 'MiscVal', 'MoSold',\n",
      "       'OpenPorchSF', 'OverallCond', 'OverallQual', 'PoolArea', 'SalePrice',\n",
      "       'ScreenPorch', 'TotRmsAbvGrd', 'TotalBsmtSF', 'WoodDeckSF', 'YearBuilt',\n",
      "       'YearRemodAdd', 'YrSold'],\n",
      "      dtype='object')\n"
     ]
    }
   ],
   "source": [
    "print(dfMasterClean.columns[objectFilter])\n",
    "print(dfMasterClean.columns[intFilter])"
   ]
  },
  {
   "cell_type": "code",
   "execution_count": 21,
   "metadata": {
    "collapsed": true
   },
   "outputs": [],
   "source": [
    "#create list for indexing int and object variables\n",
    "objectFilter = ['BldgType', 'BsmtCond', 'BsmtExposure', 'BsmtFinType1', 'BsmtFinType2',\n",
    "       'BsmtQual', 'CentralAir', 'Condition1', 'Condition2', 'DataType',\n",
    "       'Electrical', 'ExterCond', 'ExterQual', 'Exterior1st', 'Exterior2nd',\n",
    "       'Foundation', 'Functional', 'Heating', 'HeatingQC', 'HouseStyle',\n",
    "       'KitchenQual', 'LandContour', 'LandSlope', 'LotConfig', 'LotShape',\n",
    "       'MSZoning', 'MasVnrType', 'Neighborhood', 'PavedDrive', 'RoofMatl',\n",
    "       'RoofStyle', 'SaleCondition', 'SaleType']\n",
    "\n",
    "intFilter = ['1stFlrSF', '2ndFlrSF', '3SsnPorch', 'BedroomAbvGr', 'BsmtFinSF1',\n",
    "       'BsmtFinSF2', 'BsmtFullBath', 'BsmtHalfBath', 'BsmtUnfSF',\n",
    "       'EnclosedPorch', 'Fireplaces', 'FullBath', 'GarageArea', 'GarageCars',\n",
    "       'GrLivArea', 'HalfBath', 'Id', 'KitchenAbvGr', 'LotArea',\n",
    "       'LowQualFinSF', 'MSSubClass', 'MasVnrArea', 'MiscVal', 'MoSold',\n",
    "       'OpenPorchSF', 'OverallCond', 'OverallQual', 'PoolArea', 'SalePrice',\n",
    "       'ScreenPorch', 'TotRmsAbvGrd', 'TotalBsmtSF', 'WoodDeckSF', 'YearBuilt',\n",
    "       'YearRemodAdd', 'YrSold']"
   ]
  },
  {
   "cell_type": "code",
   "execution_count": 22,
   "metadata": {},
   "outputs": [
    {
     "data": {
      "text/html": [
       "<div>\n",
       "<style>\n",
       "    .dataframe thead tr:only-child th {\n",
       "        text-align: right;\n",
       "    }\n",
       "\n",
       "    .dataframe thead th {\n",
       "        text-align: left;\n",
       "    }\n",
       "\n",
       "    .dataframe tbody tr th {\n",
       "        vertical-align: top;\n",
       "    }\n",
       "</style>\n",
       "<table border=\"1\" class=\"dataframe\">\n",
       "  <thead>\n",
       "    <tr style=\"text-align: right;\">\n",
       "      <th></th>\n",
       "      <th>1stFlrSF</th>\n",
       "      <th>2ndFlrSF</th>\n",
       "      <th>3SsnPorch</th>\n",
       "      <th>BedroomAbvGr</th>\n",
       "      <th>BsmtFinSF1</th>\n",
       "      <th>BsmtFinSF2</th>\n",
       "      <th>BsmtFullBath</th>\n",
       "      <th>BsmtHalfBath</th>\n",
       "      <th>BsmtUnfSF</th>\n",
       "      <th>EnclosedPorch</th>\n",
       "      <th>Fireplaces</th>\n",
       "      <th>FullBath</th>\n",
       "      <th>GarageArea</th>\n",
       "      <th>GarageCars</th>\n",
       "      <th>GrLivArea</th>\n",
       "      <th>HalfBath</th>\n",
       "      <th>Id</th>\n",
       "      <th>KitchenAbvGr</th>\n",
       "      <th>LotArea</th>\n",
       "      <th>LowQualFinSF</th>\n",
       "      <th>MSSubClass</th>\n",
       "      <th>MasVnrArea</th>\n",
       "      <th>MiscVal</th>\n",
       "      <th>MoSold</th>\n",
       "      <th>OpenPorchSF</th>\n",
       "      <th>OverallCond</th>\n",
       "      <th>OverallQual</th>\n",
       "      <th>PoolArea</th>\n",
       "      <th>SalePrice</th>\n",
       "      <th>ScreenPorch</th>\n",
       "      <th>TotRmsAbvGrd</th>\n",
       "      <th>TotalBsmtSF</th>\n",
       "      <th>WoodDeckSF</th>\n",
       "      <th>YearBuilt</th>\n",
       "      <th>YearRemodAdd</th>\n",
       "      <th>YrSold</th>\n",
       "    </tr>\n",
       "  </thead>\n",
       "  <tbody>\n",
       "    <tr>\n",
       "      <th>0</th>\n",
       "      <td>856</td>\n",
       "      <td>854</td>\n",
       "      <td>0</td>\n",
       "      <td>3</td>\n",
       "      <td>706.0</td>\n",
       "      <td>0.0</td>\n",
       "      <td>1.0</td>\n",
       "      <td>0.0</td>\n",
       "      <td>150.0</td>\n",
       "      <td>0</td>\n",
       "      <td>0</td>\n",
       "      <td>2</td>\n",
       "      <td>548.0</td>\n",
       "      <td>2.0</td>\n",
       "      <td>1710</td>\n",
       "      <td>1</td>\n",
       "      <td>1</td>\n",
       "      <td>1</td>\n",
       "      <td>8450</td>\n",
       "      <td>0</td>\n",
       "      <td>60</td>\n",
       "      <td>196.0</td>\n",
       "      <td>0</td>\n",
       "      <td>2</td>\n",
       "      <td>61</td>\n",
       "      <td>5</td>\n",
       "      <td>7</td>\n",
       "      <td>0</td>\n",
       "      <td>208500.0</td>\n",
       "      <td>0</td>\n",
       "      <td>8</td>\n",
       "      <td>856.0</td>\n",
       "      <td>0</td>\n",
       "      <td>2003</td>\n",
       "      <td>2003</td>\n",
       "      <td>2008</td>\n",
       "    </tr>\n",
       "    <tr>\n",
       "      <th>1</th>\n",
       "      <td>1262</td>\n",
       "      <td>0</td>\n",
       "      <td>0</td>\n",
       "      <td>3</td>\n",
       "      <td>978.0</td>\n",
       "      <td>0.0</td>\n",
       "      <td>0.0</td>\n",
       "      <td>1.0</td>\n",
       "      <td>284.0</td>\n",
       "      <td>0</td>\n",
       "      <td>1</td>\n",
       "      <td>2</td>\n",
       "      <td>460.0</td>\n",
       "      <td>2.0</td>\n",
       "      <td>1262</td>\n",
       "      <td>0</td>\n",
       "      <td>2</td>\n",
       "      <td>1</td>\n",
       "      <td>9600</td>\n",
       "      <td>0</td>\n",
       "      <td>20</td>\n",
       "      <td>0.0</td>\n",
       "      <td>0</td>\n",
       "      <td>5</td>\n",
       "      <td>0</td>\n",
       "      <td>8</td>\n",
       "      <td>6</td>\n",
       "      <td>0</td>\n",
       "      <td>181500.0</td>\n",
       "      <td>0</td>\n",
       "      <td>6</td>\n",
       "      <td>1262.0</td>\n",
       "      <td>298</td>\n",
       "      <td>1976</td>\n",
       "      <td>1976</td>\n",
       "      <td>2007</td>\n",
       "    </tr>\n",
       "    <tr>\n",
       "      <th>2</th>\n",
       "      <td>920</td>\n",
       "      <td>866</td>\n",
       "      <td>0</td>\n",
       "      <td>3</td>\n",
       "      <td>486.0</td>\n",
       "      <td>0.0</td>\n",
       "      <td>1.0</td>\n",
       "      <td>0.0</td>\n",
       "      <td>434.0</td>\n",
       "      <td>0</td>\n",
       "      <td>1</td>\n",
       "      <td>2</td>\n",
       "      <td>608.0</td>\n",
       "      <td>2.0</td>\n",
       "      <td>1786</td>\n",
       "      <td>1</td>\n",
       "      <td>3</td>\n",
       "      <td>1</td>\n",
       "      <td>11250</td>\n",
       "      <td>0</td>\n",
       "      <td>60</td>\n",
       "      <td>162.0</td>\n",
       "      <td>0</td>\n",
       "      <td>9</td>\n",
       "      <td>42</td>\n",
       "      <td>5</td>\n",
       "      <td>7</td>\n",
       "      <td>0</td>\n",
       "      <td>223500.0</td>\n",
       "      <td>0</td>\n",
       "      <td>6</td>\n",
       "      <td>920.0</td>\n",
       "      <td>0</td>\n",
       "      <td>2001</td>\n",
       "      <td>2002</td>\n",
       "      <td>2008</td>\n",
       "    </tr>\n",
       "    <tr>\n",
       "      <th>3</th>\n",
       "      <td>961</td>\n",
       "      <td>756</td>\n",
       "      <td>0</td>\n",
       "      <td>3</td>\n",
       "      <td>216.0</td>\n",
       "      <td>0.0</td>\n",
       "      <td>1.0</td>\n",
       "      <td>0.0</td>\n",
       "      <td>540.0</td>\n",
       "      <td>272</td>\n",
       "      <td>1</td>\n",
       "      <td>1</td>\n",
       "      <td>642.0</td>\n",
       "      <td>3.0</td>\n",
       "      <td>1717</td>\n",
       "      <td>0</td>\n",
       "      <td>4</td>\n",
       "      <td>1</td>\n",
       "      <td>9550</td>\n",
       "      <td>0</td>\n",
       "      <td>70</td>\n",
       "      <td>0.0</td>\n",
       "      <td>0</td>\n",
       "      <td>2</td>\n",
       "      <td>35</td>\n",
       "      <td>5</td>\n",
       "      <td>7</td>\n",
       "      <td>0</td>\n",
       "      <td>140000.0</td>\n",
       "      <td>0</td>\n",
       "      <td>7</td>\n",
       "      <td>756.0</td>\n",
       "      <td>0</td>\n",
       "      <td>1915</td>\n",
       "      <td>1970</td>\n",
       "      <td>2006</td>\n",
       "    </tr>\n",
       "    <tr>\n",
       "      <th>4</th>\n",
       "      <td>1145</td>\n",
       "      <td>1053</td>\n",
       "      <td>0</td>\n",
       "      <td>4</td>\n",
       "      <td>655.0</td>\n",
       "      <td>0.0</td>\n",
       "      <td>1.0</td>\n",
       "      <td>0.0</td>\n",
       "      <td>490.0</td>\n",
       "      <td>0</td>\n",
       "      <td>1</td>\n",
       "      <td>2</td>\n",
       "      <td>836.0</td>\n",
       "      <td>3.0</td>\n",
       "      <td>2198</td>\n",
       "      <td>1</td>\n",
       "      <td>5</td>\n",
       "      <td>1</td>\n",
       "      <td>14260</td>\n",
       "      <td>0</td>\n",
       "      <td>60</td>\n",
       "      <td>350.0</td>\n",
       "      <td>0</td>\n",
       "      <td>12</td>\n",
       "      <td>84</td>\n",
       "      <td>5</td>\n",
       "      <td>8</td>\n",
       "      <td>0</td>\n",
       "      <td>250000.0</td>\n",
       "      <td>0</td>\n",
       "      <td>9</td>\n",
       "      <td>1145.0</td>\n",
       "      <td>192</td>\n",
       "      <td>2000</td>\n",
       "      <td>2000</td>\n",
       "      <td>2008</td>\n",
       "    </tr>\n",
       "  </tbody>\n",
       "</table>\n",
       "</div>"
      ],
      "text/plain": [
       "   1stFlrSF  2ndFlrSF  3SsnPorch  BedroomAbvGr  BsmtFinSF1  BsmtFinSF2  \\\n",
       "0  856       854       0          3             706.0       0.0          \n",
       "1  1262      0         0          3             978.0       0.0          \n",
       "2  920       866       0          3             486.0       0.0          \n",
       "3  961       756       0          3             216.0       0.0          \n",
       "4  1145      1053      0          4             655.0       0.0          \n",
       "\n",
       "   BsmtFullBath  BsmtHalfBath  BsmtUnfSF  EnclosedPorch  Fireplaces  FullBath  \\\n",
       "0  1.0           0.0           150.0      0              0           2          \n",
       "1  0.0           1.0           284.0      0              1           2          \n",
       "2  1.0           0.0           434.0      0              1           2          \n",
       "3  1.0           0.0           540.0      272            1           1          \n",
       "4  1.0           0.0           490.0      0              1           2          \n",
       "\n",
       "   GarageArea  GarageCars  GrLivArea  HalfBath  Id  KitchenAbvGr  LotArea  \\\n",
       "0  548.0       2.0         1710       1         1   1             8450      \n",
       "1  460.0       2.0         1262       0         2   1             9600      \n",
       "2  608.0       2.0         1786       1         3   1             11250     \n",
       "3  642.0       3.0         1717       0         4   1             9550      \n",
       "4  836.0       3.0         2198       1         5   1             14260     \n",
       "\n",
       "   LowQualFinSF  MSSubClass  MasVnrArea  MiscVal  MoSold  OpenPorchSF  \\\n",
       "0  0             60          196.0       0        2       61            \n",
       "1  0             20          0.0         0        5       0             \n",
       "2  0             60          162.0       0        9       42            \n",
       "3  0             70          0.0         0        2       35            \n",
       "4  0             60          350.0       0        12      84            \n",
       "\n",
       "   OverallCond  OverallQual  PoolArea  SalePrice  ScreenPorch  TotRmsAbvGrd  \\\n",
       "0  5            7            0         208500.0   0            8              \n",
       "1  8            6            0         181500.0   0            6              \n",
       "2  5            7            0         223500.0   0            6              \n",
       "3  5            7            0         140000.0   0            7              \n",
       "4  5            8            0         250000.0   0            9              \n",
       "\n",
       "   TotalBsmtSF  WoodDeckSF  YearBuilt  YearRemodAdd  YrSold  \n",
       "0  856.0        0           2003       2003          2008    \n",
       "1  1262.0       298         1976       1976          2007    \n",
       "2  920.0        0           2001       2002          2008    \n",
       "3  756.0        0           1915       1970          2006    \n",
       "4  1145.0       192         2000       2000          2008    "
      ]
     },
     "execution_count": 22,
     "metadata": {},
     "output_type": "execute_result"
    }
   ],
   "source": [
    "dfMasterClean[intFilter].head()"
   ]
  },
  {
   "cell_type": "code",
   "execution_count": 23,
   "metadata": {
    "collapsed": true
   },
   "outputs": [],
   "source": [
    "#identify int variables with missing values\n",
    "missingIntVar = list(dfMasterClean[intFilter].columns[dfMasterClean[intFilter].isnull().sum()>0])\n",
    "\n",
    "#remove SalePrice because need it to train on\n",
    "missingIntVar = (missingIntVar[:7] +[missingIntVar[9]])"
   ]
  },
  {
   "cell_type": "code",
   "execution_count": 24,
   "metadata": {},
   "outputs": [
    {
     "data": {
      "text/plain": [
       "['BsmtFinSF1',\n",
       " 'BsmtFinSF2',\n",
       " 'BsmtFullBath',\n",
       " 'BsmtHalfBath',\n",
       " 'BsmtUnfSF',\n",
       " 'GarageArea',\n",
       " 'GarageCars',\n",
       " 'TotalBsmtSF']"
      ]
     },
     "execution_count": 24,
     "metadata": {},
     "output_type": "execute_result"
    }
   ],
   "source": [
    "missingIntVar"
   ]
  },
  {
   "cell_type": "code",
   "execution_count": 25,
   "metadata": {},
   "outputs": [
    {
     "data": {
      "text/plain": [
       "BsmtFinSF1      1\n",
       "BsmtFinSF2      1\n",
       "BsmtFullBath    2\n",
       "BsmtHalfBath    2\n",
       "BsmtUnfSF       1\n",
       "GarageArea      1\n",
       "GarageCars      1\n",
       "TotalBsmtSF     1\n",
       "dtype: int64"
      ]
     },
     "execution_count": 25,
     "metadata": {},
     "output_type": "execute_result"
    }
   ],
   "source": [
    "#count the number of missing values before so see if anything is actually done\n",
    "dfMasterClean[missingIntVar].isnull().sum()"
   ]
  },
  {
   "cell_type": "code",
   "execution_count": 26,
   "metadata": {},
   "outputs": [
    {
     "name": "stdout",
     "output_type": "stream",
     "text": [
      "660   NaN\n",
      "Name: BsmtFinSF1, dtype: float64\n",
      "1116   NaN\n",
      "Name: GarageCars, dtype: float64\n"
     ]
    }
   ],
   "source": [
    "#spot check the one null vaue to see if it will get fixed\n",
    "print(dfMasterClean['BsmtFinSF1'][dfMasterClean['BsmtFinSF1'].isnull()])\n",
    "print(dfMasterClean['GarageCars'][dfMasterClean['GarageCars'].isnull()])"
   ]
  },
  {
   "cell_type": "code",
   "execution_count": 27,
   "metadata": {
    "collapsed": true
   },
   "outputs": [],
   "source": [
    "#However, mean won't work for all these missing points.  Mode would be a better fit for discrete numbers \n",
    "#i.e 2 car garage instead of a 1.8 car garage \n",
    "\"\"\"\n",
    "Mean\n",
    "BsmtFinSF1\n",
    "BsmtFinSF2 \n",
    "BsmtUnfSF\n",
    "GarageArea\n",
    "TotalBsmtSF\n",
    "\n",
    "Mode\n",
    "BsmtFullBath    \n",
    "BsmtHalfBath\n",
    "GarageCars\n",
    "\"\"\"\n",
    "\n",
    "missingMean = ['BsmtFinSF1','BsmtFinSF2','BsmtUnfSF','GarageArea','TotalBsmtSF']\n",
    "missingMode = ['BsmtFullBath','BsmtHalfBath','GarageCars']"
   ]
  },
  {
   "cell_type": "code",
   "execution_count": 28,
   "metadata": {
    "collapsed": true
   },
   "outputs": [],
   "source": [
    "#cleaning missing mean values\n",
    "dfMasterClean[missingMean] = dfMasterClean[missingMean].fillna(dfMasterClean[missingMean].mean())"
   ]
  },
  {
   "cell_type": "code",
   "execution_count": 29,
   "metadata": {},
   "outputs": [
    {
     "data": {
      "text/plain": [
       "BsmtFinSF1     0\n",
       "BsmtFinSF2     0\n",
       "BsmtUnfSF      0\n",
       "GarageArea     0\n",
       "TotalBsmtSF    0\n",
       "dtype: int64"
      ]
     },
     "execution_count": 29,
     "metadata": {},
     "output_type": "execute_result"
    }
   ],
   "source": [
    "dfMasterClean[missingMean].isnull().sum()"
   ]
  },
  {
   "cell_type": "code",
   "execution_count": 30,
   "metadata": {},
   "outputs": [
    {
     "data": {
      "text/plain": [
       "0.0"
      ]
     },
     "execution_count": 30,
     "metadata": {},
     "output_type": "execute_result"
    }
   ],
   "source": [
    "dfMasterClean['BsmtFinSF1'].iloc[660]\n",
    "#says that probably doesn't have a basement which probably is correct"
   ]
  },
  {
   "cell_type": "code",
   "execution_count": 31,
   "metadata": {},
   "outputs": [
    {
     "name": "stdout",
     "output_type": "stream",
     "text": [
      "660   NaN\n",
      "728   NaN\n",
      "Name: BsmtFullBath, dtype: float64\n",
      "660   NaN\n",
      "728   NaN\n",
      "Name: BsmtHalfBath, dtype: float64\n",
      "1116   NaN\n",
      "Name: GarageCars, dtype: float64\n"
     ]
    }
   ],
   "source": [
    "#spot check one mode null value to see if it will get fixed\n",
    "\n",
    "print(dfMasterClean['BsmtFullBath'][dfMasterClean['BsmtFullBath'].isnull()])\n",
    "print(dfMasterClean['BsmtHalfBath'][dfMasterClean['BsmtHalfBath'].isnull()])\n",
    "print(dfMasterClean['GarageCars'][dfMasterClean['GarageCars'].isnull()])"
   ]
  },
  {
   "cell_type": "code",
   "execution_count": 32,
   "metadata": {},
   "outputs": [
    {
     "data": {
      "text/plain": [
       "BsmtFullBath    2\n",
       "BsmtHalfBath    2\n",
       "GarageCars      1\n",
       "dtype: int64"
      ]
     },
     "execution_count": 32,
     "metadata": {},
     "output_type": "execute_result"
    }
   ],
   "source": [
    "dfMasterClean[missingMode].isnull().sum()"
   ]
  },
  {
   "cell_type": "code",
   "execution_count": 33,
   "metadata": {
    "collapsed": true
   },
   "outputs": [],
   "source": [
    "#clean mode values\n",
    "dfMasterClean[missingMode]=dfMasterClean[missingMode].fillna(dfMasterClean[missingMode].mode().iloc[0])\n",
    "\n",
    "#mode is a series, so need to start at the begininning to get it to work\n",
    "#df[cols]=df[cols].fillna(df.mode().iloc[0])"
   ]
  },
  {
   "cell_type": "code",
   "execution_count": 34,
   "metadata": {},
   "outputs": [
    {
     "data": {
      "text/plain": [
       "BsmtFullBath    0\n",
       "BsmtHalfBath    0\n",
       "GarageCars      0\n",
       "dtype: int64"
      ]
     },
     "execution_count": 34,
     "metadata": {},
     "output_type": "execute_result"
    }
   ],
   "source": [
    "dfMasterClean[missingMode].isnull().sum()"
   ]
  },
  {
   "cell_type": "code",
   "execution_count": 35,
   "metadata": {},
   "outputs": [
    {
     "data": {
      "text/plain": [
       "BsmtFinSF1      0\n",
       "BsmtFinSF2      0\n",
       "BsmtFullBath    0\n",
       "BsmtHalfBath    0\n",
       "BsmtUnfSF       0\n",
       "GarageArea      0\n",
       "GarageCars      0\n",
       "TotalBsmtSF     0\n",
       "dtype: int64"
      ]
     },
     "execution_count": 35,
     "metadata": {},
     "output_type": "execute_result"
    }
   ],
   "source": [
    "#Confirm that int values are fixed\n",
    "dfMasterClean[missingIntVar].isnull().sum()"
   ]
  },
  {
   "cell_type": "code",
   "execution_count": 36,
   "metadata": {
    "collapsed": true
   },
   "outputs": [],
   "source": [
    "#cleaning for missing object filters\n",
    "#missingIntVar = list(dfMasterClean[intFilter].columns[dfMasterClean[intFilter].isnull().sum()>0])\n",
    "missingObjVar = list(dfMasterClean[objectFilter].columns[dfMasterClean[objectFilter].isnull().sum()>0])"
   ]
  },
  {
   "cell_type": "code",
   "execution_count": 37,
   "metadata": {},
   "outputs": [
    {
     "data": {
      "text/plain": [
       "BsmtCond        82\n",
       "BsmtExposure    82\n",
       "BsmtFinType1    79\n",
       "BsmtFinType2    80\n",
       "BsmtQual        81\n",
       "Electrical      1 \n",
       "Exterior1st     1 \n",
       "Exterior2nd     1 \n",
       "Functional      2 \n",
       "KitchenQual     1 \n",
       "MSZoning        4 \n",
       "MasVnrType      24\n",
       "SaleType        1 \n",
       "dtype: int64"
      ]
     },
     "execution_count": 37,
     "metadata": {},
     "output_type": "execute_result"
    }
   ],
   "source": [
    "dfMasterClean[missingObjVar].isnull().sum()"
   ]
  },
  {
   "cell_type": "code",
   "execution_count": 38,
   "metadata": {
    "collapsed": true
   },
   "outputs": [],
   "source": [
    "#Chance that I don't need to actually replace some N/A because means it doesn't apply"
   ]
  },
  {
   "cell_type": "code",
   "execution_count": 39,
   "metadata": {
    "collapsed": true
   },
   "outputs": [],
   "source": [
    "#Categorical labeling \n",
    "\n",
    "'''\n",
    "#N/A means doesn't apply\n",
    "BsmtCond \n",
    "BsmtExposure\n",
    "BsmtFinType1\n",
    "BsmtFinType2 \n",
    "BsmtQual\n",
    "\n",
    "#Need to replace N/A\n",
    "Electrical\n",
    "Exterior1st      \n",
    "Exterior2nd \n",
    "Functional   \n",
    "KitchenQual\n",
    "MSZoning\n",
    "MasVnrType\n",
    "SaleType\n",
    "'''\n",
    "\n",
    "ObjToConvert = ['BsmtCond', 'BsmtExposure','BsmtFinType1','BsmtFinType2','BsmtQual']\n",
    "ObjMissingMode = ['Electrical','Exterior1st','Exterior2nd','Functional','KitchenQual','MSZoning','MasVnrType','SaleType']"
   ]
  },
  {
   "cell_type": "code",
   "execution_count": 40,
   "metadata": {},
   "outputs": [
    {
     "data": {
      "text/plain": [
       "Electrical     1 \n",
       "Exterior1st    1 \n",
       "Exterior2nd    1 \n",
       "Functional     2 \n",
       "KitchenQual    1 \n",
       "MSZoning       4 \n",
       "MasVnrType     24\n",
       "SaleType       1 \n",
       "dtype: int64"
      ]
     },
     "execution_count": 40,
     "metadata": {},
     "output_type": "execute_result"
    }
   ],
   "source": [
    "dfMasterClean[ObjMissingMode].isnull().sum()"
   ]
  },
  {
   "cell_type": "code",
   "execution_count": 41,
   "metadata": {
    "collapsed": true
   },
   "outputs": [],
   "source": [
    "#clean missing mode numbers\n",
    "dfMasterClean[ObjMissingMode]=dfMasterClean[ObjMissingMode].fillna(dfMasterClean[ObjMissingMode].mode().iloc[0])"
   ]
  },
  {
   "cell_type": "code",
   "execution_count": 42,
   "metadata": {},
   "outputs": [
    {
     "data": {
      "text/plain": [
       "Electrical     0\n",
       "Exterior1st    0\n",
       "Exterior2nd    0\n",
       "Functional     0\n",
       "KitchenQual    0\n",
       "MSZoning       0\n",
       "MasVnrType     0\n",
       "SaleType       0\n",
       "dtype: int64"
      ]
     },
     "execution_count": 42,
     "metadata": {},
     "output_type": "execute_result"
    }
   ],
   "source": [
    "dfMasterClean[ObjMissingMode].isnull().sum()"
   ]
  },
  {
   "cell_type": "code",
   "execution_count": 43,
   "metadata": {
    "collapsed": true
   },
   "outputs": [],
   "source": [
    "#Filled in missing values.  Now just need to convert categorical objects into integers.  "
   ]
  },
  {
   "cell_type": "code",
   "execution_count": 44,
   "metadata": {},
   "outputs": [
    {
     "name": "stdout",
     "output_type": "stream",
     "text": [
      "<class 'pandas.core.frame.DataFrame'>\n",
      "Int64Index: 2919 entries, 0 to 1458\n",
      "Data columns (total 33 columns):\n",
      "BldgType         2919 non-null object\n",
      "BsmtCond         2837 non-null object\n",
      "BsmtExposure     2837 non-null object\n",
      "BsmtFinType1     2840 non-null object\n",
      "BsmtFinType2     2839 non-null object\n",
      "BsmtQual         2838 non-null object\n",
      "CentralAir       2919 non-null object\n",
      "Condition1       2919 non-null object\n",
      "Condition2       2919 non-null object\n",
      "DataType         2919 non-null object\n",
      "Electrical       2919 non-null object\n",
      "ExterCond        2919 non-null object\n",
      "ExterQual        2919 non-null object\n",
      "Exterior1st      2919 non-null object\n",
      "Exterior2nd      2919 non-null object\n",
      "Foundation       2919 non-null object\n",
      "Functional       2919 non-null object\n",
      "Heating          2919 non-null object\n",
      "HeatingQC        2919 non-null object\n",
      "HouseStyle       2919 non-null object\n",
      "KitchenQual      2919 non-null object\n",
      "LandContour      2919 non-null object\n",
      "LandSlope        2919 non-null object\n",
      "LotConfig        2919 non-null object\n",
      "LotShape         2919 non-null object\n",
      "MSZoning         2919 non-null object\n",
      "MasVnrType       2919 non-null object\n",
      "Neighborhood     2919 non-null object\n",
      "PavedDrive       2919 non-null object\n",
      "RoofMatl         2919 non-null object\n",
      "RoofStyle        2919 non-null object\n",
      "SaleCondition    2919 non-null object\n",
      "SaleType         2919 non-null object\n",
      "dtypes: object(33)\n",
      "memory usage: 855.4+ KB\n"
     ]
    }
   ],
   "source": [
    "#converting missing values\n",
    "dfMasterClean[objectFilter].info() #check to see how it is before"
   ]
  },
  {
   "cell_type": "code",
   "execution_count": 45,
   "metadata": {
    "collapsed": true
   },
   "outputs": [],
   "source": [
    "#Convert objects into ints\n",
    "\n",
    "#load Label Encoder\n",
    "le = preprocessing.LabelEncoder()"
   ]
  },
  {
   "cell_type": "code",
   "execution_count": 46,
   "metadata": {
    "collapsed": true
   },
   "outputs": [],
   "source": [
    "#converting all objects to strings (sometimes label encoder reads objects as floats instead of string)\n",
    "dfMasterClean[objectFilter] = dfMasterClean[objectFilter].astype(str)"
   ]
  },
  {
   "cell_type": "code",
   "execution_count": 47,
   "metadata": {},
   "outputs": [
    {
     "name": "stdout",
     "output_type": "stream",
     "text": [
      "<class 'pandas.core.frame.DataFrame'>\n",
      "Int64Index: 2919 entries, 0 to 1458\n",
      "Data columns (total 33 columns):\n",
      "BldgType         2919 non-null object\n",
      "BsmtCond         2919 non-null object\n",
      "BsmtExposure     2919 non-null object\n",
      "BsmtFinType1     2919 non-null object\n",
      "BsmtFinType2     2919 non-null object\n",
      "BsmtQual         2919 non-null object\n",
      "CentralAir       2919 non-null object\n",
      "Condition1       2919 non-null object\n",
      "Condition2       2919 non-null object\n",
      "DataType         2919 non-null object\n",
      "Electrical       2919 non-null object\n",
      "ExterCond        2919 non-null object\n",
      "ExterQual        2919 non-null object\n",
      "Exterior1st      2919 non-null object\n",
      "Exterior2nd      2919 non-null object\n",
      "Foundation       2919 non-null object\n",
      "Functional       2919 non-null object\n",
      "Heating          2919 non-null object\n",
      "HeatingQC        2919 non-null object\n",
      "HouseStyle       2919 non-null object\n",
      "KitchenQual      2919 non-null object\n",
      "LandContour      2919 non-null object\n",
      "LandSlope        2919 non-null object\n",
      "LotConfig        2919 non-null object\n",
      "LotShape         2919 non-null object\n",
      "MSZoning         2919 non-null object\n",
      "MasVnrType       2919 non-null object\n",
      "Neighborhood     2919 non-null object\n",
      "PavedDrive       2919 non-null object\n",
      "RoofMatl         2919 non-null object\n",
      "RoofStyle        2919 non-null object\n",
      "SaleCondition    2919 non-null object\n",
      "SaleType         2919 non-null object\n",
      "dtypes: object(33)\n",
      "memory usage: 855.4+ KB\n"
     ]
    }
   ],
   "source": [
    "dfMasterClean[objectFilter].info()"
   ]
  },
  {
   "cell_type": "code",
   "execution_count": 48,
   "metadata": {
    "collapsed": true
   },
   "outputs": [],
   "source": [
    "#applies the label encoder transform to all object variables\n",
    "\n",
    "dfMasterClean[objectFilter] = dfMasterClean[objectFilter].apply(le.fit_transform)"
   ]
  },
  {
   "cell_type": "code",
   "execution_count": 49,
   "metadata": {},
   "outputs": [
    {
     "data": {
      "text/html": [
       "<div>\n",
       "<style>\n",
       "    .dataframe thead tr:only-child th {\n",
       "        text-align: right;\n",
       "    }\n",
       "\n",
       "    .dataframe thead th {\n",
       "        text-align: left;\n",
       "    }\n",
       "\n",
       "    .dataframe tbody tr th {\n",
       "        vertical-align: top;\n",
       "    }\n",
       "</style>\n",
       "<table border=\"1\" class=\"dataframe\">\n",
       "  <thead>\n",
       "    <tr style=\"text-align: right;\">\n",
       "      <th></th>\n",
       "      <th>1stFlrSF</th>\n",
       "      <th>2ndFlrSF</th>\n",
       "      <th>3SsnPorch</th>\n",
       "      <th>BedroomAbvGr</th>\n",
       "      <th>BldgType</th>\n",
       "      <th>BsmtCond</th>\n",
       "      <th>BsmtExposure</th>\n",
       "      <th>BsmtFinSF1</th>\n",
       "      <th>BsmtFinSF2</th>\n",
       "      <th>BsmtFinType1</th>\n",
       "      <th>BsmtFinType2</th>\n",
       "      <th>BsmtFullBath</th>\n",
       "      <th>BsmtHalfBath</th>\n",
       "      <th>BsmtQual</th>\n",
       "      <th>BsmtUnfSF</th>\n",
       "      <th>CentralAir</th>\n",
       "      <th>Condition1</th>\n",
       "      <th>Condition2</th>\n",
       "      <th>DataType</th>\n",
       "      <th>Electrical</th>\n",
       "      <th>EnclosedPorch</th>\n",
       "      <th>ExterCond</th>\n",
       "      <th>ExterQual</th>\n",
       "      <th>Exterior1st</th>\n",
       "      <th>Exterior2nd</th>\n",
       "      <th>Fireplaces</th>\n",
       "      <th>Foundation</th>\n",
       "      <th>FullBath</th>\n",
       "      <th>Functional</th>\n",
       "      <th>GarageArea</th>\n",
       "      <th>GarageCars</th>\n",
       "      <th>GrLivArea</th>\n",
       "      <th>HalfBath</th>\n",
       "      <th>Heating</th>\n",
       "      <th>HeatingQC</th>\n",
       "      <th>HouseStyle</th>\n",
       "      <th>Id</th>\n",
       "      <th>KitchenAbvGr</th>\n",
       "      <th>KitchenQual</th>\n",
       "      <th>LandContour</th>\n",
       "      <th>LandSlope</th>\n",
       "      <th>LotArea</th>\n",
       "      <th>LotConfig</th>\n",
       "      <th>LotShape</th>\n",
       "      <th>LowQualFinSF</th>\n",
       "      <th>MSSubClass</th>\n",
       "      <th>MSZoning</th>\n",
       "      <th>MasVnrArea</th>\n",
       "      <th>MasVnrType</th>\n",
       "      <th>MiscVal</th>\n",
       "      <th>MoSold</th>\n",
       "      <th>Neighborhood</th>\n",
       "      <th>OpenPorchSF</th>\n",
       "      <th>OverallCond</th>\n",
       "      <th>OverallQual</th>\n",
       "      <th>PavedDrive</th>\n",
       "      <th>PoolArea</th>\n",
       "      <th>RoofMatl</th>\n",
       "      <th>RoofStyle</th>\n",
       "      <th>SaleCondition</th>\n",
       "      <th>SalePrice</th>\n",
       "      <th>SaleType</th>\n",
       "      <th>ScreenPorch</th>\n",
       "      <th>TotRmsAbvGrd</th>\n",
       "      <th>TotalBsmtSF</th>\n",
       "      <th>WoodDeckSF</th>\n",
       "      <th>YearBuilt</th>\n",
       "      <th>YearRemodAdd</th>\n",
       "      <th>YrSold</th>\n",
       "    </tr>\n",
       "  </thead>\n",
       "  <tbody>\n",
       "    <tr>\n",
       "      <th>0</th>\n",
       "      <td>856</td>\n",
       "      <td>854</td>\n",
       "      <td>0</td>\n",
       "      <td>3</td>\n",
       "      <td>0</td>\n",
       "      <td>3</td>\n",
       "      <td>3</td>\n",
       "      <td>706.0</td>\n",
       "      <td>0.0</td>\n",
       "      <td>2</td>\n",
       "      <td>5</td>\n",
       "      <td>1.0</td>\n",
       "      <td>0.0</td>\n",
       "      <td>2</td>\n",
       "      <td>150.0</td>\n",
       "      <td>1</td>\n",
       "      <td>2</td>\n",
       "      <td>2</td>\n",
       "      <td>1</td>\n",
       "      <td>4</td>\n",
       "      <td>0</td>\n",
       "      <td>4</td>\n",
       "      <td>2</td>\n",
       "      <td>12</td>\n",
       "      <td>13</td>\n",
       "      <td>0</td>\n",
       "      <td>2</td>\n",
       "      <td>2</td>\n",
       "      <td>6</td>\n",
       "      <td>548.0</td>\n",
       "      <td>2.0</td>\n",
       "      <td>1710</td>\n",
       "      <td>1</td>\n",
       "      <td>1</td>\n",
       "      <td>0</td>\n",
       "      <td>5</td>\n",
       "      <td>1</td>\n",
       "      <td>1</td>\n",
       "      <td>2</td>\n",
       "      <td>3</td>\n",
       "      <td>0</td>\n",
       "      <td>8450</td>\n",
       "      <td>4</td>\n",
       "      <td>3</td>\n",
       "      <td>0</td>\n",
       "      <td>60</td>\n",
       "      <td>3</td>\n",
       "      <td>196.0</td>\n",
       "      <td>1</td>\n",
       "      <td>0</td>\n",
       "      <td>2</td>\n",
       "      <td>5</td>\n",
       "      <td>61</td>\n",
       "      <td>5</td>\n",
       "      <td>7</td>\n",
       "      <td>2</td>\n",
       "      <td>0</td>\n",
       "      <td>1</td>\n",
       "      <td>1</td>\n",
       "      <td>4</td>\n",
       "      <td>208500.0</td>\n",
       "      <td>8</td>\n",
       "      <td>0</td>\n",
       "      <td>8</td>\n",
       "      <td>856.0</td>\n",
       "      <td>0</td>\n",
       "      <td>2003</td>\n",
       "      <td>2003</td>\n",
       "      <td>2008</td>\n",
       "    </tr>\n",
       "    <tr>\n",
       "      <th>1</th>\n",
       "      <td>1262</td>\n",
       "      <td>0</td>\n",
       "      <td>0</td>\n",
       "      <td>3</td>\n",
       "      <td>0</td>\n",
       "      <td>3</td>\n",
       "      <td>1</td>\n",
       "      <td>978.0</td>\n",
       "      <td>0.0</td>\n",
       "      <td>0</td>\n",
       "      <td>5</td>\n",
       "      <td>0.0</td>\n",
       "      <td>1.0</td>\n",
       "      <td>2</td>\n",
       "      <td>284.0</td>\n",
       "      <td>1</td>\n",
       "      <td>1</td>\n",
       "      <td>2</td>\n",
       "      <td>1</td>\n",
       "      <td>4</td>\n",
       "      <td>0</td>\n",
       "      <td>4</td>\n",
       "      <td>3</td>\n",
       "      <td>8</td>\n",
       "      <td>8</td>\n",
       "      <td>1</td>\n",
       "      <td>1</td>\n",
       "      <td>2</td>\n",
       "      <td>6</td>\n",
       "      <td>460.0</td>\n",
       "      <td>2.0</td>\n",
       "      <td>1262</td>\n",
       "      <td>0</td>\n",
       "      <td>1</td>\n",
       "      <td>0</td>\n",
       "      <td>2</td>\n",
       "      <td>2</td>\n",
       "      <td>1</td>\n",
       "      <td>3</td>\n",
       "      <td>3</td>\n",
       "      <td>0</td>\n",
       "      <td>9600</td>\n",
       "      <td>2</td>\n",
       "      <td>3</td>\n",
       "      <td>0</td>\n",
       "      <td>20</td>\n",
       "      <td>3</td>\n",
       "      <td>0.0</td>\n",
       "      <td>2</td>\n",
       "      <td>0</td>\n",
       "      <td>5</td>\n",
       "      <td>24</td>\n",
       "      <td>0</td>\n",
       "      <td>8</td>\n",
       "      <td>6</td>\n",
       "      <td>2</td>\n",
       "      <td>0</td>\n",
       "      <td>1</td>\n",
       "      <td>1</td>\n",
       "      <td>4</td>\n",
       "      <td>181500.0</td>\n",
       "      <td>8</td>\n",
       "      <td>0</td>\n",
       "      <td>6</td>\n",
       "      <td>1262.0</td>\n",
       "      <td>298</td>\n",
       "      <td>1976</td>\n",
       "      <td>1976</td>\n",
       "      <td>2007</td>\n",
       "    </tr>\n",
       "    <tr>\n",
       "      <th>2</th>\n",
       "      <td>920</td>\n",
       "      <td>866</td>\n",
       "      <td>0</td>\n",
       "      <td>3</td>\n",
       "      <td>0</td>\n",
       "      <td>3</td>\n",
       "      <td>2</td>\n",
       "      <td>486.0</td>\n",
       "      <td>0.0</td>\n",
       "      <td>2</td>\n",
       "      <td>5</td>\n",
       "      <td>1.0</td>\n",
       "      <td>0.0</td>\n",
       "      <td>2</td>\n",
       "      <td>434.0</td>\n",
       "      <td>1</td>\n",
       "      <td>2</td>\n",
       "      <td>2</td>\n",
       "      <td>1</td>\n",
       "      <td>4</td>\n",
       "      <td>0</td>\n",
       "      <td>4</td>\n",
       "      <td>2</td>\n",
       "      <td>12</td>\n",
       "      <td>13</td>\n",
       "      <td>1</td>\n",
       "      <td>2</td>\n",
       "      <td>2</td>\n",
       "      <td>6</td>\n",
       "      <td>608.0</td>\n",
       "      <td>2.0</td>\n",
       "      <td>1786</td>\n",
       "      <td>1</td>\n",
       "      <td>1</td>\n",
       "      <td>0</td>\n",
       "      <td>5</td>\n",
       "      <td>3</td>\n",
       "      <td>1</td>\n",
       "      <td>2</td>\n",
       "      <td>3</td>\n",
       "      <td>0</td>\n",
       "      <td>11250</td>\n",
       "      <td>4</td>\n",
       "      <td>0</td>\n",
       "      <td>0</td>\n",
       "      <td>60</td>\n",
       "      <td>3</td>\n",
       "      <td>162.0</td>\n",
       "      <td>1</td>\n",
       "      <td>0</td>\n",
       "      <td>9</td>\n",
       "      <td>5</td>\n",
       "      <td>42</td>\n",
       "      <td>5</td>\n",
       "      <td>7</td>\n",
       "      <td>2</td>\n",
       "      <td>0</td>\n",
       "      <td>1</td>\n",
       "      <td>1</td>\n",
       "      <td>4</td>\n",
       "      <td>223500.0</td>\n",
       "      <td>8</td>\n",
       "      <td>0</td>\n",
       "      <td>6</td>\n",
       "      <td>920.0</td>\n",
       "      <td>0</td>\n",
       "      <td>2001</td>\n",
       "      <td>2002</td>\n",
       "      <td>2008</td>\n",
       "    </tr>\n",
       "    <tr>\n",
       "      <th>3</th>\n",
       "      <td>961</td>\n",
       "      <td>756</td>\n",
       "      <td>0</td>\n",
       "      <td>3</td>\n",
       "      <td>0</td>\n",
       "      <td>1</td>\n",
       "      <td>3</td>\n",
       "      <td>216.0</td>\n",
       "      <td>0.0</td>\n",
       "      <td>0</td>\n",
       "      <td>5</td>\n",
       "      <td>1.0</td>\n",
       "      <td>0.0</td>\n",
       "      <td>3</td>\n",
       "      <td>540.0</td>\n",
       "      <td>1</td>\n",
       "      <td>2</td>\n",
       "      <td>2</td>\n",
       "      <td>1</td>\n",
       "      <td>4</td>\n",
       "      <td>272</td>\n",
       "      <td>4</td>\n",
       "      <td>3</td>\n",
       "      <td>13</td>\n",
       "      <td>15</td>\n",
       "      <td>1</td>\n",
       "      <td>0</td>\n",
       "      <td>1</td>\n",
       "      <td>6</td>\n",
       "      <td>642.0</td>\n",
       "      <td>3.0</td>\n",
       "      <td>1717</td>\n",
       "      <td>0</td>\n",
       "      <td>1</td>\n",
       "      <td>2</td>\n",
       "      <td>5</td>\n",
       "      <td>4</td>\n",
       "      <td>1</td>\n",
       "      <td>2</td>\n",
       "      <td>3</td>\n",
       "      <td>0</td>\n",
       "      <td>9550</td>\n",
       "      <td>0</td>\n",
       "      <td>0</td>\n",
       "      <td>0</td>\n",
       "      <td>70</td>\n",
       "      <td>3</td>\n",
       "      <td>0.0</td>\n",
       "      <td>2</td>\n",
       "      <td>0</td>\n",
       "      <td>2</td>\n",
       "      <td>6</td>\n",
       "      <td>35</td>\n",
       "      <td>5</td>\n",
       "      <td>7</td>\n",
       "      <td>2</td>\n",
       "      <td>0</td>\n",
       "      <td>1</td>\n",
       "      <td>1</td>\n",
       "      <td>0</td>\n",
       "      <td>140000.0</td>\n",
       "      <td>8</td>\n",
       "      <td>0</td>\n",
       "      <td>7</td>\n",
       "      <td>756.0</td>\n",
       "      <td>0</td>\n",
       "      <td>1915</td>\n",
       "      <td>1970</td>\n",
       "      <td>2006</td>\n",
       "    </tr>\n",
       "    <tr>\n",
       "      <th>4</th>\n",
       "      <td>1145</td>\n",
       "      <td>1053</td>\n",
       "      <td>0</td>\n",
       "      <td>4</td>\n",
       "      <td>0</td>\n",
       "      <td>3</td>\n",
       "      <td>0</td>\n",
       "      <td>655.0</td>\n",
       "      <td>0.0</td>\n",
       "      <td>2</td>\n",
       "      <td>5</td>\n",
       "      <td>1.0</td>\n",
       "      <td>0.0</td>\n",
       "      <td>2</td>\n",
       "      <td>490.0</td>\n",
       "      <td>1</td>\n",
       "      <td>2</td>\n",
       "      <td>2</td>\n",
       "      <td>1</td>\n",
       "      <td>4</td>\n",
       "      <td>0</td>\n",
       "      <td>4</td>\n",
       "      <td>2</td>\n",
       "      <td>12</td>\n",
       "      <td>13</td>\n",
       "      <td>1</td>\n",
       "      <td>2</td>\n",
       "      <td>2</td>\n",
       "      <td>6</td>\n",
       "      <td>836.0</td>\n",
       "      <td>3.0</td>\n",
       "      <td>2198</td>\n",
       "      <td>1</td>\n",
       "      <td>1</td>\n",
       "      <td>0</td>\n",
       "      <td>5</td>\n",
       "      <td>5</td>\n",
       "      <td>1</td>\n",
       "      <td>2</td>\n",
       "      <td>3</td>\n",
       "      <td>0</td>\n",
       "      <td>14260</td>\n",
       "      <td>2</td>\n",
       "      <td>0</td>\n",
       "      <td>0</td>\n",
       "      <td>60</td>\n",
       "      <td>3</td>\n",
       "      <td>350.0</td>\n",
       "      <td>1</td>\n",
       "      <td>0</td>\n",
       "      <td>12</td>\n",
       "      <td>15</td>\n",
       "      <td>84</td>\n",
       "      <td>5</td>\n",
       "      <td>8</td>\n",
       "      <td>2</td>\n",
       "      <td>0</td>\n",
       "      <td>1</td>\n",
       "      <td>1</td>\n",
       "      <td>4</td>\n",
       "      <td>250000.0</td>\n",
       "      <td>8</td>\n",
       "      <td>0</td>\n",
       "      <td>9</td>\n",
       "      <td>1145.0</td>\n",
       "      <td>192</td>\n",
       "      <td>2000</td>\n",
       "      <td>2000</td>\n",
       "      <td>2008</td>\n",
       "    </tr>\n",
       "  </tbody>\n",
       "</table>\n",
       "</div>"
      ],
      "text/plain": [
       "   1stFlrSF  2ndFlrSF  3SsnPorch  BedroomAbvGr  BldgType  BsmtCond  \\\n",
       "0  856       854       0          3             0         3          \n",
       "1  1262      0         0          3             0         3          \n",
       "2  920       866       0          3             0         3          \n",
       "3  961       756       0          3             0         1          \n",
       "4  1145      1053      0          4             0         3          \n",
       "\n",
       "   BsmtExposure  BsmtFinSF1  BsmtFinSF2  BsmtFinType1  BsmtFinType2  \\\n",
       "0  3             706.0       0.0         2             5              \n",
       "1  1             978.0       0.0         0             5              \n",
       "2  2             486.0       0.0         2             5              \n",
       "3  3             216.0       0.0         0             5              \n",
       "4  0             655.0       0.0         2             5              \n",
       "\n",
       "   BsmtFullBath  BsmtHalfBath  BsmtQual  BsmtUnfSF  CentralAir  Condition1  \\\n",
       "0  1.0           0.0           2         150.0      1           2            \n",
       "1  0.0           1.0           2         284.0      1           1            \n",
       "2  1.0           0.0           2         434.0      1           2            \n",
       "3  1.0           0.0           3         540.0      1           2            \n",
       "4  1.0           0.0           2         490.0      1           2            \n",
       "\n",
       "   Condition2  DataType  Electrical  EnclosedPorch  ExterCond  ExterQual  \\\n",
       "0  2           1         4           0              4          2           \n",
       "1  2           1         4           0              4          3           \n",
       "2  2           1         4           0              4          2           \n",
       "3  2           1         4           272            4          3           \n",
       "4  2           1         4           0              4          2           \n",
       "\n",
       "   Exterior1st  Exterior2nd  Fireplaces  Foundation  FullBath  Functional  \\\n",
       "0  12           13           0           2           2         6            \n",
       "1  8            8            1           1           2         6            \n",
       "2  12           13           1           2           2         6            \n",
       "3  13           15           1           0           1         6            \n",
       "4  12           13           1           2           2         6            \n",
       "\n",
       "   GarageArea  GarageCars  GrLivArea  HalfBath  Heating  HeatingQC  \\\n",
       "0  548.0       2.0         1710       1         1        0           \n",
       "1  460.0       2.0         1262       0         1        0           \n",
       "2  608.0       2.0         1786       1         1        0           \n",
       "3  642.0       3.0         1717       0         1        2           \n",
       "4  836.0       3.0         2198       1         1        0           \n",
       "\n",
       "   HouseStyle  Id  KitchenAbvGr  KitchenQual  LandContour  LandSlope  LotArea  \\\n",
       "0  5           1   1             2            3            0          8450      \n",
       "1  2           2   1             3            3            0          9600      \n",
       "2  5           3   1             2            3            0          11250     \n",
       "3  5           4   1             2            3            0          9550      \n",
       "4  5           5   1             2            3            0          14260     \n",
       "\n",
       "   LotConfig  LotShape  LowQualFinSF  MSSubClass  MSZoning  MasVnrArea  \\\n",
       "0  4          3         0             60          3         196.0        \n",
       "1  2          3         0             20          3         0.0          \n",
       "2  4          0         0             60          3         162.0        \n",
       "3  0          0         0             70          3         0.0          \n",
       "4  2          0         0             60          3         350.0        \n",
       "\n",
       "   MasVnrType  MiscVal  MoSold  Neighborhood  OpenPorchSF  OverallCond  \\\n",
       "0  1           0        2       5             61           5             \n",
       "1  2           0        5       24            0            8             \n",
       "2  1           0        9       5             42           5             \n",
       "3  2           0        2       6             35           5             \n",
       "4  1           0        12      15            84           5             \n",
       "\n",
       "   OverallQual  PavedDrive  PoolArea  RoofMatl  RoofStyle  SaleCondition  \\\n",
       "0  7            2           0         1         1          4               \n",
       "1  6            2           0         1         1          4               \n",
       "2  7            2           0         1         1          4               \n",
       "3  7            2           0         1         1          0               \n",
       "4  8            2           0         1         1          4               \n",
       "\n",
       "   SalePrice  SaleType  ScreenPorch  TotRmsAbvGrd  TotalBsmtSF  WoodDeckSF  \\\n",
       "0  208500.0   8         0            8             856.0        0            \n",
       "1  181500.0   8         0            6             1262.0       298          \n",
       "2  223500.0   8         0            6             920.0        0            \n",
       "3  140000.0   8         0            7             756.0        0            \n",
       "4  250000.0   8         0            9             1145.0       192          \n",
       "\n",
       "   YearBuilt  YearRemodAdd  YrSold  \n",
       "0  2003       2003          2008    \n",
       "1  1976       1976          2007    \n",
       "2  2001       2002          2008    \n",
       "3  1915       1970          2006    \n",
       "4  2000       2000          2008    "
      ]
     },
     "execution_count": 49,
     "metadata": {},
     "output_type": "execute_result"
    }
   ],
   "source": [
    "dfMasterClean.head()\n",
    "#should have no objects and I don't"
   ]
  },
  {
   "cell_type": "code",
   "execution_count": 50,
   "metadata": {},
   "outputs": [
    {
     "name": "stdout",
     "output_type": "stream",
     "text": [
      "<class 'pandas.core.frame.DataFrame'>\n",
      "Int64Index: 2919 entries, 0 to 1458\n",
      "Data columns (total 69 columns):\n",
      "1stFlrSF         2919 non-null int64\n",
      "2ndFlrSF         2919 non-null int64\n",
      "3SsnPorch        2919 non-null int64\n",
      "BedroomAbvGr     2919 non-null int64\n",
      "BldgType         2919 non-null int64\n",
      "BsmtCond         2919 non-null int64\n",
      "BsmtExposure     2919 non-null int64\n",
      "BsmtFinSF1       2919 non-null float64\n",
      "BsmtFinSF2       2919 non-null float64\n",
      "BsmtFinType1     2919 non-null int64\n",
      "BsmtFinType2     2919 non-null int64\n",
      "BsmtFullBath     2919 non-null float64\n",
      "BsmtHalfBath     2919 non-null float64\n",
      "BsmtQual         2919 non-null int64\n",
      "BsmtUnfSF        2919 non-null float64\n",
      "CentralAir       2919 non-null int64\n",
      "Condition1       2919 non-null int64\n",
      "Condition2       2919 non-null int64\n",
      "DataType         2919 non-null int64\n",
      "Electrical       2919 non-null int64\n",
      "EnclosedPorch    2919 non-null int64\n",
      "ExterCond        2919 non-null int64\n",
      "ExterQual        2919 non-null int64\n",
      "Exterior1st      2919 non-null int64\n",
      "Exterior2nd      2919 non-null int64\n",
      "Fireplaces       2919 non-null int64\n",
      "Foundation       2919 non-null int64\n",
      "FullBath         2919 non-null int64\n",
      "Functional       2919 non-null int64\n",
      "GarageArea       2919 non-null float64\n",
      "GarageCars       2919 non-null float64\n",
      "GrLivArea        2919 non-null int64\n",
      "HalfBath         2919 non-null int64\n",
      "Heating          2919 non-null int64\n",
      "HeatingQC        2919 non-null int64\n",
      "HouseStyle       2919 non-null int64\n",
      "Id               2919 non-null int64\n",
      "KitchenAbvGr     2919 non-null int64\n",
      "KitchenQual      2919 non-null int64\n",
      "LandContour      2919 non-null int64\n",
      "LandSlope        2919 non-null int64\n",
      "LotArea          2919 non-null int64\n",
      "LotConfig        2919 non-null int64\n",
      "LotShape         2919 non-null int64\n",
      "LowQualFinSF     2919 non-null int64\n",
      "MSSubClass       2919 non-null int64\n",
      "MSZoning         2919 non-null int64\n",
      "MasVnrArea       2896 non-null float64\n",
      "MasVnrType       2919 non-null int64\n",
      "MiscVal          2919 non-null int64\n",
      "MoSold           2919 non-null int64\n",
      "Neighborhood     2919 non-null int64\n",
      "OpenPorchSF      2919 non-null int64\n",
      "OverallCond      2919 non-null int64\n",
      "OverallQual      2919 non-null int64\n",
      "PavedDrive       2919 non-null int64\n",
      "PoolArea         2919 non-null int64\n",
      "RoofMatl         2919 non-null int64\n",
      "RoofStyle        2919 non-null int64\n",
      "SaleCondition    2919 non-null int64\n",
      "SalePrice        1460 non-null float64\n",
      "SaleType         2919 non-null int64\n",
      "ScreenPorch      2919 non-null int64\n",
      "TotRmsAbvGrd     2919 non-null int64\n",
      "TotalBsmtSF      2919 non-null float64\n",
      "WoodDeckSF       2919 non-null int64\n",
      "YearBuilt        2919 non-null int64\n",
      "YearRemodAdd     2919 non-null int64\n",
      "YrSold           2919 non-null int64\n",
      "dtypes: float64(10), int64(59)\n",
      "memory usage: 1.6 MB\n"
     ]
    }
   ],
   "source": [
    "dfMasterClean.info()\n",
    "#confirming no object variables"
   ]
  },
  {
   "cell_type": "code",
   "execution_count": 51,
   "metadata": {
    "collapsed": true
   },
   "outputs": [],
   "source": [
    "#save to CVS\n",
    "dfMasterClean.to_csv('FinalCleanedData.csv')"
   ]
  },
  {
   "cell_type": "markdown",
   "metadata": {
    "collapsed": true
   },
   "source": [
    "Cleaning Data Steps + Thoughts\n",
    "\n",
    "* add train/test column to train/test data respectively and join them together.  Anything done to one is done to both\n",
    "* drop columns where too much of the data is missing because will be unable to impute missing stuff\n",
    "    * For this excerise I dropped if more than 5% of data was missing. But is there a good threshold?\n",
    "    * 1% or 10%?  \n",
    "* drop columns where not unique values are tiny and most of data falls in one category\n",
    "* use fillna to fill in missing values\n",
    "    * for int variables, need to figure out the benefits of using mean, median, or mode (which was helpful for when number should be discrete)\n",
    "    * for categorical variables, use mode\n",
    "* use label encoder to convert categorical variables into numerical ones\n",
    "    * to what extent does the number conversion matter?  Does the number/order of the numbers affect most ML algorithms? \n",
    "    * doesn't make sense to me to create tons and tons of dummy variables for 33 different variables"
   ]
  }
 ],
 "metadata": {
  "kernelspec": {
   "display_name": "Python 3",
   "language": "python",
   "name": "python3"
  },
  "language_info": {
   "codemirror_mode": {
    "name": "ipython",
    "version": 3
   },
   "file_extension": ".py",
   "mimetype": "text/x-python",
   "name": "python",
   "nbconvert_exporter": "python",
   "pygments_lexer": "ipython3",
   "version": "3.6.3"
  }
 },
 "nbformat": 4,
 "nbformat_minor": 2
}
