{
 "cells": [
  {
   "cell_type": "code",
   "execution_count": 1,
   "metadata": {
    "collapsed": true
   },
   "outputs": [],
   "source": [
    "import pandas as pd\n",
    "import matplotlib.pyplot as plt\n",
    "import seaborn as sns\n",
    "import numpy as np\n",
    "\n",
    "%matplotlib inline"
   ]
  },
  {
   "cell_type": "code",
   "execution_count": 2,
   "metadata": {
    "collapsed": true
   },
   "outputs": [],
   "source": [
    "#import data\n",
    "df = pd.read_csv('dfFeatureEngineering.csv',index_col =0)"
   ]
  },
  {
   "cell_type": "code",
   "execution_count": 3,
   "metadata": {
    "collapsed": true
   },
   "outputs": [],
   "source": [
    "#list of questions and ideas\n",
    "\n",
    "#does training the data on the log of sales price make a difference for KNN?"
   ]
  },
  {
   "cell_type": "code",
   "execution_count": 4,
   "metadata": {
    "collapsed": true
   },
   "outputs": [],
   "source": [
    "#filters for looking at data\n",
    "\n",
    "objectFilter = ['BldgType', 'BsmtCond', 'BsmtExposure', 'BsmtFinType1', 'BsmtFinType2',\n",
    "       'BsmtQual', 'CentralAir', 'Condition1', 'Condition2', 'DataType',\n",
    "       'Electrical', 'ExterCond', 'ExterQual', 'Exterior1st', 'Exterior2nd',\n",
    "       'Foundation', 'Functional', 'Heating', 'HeatingQC', 'HouseStyle',\n",
    "       'KitchenQual', 'LandContour', 'LandSlope', 'LotConfig', 'LotShape',\n",
    "       'MSZoning', 'MasVnrType', 'Neighborhood', 'PavedDrive', 'RoofMatl',\n",
    "       'RoofStyle', 'SaleCondition', 'SaleType']\n",
    "\n",
    "intFilter = ['1stFlrSF', '2ndFlrSF', '3SsnPorch', 'BedroomAbvGr', 'BsmtFinSF1',\n",
    "       'BsmtFinSF2', 'BsmtFullBath', 'BsmtHalfBath', 'BsmtUnfSF',\n",
    "       'EnclosedPorch', 'Fireplaces', 'FullBath', 'GarageArea', 'GarageCars',\n",
    "       'GrLivArea', 'HalfBath', 'Id', 'KitchenAbvGr', 'LotArea',\n",
    "       'LowQualFinSF', 'MSSubClass', 'MasVnrArea', 'MiscVal', 'MoSold',\n",
    "       'OpenPorchSF', 'OverallCond', 'OverallQual', 'PoolArea', 'SalePrice',\n",
    "       'ScreenPorch', 'TotRmsAbvGrd', 'TotalBsmtSF', 'WoodDeckSF', 'YearBuilt',\n",
    "       'YearRemodAdd', 'YrSold']\n",
    "\n",
    "OrgFeatures = [objectFilter + intFilter]\n",
    "\n",
    "FeatEnginer = list(df.columns[-9:])\n",
    "\n",
    "intFilterAll = intFilter + FeatEnginer"
   ]
  },
  {
   "cell_type": "code",
   "execution_count": 5,
   "metadata": {},
   "outputs": [
    {
     "name": "stdout",
     "output_type": "stream",
     "text": [
      "['1stFlrSF', '2ndFlrSF', '3SsnPorch', 'BedroomAbvGr', 'BsmtFinSF1', 'BsmtFinSF2', 'BsmtFullBath', 'BsmtHalfBath', 'BsmtUnfSF', 'EnclosedPorch', 'Fireplaces', 'FullBath', 'GarageArea', 'GarageCars', 'GrLivArea', 'HalfBath', 'Id', 'KitchenAbvGr', 'LotArea', 'LowQualFinSF', 'MSSubClass', 'MasVnrArea', 'MiscVal', 'MoSold', 'OpenPorchSF', 'OverallCond', 'OverallQual', 'PoolArea', 'SalePrice', 'ScreenPorch', 'TotRmsAbvGrd', 'TotalBsmtSF', 'WoodDeckSF', 'YearBuilt', 'YearRemodAdd', 'YrSold']\n"
     ]
    }
   ],
   "source": [
    "type(intFilter)\n",
    "print(intFilter)"
   ]
  },
  {
   "cell_type": "code",
   "execution_count": 6,
   "metadata": {},
   "outputs": [
    {
     "data": {
      "text/plain": [
       "list"
      ]
     },
     "execution_count": 6,
     "metadata": {},
     "output_type": "execute_result"
    }
   ],
   "source": [
    "type(intFilterAll)"
   ]
  },
  {
   "cell_type": "code",
   "execution_count": 7,
   "metadata": {},
   "outputs": [
    {
     "name": "stdout",
     "output_type": "stream",
     "text": [
      "['1stFlrSF', '2ndFlrSF', '3SsnPorch', 'BedroomAbvGr', 'BsmtFinSF1', 'BsmtFinSF2', 'BsmtFullBath', 'BsmtHalfBath', 'BsmtUnfSF', 'EnclosedPorch', 'Fireplaces', 'FullBath', 'GarageArea', 'GarageCars', 'GrLivArea', 'HalfBath', 'Id', 'KitchenAbvGr', 'LotArea', 'LowQualFinSF', 'MSSubClass', 'MasVnrArea', 'MiscVal', 'MoSold', 'OpenPorchSF', 'OverallCond', 'OverallQual', 'PoolArea', 'SalePrice', 'ScreenPorch', 'TotRmsAbvGrd', 'TotalBsmtSF', 'WoodDeckSF', 'YearBuilt', 'YearRemodAdd', 'YrSold', 'TotFullBath', 'TotHalfBath', 'HouseAge', 'YrSinceRemod', 'TotSF', 'HasBasement', 'Has2Floor', 'HasGarage', 'HasPool']\n"
     ]
    }
   ],
   "source": [
    "print(intFilterAll)"
   ]
  },
  {
   "cell_type": "code",
   "execution_count": 8,
   "metadata": {
    "collapsed": true
   },
   "outputs": [],
   "source": [
    "dfTrain = df[df['DataType']== 1].copy() #.copy makes it explict that we want a copy, not a view of the orignal frame\n",
    "dfTest = df[df['DataType']== 0].copy()"
   ]
  },
  {
   "cell_type": "code",
   "execution_count": 9,
   "metadata": {},
   "outputs": [
    {
     "data": {
      "text/plain": [
       "<matplotlib.axes._subplots.AxesSubplot at 0x165cbe553c8>"
      ]
     },
     "execution_count": 9,
     "metadata": {},
     "output_type": "execute_result"
    },
    {
     "data": {
      "image/png": "[encoded data removed]",
      "text/plain": [
       "<matplotlib.figure.Figure at 0x165cbe31f98>"
      ]
     },
     "metadata": {},
     "output_type": "display_data"
    }
   ],
   "source": [
    "dfTrain.SalePrice.hist(bins = 20)"
   ]
  },
  {
   "cell_type": "code",
   "execution_count": 10,
   "metadata": {},
   "outputs": [
    {
     "data": {
      "text/plain": [
       "<matplotlib.axes._subplots.AxesSubplot at 0x165cbe55390>"
      ]
     },
     "execution_count": 10,
     "metadata": {},
     "output_type": "execute_result"
    },
    {
     "data": {
      "image/png": "[encoded data removed]",
      "text/plain": [
       "<matplotlib.figure.Figure at 0x165cc0a9898>"
      ]
     },
     "metadata": {},
     "output_type": "display_data"
    }
   ],
   "source": [
    "#Makes the price more uniform, but is that something we actually want?  \n",
    "SalePriceLog = np.log(dfTrain.SalePrice)\n",
    "SalePriceLog.hist(bins = 20)"
   ]
  },
  {
   "cell_type": "code",
   "execution_count": 11,
   "metadata": {},
   "outputs": [
    {
     "name": "stdout",
     "output_type": "stream",
     "text": [
      "(1460, 78)\n",
      "(1459, 78)\n"
     ]
    }
   ],
   "source": [
    "print(dfTrain.shape)\n",
    "print(dfTest.shape)"
   ]
  },
  {
   "cell_type": "code",
   "execution_count": 12,
   "metadata": {
    "collapsed": true
   },
   "outputs": [],
   "source": [
    "dfTrain['SalePriceLog'] = np.log(dfTrain.SalePrice)"
   ]
  },
  {
   "cell_type": "code",
   "execution_count": 13,
   "metadata": {},
   "outputs": [
    {
     "data": {
      "text/html": [
       "<div>\n",
       "<style>\n",
       "    .dataframe thead tr:only-child th {\n",
       "        text-align: right;\n",
       "    }\n",
       "\n",
       "    .dataframe thead th {\n",
       "        text-align: left;\n",
       "    }\n",
       "\n",
       "    .dataframe tbody tr th {\n",
       "        vertical-align: top;\n",
       "    }\n",
       "</style>\n",
       "<table border=\"1\" class=\"dataframe\">\n",
       "  <thead>\n",
       "    <tr style=\"text-align: right;\">\n",
       "      <th></th>\n",
       "      <th>SalePrice</th>\n",
       "      <th>SalePriceLog</th>\n",
       "    </tr>\n",
       "  </thead>\n",
       "  <tbody>\n",
       "    <tr>\n",
       "      <th>0</th>\n",
       "      <td>208500.0</td>\n",
       "      <td>12.247694</td>\n",
       "    </tr>\n",
       "    <tr>\n",
       "      <th>1</th>\n",
       "      <td>181500.0</td>\n",
       "      <td>12.109011</td>\n",
       "    </tr>\n",
       "    <tr>\n",
       "      <th>2</th>\n",
       "      <td>223500.0</td>\n",
       "      <td>12.317167</td>\n",
       "    </tr>\n",
       "    <tr>\n",
       "      <th>3</th>\n",
       "      <td>140000.0</td>\n",
       "      <td>11.849398</td>\n",
       "    </tr>\n",
       "    <tr>\n",
       "      <th>4</th>\n",
       "      <td>250000.0</td>\n",
       "      <td>12.429216</td>\n",
       "    </tr>\n",
       "  </tbody>\n",
       "</table>\n",
       "</div>"
      ],
      "text/plain": [
       "   SalePrice  SalePriceLog\n",
       "0   208500.0     12.247694\n",
       "1   181500.0     12.109011\n",
       "2   223500.0     12.317167\n",
       "3   140000.0     11.849398\n",
       "4   250000.0     12.429216"
      ]
     },
     "execution_count": 13,
     "metadata": {},
     "output_type": "execute_result"
    }
   ],
   "source": [
    "dfTrain[['SalePrice','SalePriceLog']].head()"
   ]
  },
  {
   "cell_type": "code",
   "execution_count": 14,
   "metadata": {
    "collapsed": true
   },
   "outputs": [],
   "source": [
    "#creates a data frame filled with correlations\n",
    "corr = dfTrain[intFilterAll + ['SalePriceLog']].corr().copy()"
   ]
  },
  {
   "cell_type": "code",
   "execution_count": 15,
   "metadata": {},
   "outputs": [
    {
     "data": {
      "text/html": [
       "<div>\n",
       "<style>\n",
       "    .dataframe thead tr:only-child th {\n",
       "        text-align: right;\n",
       "    }\n",
       "\n",
       "    .dataframe thead th {\n",
       "        text-align: left;\n",
       "    }\n",
       "\n",
       "    .dataframe tbody tr th {\n",
       "        vertical-align: top;\n",
       "    }\n",
       "</style>\n",
       "<table border=\"1\" class=\"dataframe\">\n",
       "  <thead>\n",
       "    <tr style=\"text-align: right;\">\n",
       "      <th></th>\n",
       "      <th>SalePrice</th>\n",
       "      <th>SalePriceLog</th>\n",
       "    </tr>\n",
       "  </thead>\n",
       "  <tbody>\n",
       "    <tr>\n",
       "      <th>SalePrice</th>\n",
       "      <td>1.000000</td>\n",
       "      <td>0.948374</td>\n",
       "    </tr>\n",
       "    <tr>\n",
       "      <th>SalePriceLog</th>\n",
       "      <td>0.948374</td>\n",
       "      <td>1.000000</td>\n",
       "    </tr>\n",
       "    <tr>\n",
       "      <th>OverallQual</th>\n",
       "      <td>0.790982</td>\n",
       "      <td>0.817184</td>\n",
       "    </tr>\n",
       "    <tr>\n",
       "      <th>TotSF</th>\n",
       "      <td>0.716883</td>\n",
       "      <td>0.710274</td>\n",
       "    </tr>\n",
       "    <tr>\n",
       "      <th>GrLivArea</th>\n",
       "      <td>0.708624</td>\n",
       "      <td>0.700927</td>\n",
       "    </tr>\n",
       "    <tr>\n",
       "      <th>GarageCars</th>\n",
       "      <td>0.640409</td>\n",
       "      <td>0.680625</td>\n",
       "    </tr>\n",
       "    <tr>\n",
       "      <th>GarageArea</th>\n",
       "      <td>0.623431</td>\n",
       "      <td>0.650888</td>\n",
       "    </tr>\n",
       "    <tr>\n",
       "      <th>TotalBsmtSF</th>\n",
       "      <td>0.613581</td>\n",
       "      <td>0.612134</td>\n",
       "    </tr>\n",
       "    <tr>\n",
       "      <th>1stFlrSF</th>\n",
       "      <td>0.605852</td>\n",
       "      <td>0.596981</td>\n",
       "    </tr>\n",
       "    <tr>\n",
       "      <th>TotFullBath</th>\n",
       "      <td>0.582934</td>\n",
       "      <td>0.615054</td>\n",
       "    </tr>\n",
       "    <tr>\n",
       "      <th>FullBath</th>\n",
       "      <td>0.560664</td>\n",
       "      <td>0.594771</td>\n",
       "    </tr>\n",
       "    <tr>\n",
       "      <th>TotRmsAbvGrd</th>\n",
       "      <td>0.533723</td>\n",
       "      <td>0.534422</td>\n",
       "    </tr>\n",
       "    <tr>\n",
       "      <th>YearBuilt</th>\n",
       "      <td>0.522897</td>\n",
       "      <td>0.586570</td>\n",
       "    </tr>\n",
       "    <tr>\n",
       "      <th>YearRemodAdd</th>\n",
       "      <td>0.507101</td>\n",
       "      <td>0.565608</td>\n",
       "    </tr>\n",
       "    <tr>\n",
       "      <th>MasVnrArea</th>\n",
       "      <td>0.477493</td>\n",
       "      <td>0.430809</td>\n",
       "    </tr>\n",
       "    <tr>\n",
       "      <th>Fireplaces</th>\n",
       "      <td>0.466929</td>\n",
       "      <td>0.489449</td>\n",
       "    </tr>\n",
       "    <tr>\n",
       "      <th>BsmtFinSF1</th>\n",
       "      <td>0.386420</td>\n",
       "      <td>0.372023</td>\n",
       "    </tr>\n",
       "    <tr>\n",
       "      <th>WoodDeckSF</th>\n",
       "      <td>0.324413</td>\n",
       "      <td>0.334135</td>\n",
       "    </tr>\n",
       "    <tr>\n",
       "      <th>2ndFlrSF</th>\n",
       "      <td>0.319334</td>\n",
       "      <td>0.319300</td>\n",
       "    </tr>\n",
       "    <tr>\n",
       "      <th>OpenPorchSF</th>\n",
       "      <td>0.315856</td>\n",
       "      <td>0.321053</td>\n",
       "    </tr>\n",
       "    <tr>\n",
       "      <th>HalfBath</th>\n",
       "      <td>0.284108</td>\n",
       "      <td>0.313982</td>\n",
       "    </tr>\n",
       "    <tr>\n",
       "      <th>LotArea</th>\n",
       "      <td>0.263843</td>\n",
       "      <td>0.257320</td>\n",
       "    </tr>\n",
       "    <tr>\n",
       "      <th>TotHalfBath</th>\n",
       "      <td>0.250628</td>\n",
       "      <td>0.282786</td>\n",
       "    </tr>\n",
       "    <tr>\n",
       "      <th>HasGarage</th>\n",
       "      <td>0.236832</td>\n",
       "      <td>0.322999</td>\n",
       "    </tr>\n",
       "    <tr>\n",
       "      <th>BsmtFullBath</th>\n",
       "      <td>0.227122</td>\n",
       "      <td>0.236224</td>\n",
       "    </tr>\n",
       "    <tr>\n",
       "      <th>BsmtUnfSF</th>\n",
       "      <td>0.214479</td>\n",
       "      <td>0.221985</td>\n",
       "    </tr>\n",
       "    <tr>\n",
       "      <th>BedroomAbvGr</th>\n",
       "      <td>0.168213</td>\n",
       "      <td>0.209044</td>\n",
       "    </tr>\n",
       "    <tr>\n",
       "      <th>Has2Floor</th>\n",
       "      <td>0.137656</td>\n",
       "      <td>0.150549</td>\n",
       "    </tr>\n",
       "    <tr>\n",
       "      <th>HasBasement</th>\n",
       "      <td>0.133001</td>\n",
       "      <td>0.162231</td>\n",
       "    </tr>\n",
       "    <tr>\n",
       "      <th>ScreenPorch</th>\n",
       "      <td>0.111447</td>\n",
       "      <td>0.121208</td>\n",
       "    </tr>\n",
       "    <tr>\n",
       "      <th>HasPool</th>\n",
       "      <td>0.093708</td>\n",
       "      <td>0.069835</td>\n",
       "    </tr>\n",
       "    <tr>\n",
       "      <th>PoolArea</th>\n",
       "      <td>0.092404</td>\n",
       "      <td>0.069798</td>\n",
       "    </tr>\n",
       "    <tr>\n",
       "      <th>MoSold</th>\n",
       "      <td>0.046432</td>\n",
       "      <td>0.057329</td>\n",
       "    </tr>\n",
       "    <tr>\n",
       "      <th>3SsnPorch</th>\n",
       "      <td>0.044584</td>\n",
       "      <td>0.054900</td>\n",
       "    </tr>\n",
       "    <tr>\n",
       "      <th>BsmtFinSF2</th>\n",
       "      <td>-0.011378</td>\n",
       "      <td>0.004832</td>\n",
       "    </tr>\n",
       "    <tr>\n",
       "      <th>BsmtHalfBath</th>\n",
       "      <td>-0.016844</td>\n",
       "      <td>-0.005149</td>\n",
       "    </tr>\n",
       "    <tr>\n",
       "      <th>MiscVal</th>\n",
       "      <td>-0.021190</td>\n",
       "      <td>-0.020021</td>\n",
       "    </tr>\n",
       "    <tr>\n",
       "      <th>Id</th>\n",
       "      <td>-0.021917</td>\n",
       "      <td>-0.017942</td>\n",
       "    </tr>\n",
       "    <tr>\n",
       "      <th>LowQualFinSF</th>\n",
       "      <td>-0.025606</td>\n",
       "      <td>-0.037963</td>\n",
       "    </tr>\n",
       "    <tr>\n",
       "      <th>YrSold</th>\n",
       "      <td>-0.028923</td>\n",
       "      <td>-0.037263</td>\n",
       "    </tr>\n",
       "    <tr>\n",
       "      <th>OverallCond</th>\n",
       "      <td>-0.077856</td>\n",
       "      <td>-0.036868</td>\n",
       "    </tr>\n",
       "    <tr>\n",
       "      <th>MSSubClass</th>\n",
       "      <td>-0.084284</td>\n",
       "      <td>-0.073959</td>\n",
       "    </tr>\n",
       "    <tr>\n",
       "      <th>EnclosedPorch</th>\n",
       "      <td>-0.128578</td>\n",
       "      <td>-0.149050</td>\n",
       "    </tr>\n",
       "    <tr>\n",
       "      <th>KitchenAbvGr</th>\n",
       "      <td>-0.135907</td>\n",
       "      <td>-0.147548</td>\n",
       "    </tr>\n",
       "    <tr>\n",
       "      <th>YrSinceRemod</th>\n",
       "      <td>-0.507101</td>\n",
       "      <td>-0.565608</td>\n",
       "    </tr>\n",
       "    <tr>\n",
       "      <th>HouseAge</th>\n",
       "      <td>-0.522897</td>\n",
       "      <td>-0.586570</td>\n",
       "    </tr>\n",
       "  </tbody>\n",
       "</table>\n",
       "</div>"
      ],
      "text/plain": [
       "               SalePrice  SalePriceLog\n",
       "SalePrice       1.000000      0.948374\n",
       "SalePriceLog    0.948374      1.000000\n",
       "OverallQual     0.790982      0.817184\n",
       "TotSF           0.716883      0.710274\n",
       "GrLivArea       0.708624      0.700927\n",
       "GarageCars      0.640409      0.680625\n",
       "GarageArea      0.623431      0.650888\n",
       "TotalBsmtSF     0.613581      0.612134\n",
       "1stFlrSF        0.605852      0.596981\n",
       "TotFullBath     0.582934      0.615054\n",
       "FullBath        0.560664      0.594771\n",
       "TotRmsAbvGrd    0.533723      0.534422\n",
       "YearBuilt       0.522897      0.586570\n",
       "YearRemodAdd    0.507101      0.565608\n",
       "MasVnrArea      0.477493      0.430809\n",
       "Fireplaces      0.466929      0.489449\n",
       "BsmtFinSF1      0.386420      0.372023\n",
       "WoodDeckSF      0.324413      0.334135\n",
       "2ndFlrSF        0.319334      0.319300\n",
       "OpenPorchSF     0.315856      0.321053\n",
       "HalfBath        0.284108      0.313982\n",
       "LotArea         0.263843      0.257320\n",
       "TotHalfBath     0.250628      0.282786\n",
       "HasGarage       0.236832      0.322999\n",
       "BsmtFullBath    0.227122      0.236224\n",
       "BsmtUnfSF       0.214479      0.221985\n",
       "BedroomAbvGr    0.168213      0.209044\n",
       "Has2Floor       0.137656      0.150549\n",
       "HasBasement     0.133001      0.162231\n",
       "ScreenPorch     0.111447      0.121208\n",
       "HasPool         0.093708      0.069835\n",
       "PoolArea        0.092404      0.069798\n",
       "MoSold          0.046432      0.057329\n",
       "3SsnPorch       0.044584      0.054900\n",
       "BsmtFinSF2     -0.011378      0.004832\n",
       "BsmtHalfBath   -0.016844     -0.005149\n",
       "MiscVal        -0.021190     -0.020021\n",
       "Id             -0.021917     -0.017942\n",
       "LowQualFinSF   -0.025606     -0.037963\n",
       "YrSold         -0.028923     -0.037263\n",
       "OverallCond    -0.077856     -0.036868\n",
       "MSSubClass     -0.084284     -0.073959\n",
       "EnclosedPorch  -0.128578     -0.149050\n",
       "KitchenAbvGr   -0.135907     -0.147548\n",
       "YrSinceRemod   -0.507101     -0.565608\n",
       "HouseAge       -0.522897     -0.586570"
      ]
     },
     "execution_count": 15,
     "metadata": {},
     "output_type": "execute_result"
    }
   ],
   "source": [
    "#says what everthing is correlated with Sale Price\n",
    "\n",
    "#but can do better by sorting values\n",
    "\n",
    "corr[['SalePrice','SalePriceLog']].sort_values(by = 'SalePrice',ascending = False)\n",
    "#going to creat a new column of this.  Idea that farther away from zero, the better"
   ]
  },
  {
   "cell_type": "code",
   "execution_count": 16,
   "metadata": {
    "collapsed": true
   },
   "outputs": [],
   "source": [
    "corr['SalesDiff'] = (corr['SalePriceLog'] - corr['SalePrice'])"
   ]
  },
  {
   "cell_type": "code",
   "execution_count": 17,
   "metadata": {},
   "outputs": [
    {
     "data": {
      "text/plain": [
       "HasGarage        0.086167\n",
       "YearBuilt        0.063673\n",
       "YearRemodAdd     0.058507\n",
       "SalePriceLog     0.051626\n",
       "OverallCond      0.040988\n",
       "BedroomAbvGr     0.040831\n",
       "GarageCars       0.040216\n",
       "FullBath         0.034107\n",
       "TotHalfBath      0.032157\n",
       "TotFullBath      0.032120\n",
       "HalfBath         0.029875\n",
       "HasBasement      0.029230\n",
       "GarageArea       0.027456\n",
       "OverallQual      0.026203\n",
       "Fireplaces       0.022521\n",
       "BsmtFinSF2       0.016211\n",
       "Has2Floor        0.012894\n",
       "BsmtHalfBath     0.011695\n",
       "MoSold           0.010897\n",
       "MSSubClass       0.010325\n",
       "3SsnPorch        0.010317\n",
       "ScreenPorch      0.009761\n",
       "WoodDeckSF       0.009722\n",
       "BsmtFullBath     0.009102\n",
       "BsmtUnfSF        0.007506\n",
       "OpenPorchSF      0.005197\n",
       "Id               0.003974\n",
       "MiscVal          0.001169\n",
       "TotRmsAbvGrd     0.000699\n",
       "2ndFlrSF        -0.000034\n",
       "TotalBsmtSF     -0.001447\n",
       "LotArea         -0.006523\n",
       "TotSF           -0.006609\n",
       "GrLivArea       -0.007698\n",
       "YrSold          -0.008340\n",
       "1stFlrSF        -0.008871\n",
       "KitchenAbvGr    -0.011641\n",
       "LowQualFinSF    -0.012357\n",
       "BsmtFinSF1      -0.014397\n",
       "EnclosedPorch   -0.020472\n",
       "PoolArea        -0.022606\n",
       "HasPool         -0.023873\n",
       "MasVnrArea      -0.046685\n",
       "SalePrice       -0.051626\n",
       "YrSinceRemod    -0.058507\n",
       "HouseAge        -0.063673\n",
       "Name: SalesDiff, dtype: float64"
      ]
     },
     "execution_count": 17,
     "metadata": {},
     "output_type": "execute_result"
    }
   ],
   "source": [
    "corr['SalesDiff'].sort_values(ascending = False)\n",
    "#Think this shows me that SalePrice Log is the better thing to try and aim for.  Would need to talk through the math with someone"
   ]
  },
  {
   "cell_type": "code",
   "execution_count": 18,
   "metadata": {
    "collapsed": true
   },
   "outputs": [],
   "source": [
    "topBot5 = ['OverallQua','TotSF','GrLivArea','GarageCars','GarageArea',\n",
    "           'MSSubClass','EnclosedPorch','KitchenAbvGr','YrSinceRemod','HouseAge']\n",
    "\n",
    "topBot10 = ['BsmtFinSF2','BsmtHalfBath','MiscVal','LowQualFinSF','YrSold',\n",
    "            'OverallCond','MSSubClass','EnclosedPorch','KitchenAbvGr','YrSinceRemod','HouseAge',\n",
    "'OverallQual','TotSF','GrLivArea','GarageCars','GarageArea','TotalBsmtSF','1stFlrSF','TotFullBath','FullBath','TotRmsAbvGrd']"
   ]
  },
  {
   "cell_type": "code",
   "execution_count": 30,
   "metadata": {
    "collapsed": true
   },
   "outputs": [],
   "source": [
    "#dfTrain[SalePriceLog].group_by(df['Neighborhood']).mean()\n",
    "NeighborhoodMean = dfTrain['SalePrice'].groupby(dfTrain['Neighborhood']).mean()\n",
    "NeighborhoodMedian = dfTrain['SalePrice'].groupby(dfTrain['Neighborhood']).median()\n",
    "#dfTrain['SalePriceLog'].groupby(dfTrain['Neighborhood']).median()).sort_values(ascending = True)\n",
    "\n",
    "#print(dfTrain['SalePrice'].groupby(dfTrain['Neighborhood']).mean())\n",
    "#print(dfTrain['SalePrice'].groupby(dfTrain['Neighborhood']).median())"
   ]
  },
  {
   "cell_type": "code",
   "execution_count": 44,
   "metadata": {},
   "outputs": [],
   "source": [
    "NeighboorHoodPriceExplo = pd.concat([NeighborhoodMean,NeighborhoodMedian], axis =1)\n",
    "NeighboorHoodPriceExplo.columns = ['Mean','Median']"
   ]
  },
  {
   "cell_type": "code",
   "execution_count": 43,
   "metadata": {},
   "outputs": [
    {
     "data": {
      "text/plain": [
       "<matplotlib.axes._subplots.AxesSubplot at 0x165ccc25940>"
      ]
     },
     "execution_count": 43,
     "metadata": {},
     "output_type": "execute_result"
    },
    {
     "data": {
      "image/png": "[encoded data removed]",
      "text/plain": [
       "<matplotlib.figure.Figure at 0x165ccbd2be0>"
      ]
     },
     "metadata": {},
     "output_type": "display_data"
    }
   ],
   "source": [
    "NeighboorHoodPriceExplo.sort_values(by = 'Mean',ascending = False).plot.bar()"
   ]
  },
  {
   "cell_type": "code",
   "execution_count": null,
   "metadata": {
    "collapsed": true
   },
   "outputs": [],
   "source": [
    "#For the above, looks like mean is usally larger than the median\n",
    "#Makes sense as mean is pulled up by larger outliers"
   ]
  },
  {
   "cell_type": "code",
   "execution_count": 48,
   "metadata": {},
   "outputs": [
    {
     "data": {
      "text/plain": [
       "Neighborhood\n",
       "0     AxesSubplot(0.125,0.125;0.775x0.755)\n",
       "1     AxesSubplot(0.125,0.125;0.775x0.755)\n",
       "2     AxesSubplot(0.125,0.125;0.775x0.755)\n",
       "3     AxesSubplot(0.125,0.125;0.775x0.755)\n",
       "4     AxesSubplot(0.125,0.125;0.775x0.755)\n",
       "5     AxesSubplot(0.125,0.125;0.775x0.755)\n",
       "6     AxesSubplot(0.125,0.125;0.775x0.755)\n",
       "7     AxesSubplot(0.125,0.125;0.775x0.755)\n",
       "8     AxesSubplot(0.125,0.125;0.775x0.755)\n",
       "9     AxesSubplot(0.125,0.125;0.775x0.755)\n",
       "10    AxesSubplot(0.125,0.125;0.775x0.755)\n",
       "11    AxesSubplot(0.125,0.125;0.775x0.755)\n",
       "12    AxesSubplot(0.125,0.125;0.775x0.755)\n",
       "13    AxesSubplot(0.125,0.125;0.775x0.755)\n",
       "14    AxesSubplot(0.125,0.125;0.775x0.755)\n",
       "15    AxesSubplot(0.125,0.125;0.775x0.755)\n",
       "16    AxesSubplot(0.125,0.125;0.775x0.755)\n",
       "17    AxesSubplot(0.125,0.125;0.775x0.755)\n",
       "18    AxesSubplot(0.125,0.125;0.775x0.755)\n",
       "19    AxesSubplot(0.125,0.125;0.775x0.755)\n",
       "20    AxesSubplot(0.125,0.125;0.775x0.755)\n",
       "21    AxesSubplot(0.125,0.125;0.775x0.755)\n",
       "22    AxesSubplot(0.125,0.125;0.775x0.755)\n",
       "23    AxesSubplot(0.125,0.125;0.775x0.755)\n",
       "24    AxesSubplot(0.125,0.125;0.775x0.755)\n",
       "Name: SalePrice, dtype: object"
      ]
     },
     "execution_count": 48,
     "metadata": {},
     "output_type": "execute_result"
    },
    {
     "data": {
      "image/png": "[encoded data removed]",
      "text/plain": [
       "<matplotlib.figure.Figure at 0x165ccfc0d30>"
      ]
     },
     "metadata": {},
     "output_type": "display_data"
    }
   ],
   "source": [
    "dfTrain['SalePrice'].groupby(dfTrain['Neighborhood']).hist()"
   ]
  },
  {
   "cell_type": "code",
   "execution_count": null,
   "metadata": {
    "collapsed": true
   },
   "outputs": [],
   "source": [
    "#Confirms that numbers have the potential to get pulled up.  So goign to try median"
   ]
  },
  {
   "cell_type": "code",
   "execution_count": 52,
   "metadata": {},
   "outputs": [
    {
     "name": "stdout",
     "output_type": "stream",
     "text": [
      "Neighborhood\n",
      "10     88000.0\n",
      "9     103000.0\n",
      "2     106000.0\n",
      "17    119000.0\n",
      "7     121750.0\n",
      "3     124300.0\n",
      "19    135000.0\n",
      "1     137500.0\n",
      "18    139500.0\n",
      "12    140000.0\n",
      "13    146000.0\n",
      "11    153500.0\n",
      "20    179900.0\n",
      "8     181000.0\n",
      "14    182900.0\n",
      "0     191000.0\n",
      "5     197200.0\n",
      "4     200250.0\n",
      "6     200624.0\n",
      "24    218000.0\n",
      "21    225500.0\n",
      "23    228475.0\n",
      "22    278000.0\n",
      "15    301500.0\n",
      "16    315000.0\n",
      "Name: SalePrice, dtype: float64\n",
      "179900.0\n"
     ]
    }
   ],
   "source": [
    "print(NeighborhoodMedian.sort_values(ascending = True))\n",
    "print(NeighborhoodMedian.median())\n",
    "#index 20 is the middle one"
   ]
  },
  {
   "cell_type": "code",
   "execution_count": 53,
   "metadata": {
    "collapsed": true
   },
   "outputs": [],
   "source": [
    "index = (NeighborhoodMedian.index.values)\n",
    "values = (NeighborhoodMedian.values)\n",
    "values = (values/179900.0)*100"
   ]
  },
  {
   "cell_type": "code",
   "execution_count": 54,
   "metadata": {},
   "outputs": [
    {
     "name": "stdout",
     "output_type": "stream",
     "text": [
      "[ 0  1  2  3  4  5  6  7  8  9 10 11 12 13 14 15 16 17 18 19 20 21 22 23 24]\n",
      "[ 106.1700945    76.43135075   58.92162312   69.09394108  111.31183991\n",
      "  109.61645359  111.51973319   67.67648694  100.61145081   57.25403002\n",
      "   48.91606448   85.32518066   77.82101167   81.15619789  101.66759311\n",
      "  167.59310728  175.09727626   66.14785992   77.54307949   75.04168983\n",
      "  100.          125.34741523  154.53029461  127.00111173  121.17843246]\n"
     ]
    }
   ],
   "source": [
    "#convert values into a list\n",
    "values = list(values)"
   ]
  },
  {
   "cell_type": "code",
   "execution_count": 56,
   "metadata": {
    "collapsed": true
   },
   "outputs": [],
   "source": [
    "NeighborghZip = zip(index,values)"
   ]
  },
  {
   "cell_type": "code",
   "execution_count": 57,
   "metadata": {
    "collapsed": true
   },
   "outputs": [],
   "source": [
    "NeighborhoodMapping = dict(NeighborghZip)"
   ]
  },
  {
   "cell_type": "code",
   "execution_count": 58,
   "metadata": {},
   "outputs": [
    {
     "name": "stdout",
     "output_type": "stream",
     "text": [
      "{0: 106.17009449694275, 1: 76.431350750416897, 2: 58.921623123957758, 3: 69.093941078376872, 4: 111.31183991106171, 5: 109.61645358532519, 6: 111.51973318510284, 7: 67.676486937187335, 8: 100.61145080600333, 9: 57.254030016675927, 10: 48.916064480266812, 11: 85.325180655919951, 12: 77.821011673151759, 13: 81.156197887715393, 14: 101.66759310728182, 15: 167.59310728182325, 16: 175.09727626459144, 17: 66.147859922178981, 18: 77.543079488604789, 19: 75.041689827682049, 20: 100.0, 21: 125.34741523068371, 22: 154.53029460811564, 23: 127.00111172873818, 24: 121.17843246247915}\n"
     ]
    }
   ],
   "source": [
    "print(NeighborhoodMapping)"
   ]
  },
  {
   "cell_type": "code",
   "execution_count": 68,
   "metadata": {
    "collapsed": true
   },
   "outputs": [],
   "source": [
    "dfTrain['NewNeighborhood']=dfTrain['Neighborhood'].map(NeighborhoodMapping)\n",
    "dfTest['NewNeighborhood']=dfTest['Neighborhood'].map(NeighborhoodMapping)"
   ]
  },
  {
   "cell_type": "code",
   "execution_count": 66,
   "metadata": {},
   "outputs": [
    {
     "data": {
      "text/html": [
       "<div>\n",
       "<style>\n",
       "    .dataframe thead tr:only-child th {\n",
       "        text-align: right;\n",
       "    }\n",
       "\n",
       "    .dataframe thead th {\n",
       "        text-align: left;\n",
       "    }\n",
       "\n",
       "    .dataframe tbody tr th {\n",
       "        vertical-align: top;\n",
       "    }\n",
       "</style>\n",
       "<table border=\"1\" class=\"dataframe\">\n",
       "  <thead>\n",
       "    <tr style=\"text-align: right;\">\n",
       "      <th></th>\n",
       "      <th>NewNeighborhood</th>\n",
       "      <th>SalePriceLog</th>\n",
       "    </tr>\n",
       "  </thead>\n",
       "  <tbody>\n",
       "    <tr>\n",
       "      <th>NewNeighborhood</th>\n",
       "      <td>1.000000</td>\n",
       "      <td>0.738394</td>\n",
       "    </tr>\n",
       "    <tr>\n",
       "      <th>SalePriceLog</th>\n",
       "      <td>0.738394</td>\n",
       "      <td>1.000000</td>\n",
       "    </tr>\n",
       "  </tbody>\n",
       "</table>\n",
       "</div>"
      ],
      "text/plain": [
       "                 NewNeighborhood  SalePriceLog\n",
       "NewNeighborhood         1.000000      0.738394\n",
       "SalePriceLog            0.738394      1.000000"
      ]
     },
     "execution_count": 66,
     "metadata": {},
     "output_type": "execute_result"
    }
   ],
   "source": [
    "dfTrain[['NewNeighborhood','SalePriceLog']].corr()"
   ]
  },
  {
   "cell_type": "code",
   "execution_count": 69,
   "metadata": {},
   "outputs": [],
   "source": [
    "dfTrain.to_csv('FinalTrain.csv')\n",
    "dfTest.to_csv('FinalTest.csv')"
   ]
  }
 ],
 "metadata": {
  "kernelspec": {
   "display_name": "Python 3",
   "language": "python",
   "name": "python3"
  },
  "language_info": {
   "codemirror_mode": {
    "name": "ipython",
    "version": 3
   },
   "file_extension": ".py",
   "mimetype": "text/x-python",
   "name": "python",
   "nbconvert_exporter": "python",
   "pygments_lexer": "ipython3",
   "version": "3.6.3"
  }
 },
 "nbformat": 4,
 "nbformat_minor": 2
}
