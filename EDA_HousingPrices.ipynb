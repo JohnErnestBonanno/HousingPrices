{
 "cells": [
  {
   "cell_type": "code",
   "execution_count": 1,
   "metadata": {
    "collapsed": true
   },
   "outputs": [],
   "source": [
    "import pandas as pd\n",
    "import matplotlib.pyplot as plt\n",
    "import seaborn as sns\n",
    "import numpy as np\n",
    "\n",
    "%matplotlib inline"
   ]
  },
  {
   "cell_type": "code",
   "execution_count": 2,
   "metadata": {
    "collapsed": true
   },
   "outputs": [],
   "source": [
    "#import data\n",
    "df = pd.read_csv('dfFeatureEngineering.csv',index_col =0)"
   ]
  },
  {
   "cell_type": "code",
   "execution_count": 3,
   "metadata": {
    "collapsed": true
   },
   "outputs": [],
   "source": [
    "#list of questions and ideas\n",
    "\n",
    "#does training the data on the log of sales price make a difference for KNN?"
   ]
  },
  {
   "cell_type": "code",
   "execution_count": 20,
   "metadata": {
    "collapsed": true
   },
   "outputs": [],
   "source": [
    "#filters for looking at data\n",
    "\n",
    "objectFilter = ['BldgType', 'BsmtCond', 'BsmtExposure', 'BsmtFinType1', 'BsmtFinType2',\n",
    "       'BsmtQual', 'CentralAir', 'Condition1', 'Condition2', 'DataType',\n",
    "       'Electrical', 'ExterCond', 'ExterQual', 'Exterior1st', 'Exterior2nd',\n",
    "       'Foundation', 'Functional', 'Heating', 'HeatingQC', 'HouseStyle',\n",
    "       'KitchenQual', 'LandContour', 'LandSlope', 'LotConfig', 'LotShape',\n",
    "       'MSZoning', 'MasVnrType', 'Neighborhood', 'PavedDrive', 'RoofMatl',\n",
    "       'RoofStyle', 'SaleCondition', 'SaleType']\n",
    "\n",
    "intFilter = ['1stFlrSF', '2ndFlrSF', '3SsnPorch', 'BedroomAbvGr', 'BsmtFinSF1',\n",
    "       'BsmtFinSF2', 'BsmtFullBath', 'BsmtHalfBath', 'BsmtUnfSF',\n",
    "       'EnclosedPorch', 'Fireplaces', 'FullBath', 'GarageArea', 'GarageCars',\n",
    "       'GrLivArea', 'HalfBath', 'Id', 'KitchenAbvGr', 'LotArea',\n",
    "       'LowQualFinSF', 'MSSubClass', 'MasVnrArea', 'MiscVal', 'MoSold',\n",
    "       'OpenPorchSF', 'OverallCond', 'OverallQual', 'PoolArea', 'SalePrice',\n",
    "       'ScreenPorch', 'TotRmsAbvGrd', 'TotalBsmtSF', 'WoodDeckSF', 'YearBuilt',\n",
    "       'YearRemodAdd', 'YrSold']\n",
    "\n",
    "OrgFeatures = [objectFilter + intFilter]\n",
    "\n",
    "FeatEnginer = list(df.columns[-9:])\n",
    "\n",
    "intFilterAll = intFilter + FeatEnginer"
   ]
  },
  {
   "cell_type": "code",
   "execution_count": 21,
   "metadata": {},
   "outputs": [
    {
     "name": "stdout",
     "output_type": "stream",
     "text": [
      "['1stFlrSF', '2ndFlrSF', '3SsnPorch', 'BedroomAbvGr', 'BsmtFinSF1', 'BsmtFinSF2', 'BsmtFullBath', 'BsmtHalfBath', 'BsmtUnfSF', 'EnclosedPorch', 'Fireplaces', 'FullBath', 'GarageArea', 'GarageCars', 'GrLivArea', 'HalfBath', 'Id', 'KitchenAbvGr', 'LotArea', 'LowQualFinSF', 'MSSubClass', 'MasVnrArea', 'MiscVal', 'MoSold', 'OpenPorchSF', 'OverallCond', 'OverallQual', 'PoolArea', 'SalePrice', 'ScreenPorch', 'TotRmsAbvGrd', 'TotalBsmtSF', 'WoodDeckSF', 'YearBuilt', 'YearRemodAdd', 'YrSold']\n"
     ]
    }
   ],
   "source": [
    "type(intFilter)\n",
    "print(intFilter)"
   ]
  },
  {
   "cell_type": "code",
   "execution_count": 22,
   "metadata": {},
   "outputs": [
    {
     "data": {
      "text/plain": [
       "list"
      ]
     },
     "execution_count": 22,
     "metadata": {},
     "output_type": "execute_result"
    }
   ],
   "source": [
    "type(intFilterAll)"
   ]
  },
  {
   "cell_type": "code",
   "execution_count": 24,
   "metadata": {},
   "outputs": [
    {
     "name": "stdout",
     "output_type": "stream",
     "text": [
      "['1stFlrSF', '2ndFlrSF', '3SsnPorch', 'BedroomAbvGr', 'BsmtFinSF1', 'BsmtFinSF2', 'BsmtFullBath', 'BsmtHalfBath', 'BsmtUnfSF', 'EnclosedPorch', 'Fireplaces', 'FullBath', 'GarageArea', 'GarageCars', 'GrLivArea', 'HalfBath', 'Id', 'KitchenAbvGr', 'LotArea', 'LowQualFinSF', 'MSSubClass', 'MasVnrArea', 'MiscVal', 'MoSold', 'OpenPorchSF', 'OverallCond', 'OverallQual', 'PoolArea', 'SalePrice', 'ScreenPorch', 'TotRmsAbvGrd', 'TotalBsmtSF', 'WoodDeckSF', 'YearBuilt', 'YearRemodAdd', 'YrSold', 'TotFullBath', 'TotHalfBath', 'HouseAge', 'YrSinceRemod', 'TotSF', 'HasBasement', 'Has2Floor', 'HasGarage', 'HasPool']\n"
     ]
    }
   ],
   "source": [
    "print(intFilterAll)"
   ]
  },
  {
   "cell_type": "code",
   "execution_count": 25,
   "metadata": {
    "collapsed": true
   },
   "outputs": [],
   "source": [
    "dfTrain = df[df['DataType']== 1].copy() #.copy makes it explict that we want a copy, not a view of the orignal frame\n",
    "dfTest = df[df['DataType']== 0].copy()"
   ]
  },
  {
   "cell_type": "code",
   "execution_count": 26,
   "metadata": {},
   "outputs": [
    {
     "data": {
      "text/plain": [
       "<matplotlib.axes._subplots.AxesSubplot at 0x263bb46d080>"
      ]
     },
     "execution_count": 26,
     "metadata": {},
     "output_type": "execute_result"
    },
    {
     "data": {
      "image/png": "[encoded data removed]",
      "text/plain": [
       "<matplotlib.figure.Figure at 0x263bbba2390>"
      ]
     },
     "metadata": {},
     "output_type": "display_data"
    }
   ],
   "source": [
    "dfTrain.SalePrice.hist(bins = 20)"
   ]
  },
  {
   "cell_type": "code",
   "execution_count": 27,
   "metadata": {},
   "outputs": [
    {
     "data": {
      "text/plain": [
       "<matplotlib.axes._subplots.AxesSubplot at 0x263bb46de80>"
      ]
     },
     "execution_count": 27,
     "metadata": {},
     "output_type": "execute_result"
    },
    {
     "data": {
      "image/png": "[encoded data removed]",
      "text/plain": [
       "<matplotlib.figure.Figure at 0x263bb402898>"
      ]
     },
     "metadata": {},
     "output_type": "display_data"
    }
   ],
   "source": [
    "#Makes the price more uniform, but is that something we actually want?  \n",
    "SalePriceLog = np.log(dfTrain.SalePrice)\n",
    "SalePriceLog.hist(bins = 20)"
   ]
  },
  {
   "cell_type": "code",
   "execution_count": 28,
   "metadata": {},
   "outputs": [
    {
     "name": "stdout",
     "output_type": "stream",
     "text": [
      "(1460, 78)\n",
      "(1459, 78)\n"
     ]
    }
   ],
   "source": [
    "print(dfTrain.shape)\n",
    "print(dfTest.shape)"
   ]
  },
  {
   "cell_type": "code",
   "execution_count": 29,
   "metadata": {
    "collapsed": true
   },
   "outputs": [],
   "source": [
    "dfTrain['SalePriceLog'] = np.log(dfTrain.SalePrice)"
   ]
  },
  {
   "cell_type": "code",
   "execution_count": 30,
   "metadata": {},
   "outputs": [
    {
     "data": {
      "text/html": [
       "<div>\n",
       "<style>\n",
       "    .dataframe thead tr:only-child th {\n",
       "        text-align: right;\n",
       "    }\n",
       "\n",
       "    .dataframe thead th {\n",
       "        text-align: left;\n",
       "    }\n",
       "\n",
       "    .dataframe tbody tr th {\n",
       "        vertical-align: top;\n",
       "    }\n",
       "</style>\n",
       "<table border=\"1\" class=\"dataframe\">\n",
       "  <thead>\n",
       "    <tr style=\"text-align: right;\">\n",
       "      <th></th>\n",
       "      <th>SalePrice</th>\n",
       "      <th>SalePriceLog</th>\n",
       "    </tr>\n",
       "  </thead>\n",
       "  <tbody>\n",
       "    <tr>\n",
       "      <th>0</th>\n",
       "      <td>208500.0</td>\n",
       "      <td>12.247694</td>\n",
       "    </tr>\n",
       "    <tr>\n",
       "      <th>1</th>\n",
       "      <td>181500.0</td>\n",
       "      <td>12.109011</td>\n",
       "    </tr>\n",
       "    <tr>\n",
       "      <th>2</th>\n",
       "      <td>223500.0</td>\n",
       "      <td>12.317167</td>\n",
       "    </tr>\n",
       "    <tr>\n",
       "      <th>3</th>\n",
       "      <td>140000.0</td>\n",
       "      <td>11.849398</td>\n",
       "    </tr>\n",
       "    <tr>\n",
       "      <th>4</th>\n",
       "      <td>250000.0</td>\n",
       "      <td>12.429216</td>\n",
       "    </tr>\n",
       "  </tbody>\n",
       "</table>\n",
       "</div>"
      ],
      "text/plain": [
       "   SalePrice  SalePriceLog\n",
       "0   208500.0     12.247694\n",
       "1   181500.0     12.109011\n",
       "2   223500.0     12.317167\n",
       "3   140000.0     11.849398\n",
       "4   250000.0     12.429216"
      ]
     },
     "execution_count": 30,
     "metadata": {},
     "output_type": "execute_result"
    }
   ],
   "source": [
    "dfTrain[['SalePrice','SalePriceLog']].head()"
   ]
  },
  {
   "cell_type": "code",
   "execution_count": 47,
   "metadata": {},
   "outputs": [],
   "source": [
    "#creates a data frame filled with correlations\n",
    "corr = dfTrain[intFilterAll + ['SalePriceLog']].corr().copy()"
   ]
  },
  {
   "cell_type": "code",
   "execution_count": 48,
   "metadata": {},
   "outputs": [
    {
     "data": {
      "text/html": [
       "<div>\n",
       "<style>\n",
       "    .dataframe thead tr:only-child th {\n",
       "        text-align: right;\n",
       "    }\n",
       "\n",
       "    .dataframe thead th {\n",
       "        text-align: left;\n",
       "    }\n",
       "\n",
       "    .dataframe tbody tr th {\n",
       "        vertical-align: top;\n",
       "    }\n",
       "</style>\n",
       "<table border=\"1\" class=\"dataframe\">\n",
       "  <thead>\n",
       "    <tr style=\"text-align: right;\">\n",
       "      <th></th>\n",
       "      <th>SalePrice</th>\n",
       "      <th>SalePriceLog</th>\n",
       "    </tr>\n",
       "  </thead>\n",
       "  <tbody>\n",
       "    <tr>\n",
       "      <th>SalePrice</th>\n",
       "      <td>1.000000</td>\n",
       "      <td>0.948374</td>\n",
       "    </tr>\n",
       "    <tr>\n",
       "      <th>SalePriceLog</th>\n",
       "      <td>0.948374</td>\n",
       "      <td>1.000000</td>\n",
       "    </tr>\n",
       "    <tr>\n",
       "      <th>OverallQual</th>\n",
       "      <td>0.790982</td>\n",
       "      <td>0.817184</td>\n",
       "    </tr>\n",
       "    <tr>\n",
       "      <th>TotSF</th>\n",
       "      <td>0.716883</td>\n",
       "      <td>0.710274</td>\n",
       "    </tr>\n",
       "    <tr>\n",
       "      <th>GrLivArea</th>\n",
       "      <td>0.708624</td>\n",
       "      <td>0.700927</td>\n",
       "    </tr>\n",
       "    <tr>\n",
       "      <th>GarageCars</th>\n",
       "      <td>0.640409</td>\n",
       "      <td>0.680625</td>\n",
       "    </tr>\n",
       "    <tr>\n",
       "      <th>GarageArea</th>\n",
       "      <td>0.623431</td>\n",
       "      <td>0.650888</td>\n",
       "    </tr>\n",
       "    <tr>\n",
       "      <th>TotalBsmtSF</th>\n",
       "      <td>0.613581</td>\n",
       "      <td>0.612134</td>\n",
       "    </tr>\n",
       "    <tr>\n",
       "      <th>1stFlrSF</th>\n",
       "      <td>0.605852</td>\n",
       "      <td>0.596981</td>\n",
       "    </tr>\n",
       "    <tr>\n",
       "      <th>TotFullBath</th>\n",
       "      <td>0.582934</td>\n",
       "      <td>0.615054</td>\n",
       "    </tr>\n",
       "    <tr>\n",
       "      <th>FullBath</th>\n",
       "      <td>0.560664</td>\n",
       "      <td>0.594771</td>\n",
       "    </tr>\n",
       "    <tr>\n",
       "      <th>TotRmsAbvGrd</th>\n",
       "      <td>0.533723</td>\n",
       "      <td>0.534422</td>\n",
       "    </tr>\n",
       "    <tr>\n",
       "      <th>YearBuilt</th>\n",
       "      <td>0.522897</td>\n",
       "      <td>0.586570</td>\n",
       "    </tr>\n",
       "    <tr>\n",
       "      <th>YearRemodAdd</th>\n",
       "      <td>0.507101</td>\n",
       "      <td>0.565608</td>\n",
       "    </tr>\n",
       "    <tr>\n",
       "      <th>MasVnrArea</th>\n",
       "      <td>0.477493</td>\n",
       "      <td>0.430809</td>\n",
       "    </tr>\n",
       "    <tr>\n",
       "      <th>Fireplaces</th>\n",
       "      <td>0.466929</td>\n",
       "      <td>0.489449</td>\n",
       "    </tr>\n",
       "    <tr>\n",
       "      <th>BsmtFinSF1</th>\n",
       "      <td>0.386420</td>\n",
       "      <td>0.372023</td>\n",
       "    </tr>\n",
       "    <tr>\n",
       "      <th>WoodDeckSF</th>\n",
       "      <td>0.324413</td>\n",
       "      <td>0.334135</td>\n",
       "    </tr>\n",
       "    <tr>\n",
       "      <th>2ndFlrSF</th>\n",
       "      <td>0.319334</td>\n",
       "      <td>0.319300</td>\n",
       "    </tr>\n",
       "    <tr>\n",
       "      <th>OpenPorchSF</th>\n",
       "      <td>0.315856</td>\n",
       "      <td>0.321053</td>\n",
       "    </tr>\n",
       "    <tr>\n",
       "      <th>HalfBath</th>\n",
       "      <td>0.284108</td>\n",
       "      <td>0.313982</td>\n",
       "    </tr>\n",
       "    <tr>\n",
       "      <th>LotArea</th>\n",
       "      <td>0.263843</td>\n",
       "      <td>0.257320</td>\n",
       "    </tr>\n",
       "    <tr>\n",
       "      <th>TotHalfBath</th>\n",
       "      <td>0.250628</td>\n",
       "      <td>0.282786</td>\n",
       "    </tr>\n",
       "    <tr>\n",
       "      <th>HasGarage</th>\n",
       "      <td>0.236832</td>\n",
       "      <td>0.322999</td>\n",
       "    </tr>\n",
       "    <tr>\n",
       "      <th>BsmtFullBath</th>\n",
       "      <td>0.227122</td>\n",
       "      <td>0.236224</td>\n",
       "    </tr>\n",
       "    <tr>\n",
       "      <th>BsmtUnfSF</th>\n",
       "      <td>0.214479</td>\n",
       "      <td>0.221985</td>\n",
       "    </tr>\n",
       "    <tr>\n",
       "      <th>BedroomAbvGr</th>\n",
       "      <td>0.168213</td>\n",
       "      <td>0.209044</td>\n",
       "    </tr>\n",
       "    <tr>\n",
       "      <th>Has2Floor</th>\n",
       "      <td>0.137656</td>\n",
       "      <td>0.150549</td>\n",
       "    </tr>\n",
       "    <tr>\n",
       "      <th>HasBasement</th>\n",
       "      <td>0.133001</td>\n",
       "      <td>0.162231</td>\n",
       "    </tr>\n",
       "    <tr>\n",
       "      <th>ScreenPorch</th>\n",
       "      <td>0.111447</td>\n",
       "      <td>0.121208</td>\n",
       "    </tr>\n",
       "    <tr>\n",
       "      <th>HasPool</th>\n",
       "      <td>0.093708</td>\n",
       "      <td>0.069835</td>\n",
       "    </tr>\n",
       "    <tr>\n",
       "      <th>PoolArea</th>\n",
       "      <td>0.092404</td>\n",
       "      <td>0.069798</td>\n",
       "    </tr>\n",
       "    <tr>\n",
       "      <th>MoSold</th>\n",
       "      <td>0.046432</td>\n",
       "      <td>0.057329</td>\n",
       "    </tr>\n",
       "    <tr>\n",
       "      <th>3SsnPorch</th>\n",
       "      <td>0.044584</td>\n",
       "      <td>0.054900</td>\n",
       "    </tr>\n",
       "    <tr>\n",
       "      <th>BsmtFinSF2</th>\n",
       "      <td>-0.011378</td>\n",
       "      <td>0.004832</td>\n",
       "    </tr>\n",
       "    <tr>\n",
       "      <th>BsmtHalfBath</th>\n",
       "      <td>-0.016844</td>\n",
       "      <td>-0.005149</td>\n",
       "    </tr>\n",
       "    <tr>\n",
       "      <th>MiscVal</th>\n",
       "      <td>-0.021190</td>\n",
       "      <td>-0.020021</td>\n",
       "    </tr>\n",
       "    <tr>\n",
       "      <th>Id</th>\n",
       "      <td>-0.021917</td>\n",
       "      <td>-0.017942</td>\n",
       "    </tr>\n",
       "    <tr>\n",
       "      <th>LowQualFinSF</th>\n",
       "      <td>-0.025606</td>\n",
       "      <td>-0.037963</td>\n",
       "    </tr>\n",
       "    <tr>\n",
       "      <th>YrSold</th>\n",
       "      <td>-0.028923</td>\n",
       "      <td>-0.037263</td>\n",
       "    </tr>\n",
       "    <tr>\n",
       "      <th>OverallCond</th>\n",
       "      <td>-0.077856</td>\n",
       "      <td>-0.036868</td>\n",
       "    </tr>\n",
       "    <tr>\n",
       "      <th>MSSubClass</th>\n",
       "      <td>-0.084284</td>\n",
       "      <td>-0.073959</td>\n",
       "    </tr>\n",
       "    <tr>\n",
       "      <th>EnclosedPorch</th>\n",
       "      <td>-0.128578</td>\n",
       "      <td>-0.149050</td>\n",
       "    </tr>\n",
       "    <tr>\n",
       "      <th>KitchenAbvGr</th>\n",
       "      <td>-0.135907</td>\n",
       "      <td>-0.147548</td>\n",
       "    </tr>\n",
       "    <tr>\n",
       "      <th>YrSinceRemod</th>\n",
       "      <td>-0.507101</td>\n",
       "      <td>-0.565608</td>\n",
       "    </tr>\n",
       "    <tr>\n",
       "      <th>HouseAge</th>\n",
       "      <td>-0.522897</td>\n",
       "      <td>-0.586570</td>\n",
       "    </tr>\n",
       "  </tbody>\n",
       "</table>\n",
       "</div>"
      ],
      "text/plain": [
       "               SalePrice  SalePriceLog\n",
       "SalePrice       1.000000      0.948374\n",
       "SalePriceLog    0.948374      1.000000\n",
       "OverallQual     0.790982      0.817184\n",
       "TotSF           0.716883      0.710274\n",
       "GrLivArea       0.708624      0.700927\n",
       "GarageCars      0.640409      0.680625\n",
       "GarageArea      0.623431      0.650888\n",
       "TotalBsmtSF     0.613581      0.612134\n",
       "1stFlrSF        0.605852      0.596981\n",
       "TotFullBath     0.582934      0.615054\n",
       "FullBath        0.560664      0.594771\n",
       "TotRmsAbvGrd    0.533723      0.534422\n",
       "YearBuilt       0.522897      0.586570\n",
       "YearRemodAdd    0.507101      0.565608\n",
       "MasVnrArea      0.477493      0.430809\n",
       "Fireplaces      0.466929      0.489449\n",
       "BsmtFinSF1      0.386420      0.372023\n",
       "WoodDeckSF      0.324413      0.334135\n",
       "2ndFlrSF        0.319334      0.319300\n",
       "OpenPorchSF     0.315856      0.321053\n",
       "HalfBath        0.284108      0.313982\n",
       "LotArea         0.263843      0.257320\n",
       "TotHalfBath     0.250628      0.282786\n",
       "HasGarage       0.236832      0.322999\n",
       "BsmtFullBath    0.227122      0.236224\n",
       "BsmtUnfSF       0.214479      0.221985\n",
       "BedroomAbvGr    0.168213      0.209044\n",
       "Has2Floor       0.137656      0.150549\n",
       "HasBasement     0.133001      0.162231\n",
       "ScreenPorch     0.111447      0.121208\n",
       "HasPool         0.093708      0.069835\n",
       "PoolArea        0.092404      0.069798\n",
       "MoSold          0.046432      0.057329\n",
       "3SsnPorch       0.044584      0.054900\n",
       "BsmtFinSF2     -0.011378      0.004832\n",
       "BsmtHalfBath   -0.016844     -0.005149\n",
       "MiscVal        -0.021190     -0.020021\n",
       "Id             -0.021917     -0.017942\n",
       "LowQualFinSF   -0.025606     -0.037963\n",
       "YrSold         -0.028923     -0.037263\n",
       "OverallCond    -0.077856     -0.036868\n",
       "MSSubClass     -0.084284     -0.073959\n",
       "EnclosedPorch  -0.128578     -0.149050\n",
       "KitchenAbvGr   -0.135907     -0.147548\n",
       "YrSinceRemod   -0.507101     -0.565608\n",
       "HouseAge       -0.522897     -0.586570"
      ]
     },
     "execution_count": 48,
     "metadata": {},
     "output_type": "execute_result"
    }
   ],
   "source": [
    "#says what everthing is correlated with Sale Price\n",
    "\n",
    "#but can do better by sorting values\n",
    "\n",
    "corr[['SalePrice','SalePriceLog']].sort_values(by = 'SalePrice',ascending = False)\n",
    "#going to creat a new column of this.  Idea that farther away from zero, the better"
   ]
  },
  {
   "cell_type": "code",
   "execution_count": 55,
   "metadata": {},
   "outputs": [],
   "source": [
    "corr['SalesDiff'] = (corr['SalePriceLog'] - corr['SalePrice'])"
   ]
  },
  {
   "cell_type": "code",
   "execution_count": 56,
   "metadata": {},
   "outputs": [
    {
     "data": {
      "text/plain": [
       "HasGarage        0.086167\n",
       "YearBuilt        0.063673\n",
       "YearRemodAdd     0.058507\n",
       "SalePriceLog     0.051626\n",
       "OverallCond      0.040988\n",
       "BedroomAbvGr     0.040831\n",
       "GarageCars       0.040216\n",
       "FullBath         0.034107\n",
       "TotHalfBath      0.032157\n",
       "TotFullBath      0.032120\n",
       "HalfBath         0.029875\n",
       "HasBasement      0.029230\n",
       "GarageArea       0.027456\n",
       "OverallQual      0.026203\n",
       "Fireplaces       0.022521\n",
       "BsmtFinSF2       0.016211\n",
       "Has2Floor        0.012894\n",
       "BsmtHalfBath     0.011695\n",
       "MoSold           0.010897\n",
       "MSSubClass       0.010325\n",
       "3SsnPorch        0.010317\n",
       "ScreenPorch      0.009761\n",
       "WoodDeckSF       0.009722\n",
       "BsmtFullBath     0.009102\n",
       "BsmtUnfSF        0.007506\n",
       "OpenPorchSF      0.005197\n",
       "Id               0.003974\n",
       "MiscVal          0.001169\n",
       "TotRmsAbvGrd     0.000699\n",
       "2ndFlrSF        -0.000034\n",
       "TotalBsmtSF     -0.001447\n",
       "LotArea         -0.006523\n",
       "TotSF           -0.006609\n",
       "GrLivArea       -0.007698\n",
       "YrSold          -0.008340\n",
       "1stFlrSF        -0.008871\n",
       "KitchenAbvGr    -0.011641\n",
       "LowQualFinSF    -0.012357\n",
       "BsmtFinSF1      -0.014397\n",
       "EnclosedPorch   -0.020472\n",
       "PoolArea        -0.022606\n",
       "HasPool         -0.023873\n",
       "MasVnrArea      -0.046685\n",
       "SalePrice       -0.051626\n",
       "YrSinceRemod    -0.058507\n",
       "HouseAge        -0.063673\n",
       "Name: SalesDiff, dtype: float64"
      ]
     },
     "execution_count": 56,
     "metadata": {},
     "output_type": "execute_result"
    }
   ],
   "source": [
    "corr['SalesDiff'].sort_values(ascending = False)\n",
    "#Think this shows me that SalePrice Log is the better thing to try and aim for.  Would need to talk through the math with someone"
   ]
  },
  {
   "cell_type": "code",
   "execution_count": 57,
   "metadata": {
    "collapsed": true
   },
   "outputs": [],
   "source": [
    "topBot5 = ['OverallQua','TotSF','GrLivArea','GarageCars','GarageArea',\n",
    "           'MSSubClass','EnclosedPorch','KitchenAbvGr','YrSinceRemod','HouseAge']\n",
    "\n",
    "topBot10 = ['BsmtFinSF2','BsmtHalfBath','MiscVal','LowQualFinSF','YrSold',\n",
    "            'OverallCond','MSSubClass','EnclosedPorch','KitchenAbvGr','YrSinceRemod','HouseAge',\n",
    "'OverallQual','TotSF','GrLivArea','GarageCars','GarageArea','TotalBsmtSF','1stFlrSF','TotFullBath','FullBath','TotRmsAbvGrd']"
   ]
  },
  {
   "cell_type": "code",
   "execution_count": 62,
   "metadata": {},
   "outputs": [],
   "source": [
    "#not sure this really did anything\n",
    "corr2 = dfTrain[objectFilter + ['SalePrice','SalePriceLog']]"
   ]
  },
  {
   "cell_type": "code",
   "execution_count": 85,
   "metadata": {},
   "outputs": [],
   "source": [
    "#dfTrain[SalePriceLog].group_by(df['Neighborhood']).mean()\n",
    "NeighborhoodMean = dfTrain['SalePrice'].groupby(dfTrain['Neighborhood']).mean()\n",
    "#dfTrain['SalePriceLog'].groupby(dfTrain['Neighborhood']).median()).sort_values(ascending = True)\n",
    "\n",
    "#print(dfTrain['SalePrice'].groupby(dfTrain['Neighborhood']).mean())\n",
    "#print(dfTrain['SalePrice'].groupby(dfTrain['Neighborhood']).median())"
   ]
  },
  {
   "cell_type": "code",
   "execution_count": 96,
   "metadata": {},
   "outputs": [],
   "source": [
    "NeighboorhoodMapping = NeighborhoodMean.sort_values(ascending = True)"
   ]
  },
  {
   "cell_type": "code",
   "execution_count": 100,
   "metadata": {},
   "outputs": [
    {
     "data": {
      "text/plain": [
       "Neighborhood\n",
       "10     98576.470588\n",
       "9     100123.783784\n",
       "2     104493.750000\n",
       "3     124834.051724\n",
       "7     128219.700000\n",
       "17    128225.300885\n",
       "19    136793.135135\n",
       "1     137500.000000\n",
       "18    142591.360000\n",
       "13    142694.444444\n",
       "12    145847.080000\n",
       "11    156270.122449\n",
       "20    186555.796610\n",
       "14    189050.068493\n",
       "8     192854.506329\n",
       "0     194870.882353\n",
       "5     197965.773333\n",
       "6     210624.725490\n",
       "4     212565.428571\n",
       "21    225379.837209\n",
       "24    238772.727273\n",
       "23    242247.447368\n",
       "22    310499.000000\n",
       "16    316270.623377\n",
       "15    335295.317073\n",
       "Name: SalePrice, dtype: float64"
      ]
     },
     "execution_count": 100,
     "metadata": {},
     "output_type": "execute_result"
    }
   ],
   "source": [
    "NeighboorhoodMapping"
   ]
  },
  {
   "cell_type": "code",
   "execution_count": 112,
   "metadata": {},
   "outputs": [
    {
     "data": {
      "text/plain": [
       "186555.7966101695"
      ]
     },
     "execution_count": 112,
     "metadata": {},
     "output_type": "execute_result"
    }
   ],
   "source": [
    "NeighboorhoodMapping.median()\n",
    "#Index 14 is the middle one"
   ]
  },
  {
   "cell_type": "code",
   "execution_count": 128,
   "metadata": {},
   "outputs": [],
   "source": [
    "index = (NeighboorhoodMapping.index.values)"
   ]
  },
  {
   "cell_type": "code",
   "execution_count": 134,
   "metadata": {},
   "outputs": [],
   "source": [
    "values = (NeighboorhoodMapping.values)"
   ]
  },
  {
   "cell_type": "code",
   "execution_count": 135,
   "metadata": {},
   "outputs": [
    {
     "name": "stdout",
     "output_type": "stream",
     "text": [
      "<class 'numpy.ndarray'>\n"
     ]
    }
   ],
   "source": [
    "index = list(index)\n",
    "print(type(values))"
   ]
  },
  {
   "cell_type": "code",
   "execution_count": 136,
   "metadata": {},
   "outputs": [],
   "source": [
    "values2 = (values/186555.7966101695)*100"
   ]
  },
  {
   "cell_type": "code",
   "execution_count": 137,
   "metadata": {},
   "outputs": [
    {
     "data": {
      "text/plain": [
       "list"
      ]
     },
     "execution_count": 137,
     "metadata": {},
     "output_type": "execute_result"
    }
   ],
   "source": [
    "values2 = list(values2)\n",
    "type(values2)"
   ]
  },
  {
   "cell_type": "code",
   "execution_count": 146,
   "metadata": {},
   "outputs": [
    {
     "name": "stdout",
     "output_type": "stream",
     "text": [
      "[10, 9, 2, 3, 7, 17, 19, 1, 18, 13, 12, 11, 20, 14, 8, 0, 5, 6, 4, 21, 24, 23, 22, 16, 15]\n",
      "[52.84020779811123, 53.669618207042014, 56.012062824481468, 66.915128874281777, 68.729946927315424, 68.732949184579752, 73.325588172947889, 73.704490827118391, 76.433626073791515, 76.488882702809519, 78.17879832743273, 83.765889502498055, 100.0, 101.33701119359657, 103.37631412874634, 104.45715753348959, 106.11612017985502, 112.9017319844108, 113.94201222040252, 120.81095377607605, 127.98998026937285, 129.85254372697185, 166.43760507148676, 169.53138370581345, 179.72924088432919]\n"
     ]
    }
   ],
   "source": [
    "print(index)\n",
    "print(values2)"
   ]
  },
  {
   "cell_type": "code",
   "execution_count": 147,
   "metadata": {
    "collapsed": true
   },
   "outputs": [],
   "source": [
    "index_values = zip(index,values2)"
   ]
  },
  {
   "cell_type": "code",
   "execution_count": 148,
   "metadata": {
    "collapsed": true
   },
   "outputs": [],
   "source": [
    "test_dict = dict(index_values)"
   ]
  },
  {
   "cell_type": "code",
   "execution_count": 149,
   "metadata": {},
   "outputs": [
    {
     "name": "stdout",
     "output_type": "stream",
     "text": [
      "{10: 52.84020779811123, 9: 53.669618207042014, 2: 56.012062824481468, 3: 66.915128874281777, 7: 68.729946927315424, 17: 68.732949184579752, 19: 73.325588172947889, 1: 73.704490827118391, 18: 76.433626073791515, 13: 76.488882702809519, 12: 78.17879832743273, 11: 83.765889502498055, 20: 100.0, 14: 101.33701119359657, 8: 103.37631412874634, 0: 104.45715753348959, 5: 106.11612017985502, 6: 112.9017319844108, 4: 113.94201222040252, 21: 120.81095377607605, 24: 127.98998026937285, 23: 129.85254372697185, 22: 166.43760507148676, 16: 169.53138370581345, 15: 179.72924088432919}\n"
     ]
    }
   ],
   "source": [
    "print(test_dict)"
   ]
  },
  {
   "cell_type": "code",
   "execution_count": null,
   "metadata": {
    "collapsed": true
   },
   "outputs": [],
   "source": [
    "#clean up this code!! and use it to add a new column to explore!"
   ]
  }
 ],
 "metadata": {
  "kernelspec": {
   "display_name": "Python 3",
   "language": "python",
   "name": "python3"
  },
  "language_info": {
   "codemirror_mode": {
    "name": "ipython",
    "version": 3
   },
   "file_extension": ".py",
   "mimetype": "text/x-python",
   "name": "python",
   "nbconvert_exporter": "python",
   "pygments_lexer": "ipython3",
   "version": "3.6.3"
  }
 },
 "nbformat": 4,
 "nbformat_minor": 2
}
