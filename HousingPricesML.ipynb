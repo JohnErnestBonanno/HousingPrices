{
 "cells": [
  {
   "cell_type": "code",
   "execution_count": 1,
   "metadata": {
    "collapsed": false
   },
   "outputs": [],
   "source": [
    "import pandas as pd\n",
    "import matplotlib.pyplot as plt\n",
    "import seaborn as sns\n",
    "\n",
    "#sklearn imports\n",
    "from sklearn.tree import DecisionTreeClassifier\n",
    "from sklearn.model_selection import train_test_split\n",
    "from sklearn.metrics import accuracy_score\n",
    "from sklearn import linear_model\n",
    "\n",
    "%matplotlib inline \n",
    "\n",
    "#sets max columns so I can everything\n",
    "pd.set_option('display.max_columns',100)\n",
    "pd.set_option('display.max_colwidth', -1)"
   ]
  },
  {
   "cell_type": "code",
   "execution_count": 2,
   "metadata": {
    "collapsed": true
   },
   "outputs": [],
   "source": [
    "#load data\n",
    "\n",
    "df_train = pd.read_csv(\"train.csv\")\n",
    "df_test = pd.read_csv(\"test.csv\")"
   ]
  },
  {
   "cell_type": "code",
   "execution_count": 3,
   "metadata": {
    "collapsed": true
   },
   "outputs": [],
   "source": [
    "df_train['DataType'] = 'Train'\n",
    "df_test['DataType'] = 'Test'\n",
    "\n",
    "df_train.drop(labels = 'Id',inplace = True, axis = 1)\n",
    "df_test.drop(labels = 'Id',inplace = True, axis = 1)"
   ]
  },
  {
   "cell_type": "code",
   "execution_count": 4,
   "metadata": {
    "collapsed": true
   },
   "outputs": [],
   "source": [
    "df_master = pd.concat([df_train,df_test])"
   ]
  },
  {
   "cell_type": "code",
   "execution_count": 5,
   "metadata": {
    "collapsed": false
   },
   "outputs": [
    {
     "data": {
      "text/plain": [
       "Index(['MSSubClass', 'MSZoning', 'LotFrontage', 'LotArea', 'Street', 'Alley',\n",
       "       'LotShape', 'LandContour', 'Utilities', 'LotConfig', 'LandSlope',\n",
       "       'Neighborhood', 'Condition1', 'Condition2', 'BldgType', 'HouseStyle',\n",
       "       'OverallQual', 'OverallCond', 'YearBuilt', 'YearRemodAdd', 'RoofStyle',\n",
       "       'RoofMatl', 'Exterior1st', 'Exterior2nd', 'MasVnrType', 'MasVnrArea',\n",
       "       'ExterQual', 'ExterCond', 'Foundation', 'BsmtQual', 'BsmtCond',\n",
       "       'BsmtExposure', 'BsmtFinType1', 'BsmtFinSF1', 'BsmtFinType2',\n",
       "       'BsmtFinSF2', 'BsmtUnfSF', 'TotalBsmtSF', 'Heating', 'HeatingQC',\n",
       "       'CentralAir', 'Electrical', '1stFlrSF', '2ndFlrSF', 'LowQualFinSF',\n",
       "       'GrLivArea', 'BsmtFullBath', 'BsmtHalfBath', 'FullBath', 'HalfBath',\n",
       "       'BedroomAbvGr', 'KitchenAbvGr', 'KitchenQual', 'TotRmsAbvGrd',\n",
       "       'Functional', 'Fireplaces', 'FireplaceQu', 'GarageType', 'GarageYrBlt',\n",
       "       'GarageFinish', 'GarageCars', 'GarageArea', 'GarageQual', 'GarageCond',\n",
       "       'PavedDrive', 'WoodDeckSF', 'OpenPorchSF', 'EnclosedPorch', '3SsnPorch',\n",
       "       'ScreenPorch', 'PoolArea', 'PoolQC', 'Fence', 'MiscFeature', 'MiscVal',\n",
       "       'MoSold', 'YrSold', 'SaleType', 'SaleCondition', 'SalePrice',\n",
       "       'DataType'],\n",
       "      dtype='object')"
      ]
     },
     "execution_count": 5,
     "metadata": {},
     "output_type": "execute_result"
    }
   ],
   "source": [
    "df_train.columns"
   ]
  },
  {
   "cell_type": "code",
   "execution_count": 6,
   "metadata": {
    "collapsed": true
   },
   "outputs": [],
   "source": [
    "dfCheatSheet = pd.read_csv('DataCheatSheet.csv')"
   ]
  },
  {
   "cell_type": "code",
   "execution_count": 7,
   "metadata": {
    "collapsed": false
   },
   "outputs": [],
   "source": [
    "dfDesciptOnly = pd.read_csv('data_descriptions_only.csv',header =0)"
   ]
  },
  {
   "cell_type": "code",
   "execution_count": 8,
   "metadata": {
    "collapsed": false
   },
   "outputs": [
    {
     "data": {
      "text/html": [
       "<div>\n",
       "<table border=\"1\" class=\"dataframe\">\n",
       "  <thead>\n",
       "    <tr style=\"text-align: right;\">\n",
       "      <th></th>\n",
       "      <th>Variable</th>\n",
       "      <th>Count</th>\n",
       "      <th>Type</th>\n",
       "    </tr>\n",
       "  </thead>\n",
       "  <tbody>\n",
       "    <tr>\n",
       "      <th>0</th>\n",
       "      <td>MSSubClass</td>\n",
       "      <td>1460</td>\n",
       "      <td>int64</td>\n",
       "    </tr>\n",
       "    <tr>\n",
       "      <th>1</th>\n",
       "      <td>MSZoning</td>\n",
       "      <td>1460</td>\n",
       "      <td>object</td>\n",
       "    </tr>\n",
       "    <tr>\n",
       "      <th>2</th>\n",
       "      <td>LotFrontage</td>\n",
       "      <td>1201</td>\n",
       "      <td>float64</td>\n",
       "    </tr>\n",
       "    <tr>\n",
       "      <th>3</th>\n",
       "      <td>LotArea</td>\n",
       "      <td>1460</td>\n",
       "      <td>int64</td>\n",
       "    </tr>\n",
       "    <tr>\n",
       "      <th>4</th>\n",
       "      <td>Street</td>\n",
       "      <td>1460</td>\n",
       "      <td>object</td>\n",
       "    </tr>\n",
       "  </tbody>\n",
       "</table>\n",
       "</div>"
      ],
      "text/plain": [
       "      Variable  Count     Type\n",
       "0  MSSubClass   1460   int64  \n",
       "1  MSZoning     1460   object \n",
       "2  LotFrontage  1201   float64\n",
       "3  LotArea      1460   int64  \n",
       "4  Street       1460   object "
      ]
     },
     "execution_count": 8,
     "metadata": {},
     "output_type": "execute_result"
    }
   ],
   "source": [
    "dfCheatSheet.head()"
   ]
  },
  {
   "cell_type": "code",
   "execution_count": 9,
   "metadata": {
    "collapsed": false
   },
   "outputs": [],
   "source": [
    "#code for splitting columns into new columns\n",
    "#df['A'], df['B'] = df['AB'].str.split(' ', 1).str\n",
    "#https://stackoverflow.com/questions/14745022/how-to-split-a-column-into-two-columns \n",
    "dfDesciptOnly['Variable'],dfDesciptOnly['Description'] = dfDesciptOnly['Description'].str.split(':').str"
   ]
  },
  {
   "cell_type": "code",
   "execution_count": 10,
   "metadata": {
    "collapsed": false
   },
   "outputs": [
    {
     "data": {
      "text/html": [
       "<div>\n",
       "<table border=\"1\" class=\"dataframe\">\n",
       "  <thead>\n",
       "    <tr style=\"text-align: right;\">\n",
       "      <th></th>\n",
       "      <th>Description</th>\n",
       "      <th>Variable</th>\n",
       "    </tr>\n",
       "  </thead>\n",
       "  <tbody>\n",
       "    <tr>\n",
       "      <th>0</th>\n",
       "      <td>Identifies the type of dwelling involved in the sale.</td>\n",
       "      <td>MSSubClass</td>\n",
       "    </tr>\n",
       "    <tr>\n",
       "      <th>1</th>\n",
       "      <td>Identifies the general zoning classification of the sale.</td>\n",
       "      <td>MSZoning</td>\n",
       "    </tr>\n",
       "    <tr>\n",
       "      <th>2</th>\n",
       "      <td>Linear feet of street connected to property</td>\n",
       "      <td>LotFrontage</td>\n",
       "    </tr>\n",
       "    <tr>\n",
       "      <th>3</th>\n",
       "      <td>Lot size in square feet</td>\n",
       "      <td>LotArea</td>\n",
       "    </tr>\n",
       "    <tr>\n",
       "      <th>4</th>\n",
       "      <td>Type of road access to property</td>\n",
       "      <td>Street</td>\n",
       "    </tr>\n",
       "  </tbody>\n",
       "</table>\n",
       "</div>"
      ],
      "text/plain": [
       "                                                  Description     Variable\n",
       "0   Identifies the type of dwelling involved in the sale.      MSSubClass \n",
       "1   Identifies the general zoning classification of the sale.  MSZoning   \n",
       "2   Linear feet of street connected to property                LotFrontage\n",
       "3   Lot size in square feet                                    LotArea    \n",
       "4   Type of road access to property                            Street     "
      ]
     },
     "execution_count": 10,
     "metadata": {},
     "output_type": "execute_result"
    }
   ],
   "source": [
    "dfDesciptOnly.head()"
   ]
  },
  {
   "cell_type": "code",
   "execution_count": 11,
   "metadata": {
    "collapsed": false
   },
   "outputs": [
    {
     "data": {
      "text/html": [
       "<div>\n",
       "<table border=\"1\" class=\"dataframe\">\n",
       "  <thead>\n",
       "    <tr style=\"text-align: right;\">\n",
       "      <th></th>\n",
       "      <th>Variable</th>\n",
       "      <th>Count</th>\n",
       "      <th>Type</th>\n",
       "    </tr>\n",
       "  </thead>\n",
       "  <tbody>\n",
       "    <tr>\n",
       "      <th>0</th>\n",
       "      <td>MSSubClass</td>\n",
       "      <td>1460</td>\n",
       "      <td>int64</td>\n",
       "    </tr>\n",
       "    <tr>\n",
       "      <th>1</th>\n",
       "      <td>MSZoning</td>\n",
       "      <td>1460</td>\n",
       "      <td>object</td>\n",
       "    </tr>\n",
       "    <tr>\n",
       "      <th>2</th>\n",
       "      <td>LotFrontage</td>\n",
       "      <td>1201</td>\n",
       "      <td>float64</td>\n",
       "    </tr>\n",
       "    <tr>\n",
       "      <th>3</th>\n",
       "      <td>LotArea</td>\n",
       "      <td>1460</td>\n",
       "      <td>int64</td>\n",
       "    </tr>\n",
       "    <tr>\n",
       "      <th>4</th>\n",
       "      <td>Street</td>\n",
       "      <td>1460</td>\n",
       "      <td>object</td>\n",
       "    </tr>\n",
       "  </tbody>\n",
       "</table>\n",
       "</div>"
      ],
      "text/plain": [
       "      Variable  Count     Type\n",
       "0  MSSubClass   1460   int64  \n",
       "1  MSZoning     1460   object \n",
       "2  LotFrontage  1201   float64\n",
       "3  LotArea      1460   int64  \n",
       "4  Street       1460   object "
      ]
     },
     "execution_count": 11,
     "metadata": {},
     "output_type": "execute_result"
    }
   ],
   "source": [
    "dfCheatSheet.head()"
   ]
  },
  {
   "cell_type": "code",
   "execution_count": 12,
   "metadata": {
    "collapsed": false
   },
   "outputs": [],
   "source": [
    "#pd.merge(df_new, df_n, on='subject_id')\n",
    "dfCheatFinal = pd.merge(dfCheatSheet,dfDesciptOnly, on = 'Variable')"
   ]
  },
  {
   "cell_type": "code",
   "execution_count": 13,
   "metadata": {
    "collapsed": false
   },
   "outputs": [
    {
     "data": {
      "text/html": [
       "<div>\n",
       "<table border=\"1\" class=\"dataframe\">\n",
       "  <thead>\n",
       "    <tr style=\"text-align: right;\">\n",
       "      <th></th>\n",
       "      <th>Variable</th>\n",
       "      <th>Count</th>\n",
       "      <th>Type</th>\n",
       "      <th>Description</th>\n",
       "    </tr>\n",
       "  </thead>\n",
       "  <tbody>\n",
       "    <tr>\n",
       "      <th>0</th>\n",
       "      <td>MSSubClass</td>\n",
       "      <td>1460</td>\n",
       "      <td>int64</td>\n",
       "      <td>Identifies the type of dwelling involved in the sale.</td>\n",
       "    </tr>\n",
       "    <tr>\n",
       "      <th>1</th>\n",
       "      <td>MSZoning</td>\n",
       "      <td>1460</td>\n",
       "      <td>object</td>\n",
       "      <td>Identifies the general zoning classification of the sale.</td>\n",
       "    </tr>\n",
       "    <tr>\n",
       "      <th>2</th>\n",
       "      <td>LotFrontage</td>\n",
       "      <td>1201</td>\n",
       "      <td>float64</td>\n",
       "      <td>Linear feet of street connected to property</td>\n",
       "    </tr>\n",
       "    <tr>\n",
       "      <th>3</th>\n",
       "      <td>LotArea</td>\n",
       "      <td>1460</td>\n",
       "      <td>int64</td>\n",
       "      <td>Lot size in square feet</td>\n",
       "    </tr>\n",
       "    <tr>\n",
       "      <th>4</th>\n",
       "      <td>Street</td>\n",
       "      <td>1460</td>\n",
       "      <td>object</td>\n",
       "      <td>Type of road access to property</td>\n",
       "    </tr>\n",
       "    <tr>\n",
       "      <th>5</th>\n",
       "      <td>Alley</td>\n",
       "      <td>91</td>\n",
       "      <td>object</td>\n",
       "      <td>Type of alley access to property</td>\n",
       "    </tr>\n",
       "    <tr>\n",
       "      <th>6</th>\n",
       "      <td>LotShape</td>\n",
       "      <td>1460</td>\n",
       "      <td>object</td>\n",
       "      <td>General shape of property</td>\n",
       "    </tr>\n",
       "    <tr>\n",
       "      <th>7</th>\n",
       "      <td>LandContour</td>\n",
       "      <td>1460</td>\n",
       "      <td>object</td>\n",
       "      <td>Flatness of the property</td>\n",
       "    </tr>\n",
       "    <tr>\n",
       "      <th>8</th>\n",
       "      <td>Utilities</td>\n",
       "      <td>1460</td>\n",
       "      <td>object</td>\n",
       "      <td>Type of utilities available</td>\n",
       "    </tr>\n",
       "    <tr>\n",
       "      <th>9</th>\n",
       "      <td>LotConfig</td>\n",
       "      <td>1460</td>\n",
       "      <td>object</td>\n",
       "      <td>Lot configuration</td>\n",
       "    </tr>\n",
       "    <tr>\n",
       "      <th>10</th>\n",
       "      <td>LandSlope</td>\n",
       "      <td>1460</td>\n",
       "      <td>object</td>\n",
       "      <td>Slope of property</td>\n",
       "    </tr>\n",
       "    <tr>\n",
       "      <th>11</th>\n",
       "      <td>Neighborhood</td>\n",
       "      <td>1460</td>\n",
       "      <td>object</td>\n",
       "      <td>Physical locations within Ames city limits</td>\n",
       "    </tr>\n",
       "    <tr>\n",
       "      <th>12</th>\n",
       "      <td>Condition1</td>\n",
       "      <td>1460</td>\n",
       "      <td>object</td>\n",
       "      <td>Proximity to various conditions</td>\n",
       "    </tr>\n",
       "    <tr>\n",
       "      <th>13</th>\n",
       "      <td>Condition2</td>\n",
       "      <td>1460</td>\n",
       "      <td>object</td>\n",
       "      <td>Proximity to various conditions (if more than one is present)</td>\n",
       "    </tr>\n",
       "    <tr>\n",
       "      <th>14</th>\n",
       "      <td>BldgType</td>\n",
       "      <td>1460</td>\n",
       "      <td>object</td>\n",
       "      <td>Type of dwelling</td>\n",
       "    </tr>\n",
       "    <tr>\n",
       "      <th>15</th>\n",
       "      <td>HouseStyle</td>\n",
       "      <td>1460</td>\n",
       "      <td>object</td>\n",
       "      <td>Style of dwelling</td>\n",
       "    </tr>\n",
       "    <tr>\n",
       "      <th>16</th>\n",
       "      <td>OverallQual</td>\n",
       "      <td>1460</td>\n",
       "      <td>int64</td>\n",
       "      <td>Rates the overall material and finish of the house</td>\n",
       "    </tr>\n",
       "    <tr>\n",
       "      <th>17</th>\n",
       "      <td>OverallCond</td>\n",
       "      <td>1460</td>\n",
       "      <td>int64</td>\n",
       "      <td>Rates the overall condition of the house</td>\n",
       "    </tr>\n",
       "    <tr>\n",
       "      <th>18</th>\n",
       "      <td>YearBuilt</td>\n",
       "      <td>1460</td>\n",
       "      <td>int64</td>\n",
       "      <td>Original construction date</td>\n",
       "    </tr>\n",
       "    <tr>\n",
       "      <th>19</th>\n",
       "      <td>YearRemodAdd</td>\n",
       "      <td>1460</td>\n",
       "      <td>int64</td>\n",
       "      <td>Remodel date (same as construction date if no remodeling or additions)</td>\n",
       "    </tr>\n",
       "    <tr>\n",
       "      <th>20</th>\n",
       "      <td>RoofStyle</td>\n",
       "      <td>1460</td>\n",
       "      <td>object</td>\n",
       "      <td>Type of roof</td>\n",
       "    </tr>\n",
       "    <tr>\n",
       "      <th>21</th>\n",
       "      <td>RoofMatl</td>\n",
       "      <td>1460</td>\n",
       "      <td>object</td>\n",
       "      <td>Roof material</td>\n",
       "    </tr>\n",
       "    <tr>\n",
       "      <th>22</th>\n",
       "      <td>Exterior1st</td>\n",
       "      <td>1460</td>\n",
       "      <td>object</td>\n",
       "      <td>Exterior covering on house</td>\n",
       "    </tr>\n",
       "    <tr>\n",
       "      <th>23</th>\n",
       "      <td>Exterior2nd</td>\n",
       "      <td>1460</td>\n",
       "      <td>object</td>\n",
       "      <td>Exterior covering on house (if more than one material)</td>\n",
       "    </tr>\n",
       "    <tr>\n",
       "      <th>24</th>\n",
       "      <td>MasVnrType</td>\n",
       "      <td>1452</td>\n",
       "      <td>object</td>\n",
       "      <td>Masonry veneer type</td>\n",
       "    </tr>\n",
       "    <tr>\n",
       "      <th>25</th>\n",
       "      <td>MasVnrArea</td>\n",
       "      <td>1452</td>\n",
       "      <td>float64</td>\n",
       "      <td>Masonry veneer area in square feet</td>\n",
       "    </tr>\n",
       "    <tr>\n",
       "      <th>26</th>\n",
       "      <td>ExterQual</td>\n",
       "      <td>1460</td>\n",
       "      <td>object</td>\n",
       "      <td>Evaluates the quality of the material on the exterior</td>\n",
       "    </tr>\n",
       "    <tr>\n",
       "      <th>27</th>\n",
       "      <td>ExterCond</td>\n",
       "      <td>1460</td>\n",
       "      <td>object</td>\n",
       "      <td>Evaluates the present condition of the material on the exterior</td>\n",
       "    </tr>\n",
       "    <tr>\n",
       "      <th>28</th>\n",
       "      <td>Foundation</td>\n",
       "      <td>1460</td>\n",
       "      <td>object</td>\n",
       "      <td>Type of foundation</td>\n",
       "    </tr>\n",
       "    <tr>\n",
       "      <th>29</th>\n",
       "      <td>BsmtQual</td>\n",
       "      <td>1423</td>\n",
       "      <td>object</td>\n",
       "      <td>Evaluates the height of the basement</td>\n",
       "    </tr>\n",
       "    <tr>\n",
       "      <th>...</th>\n",
       "      <td>...</td>\n",
       "      <td>...</td>\n",
       "      <td>...</td>\n",
       "      <td>...</td>\n",
       "    </tr>\n",
       "    <tr>\n",
       "      <th>47</th>\n",
       "      <td>BsmtHalfBath</td>\n",
       "      <td>1460</td>\n",
       "      <td>int64</td>\n",
       "      <td>Basement half bathrooms</td>\n",
       "    </tr>\n",
       "    <tr>\n",
       "      <th>48</th>\n",
       "      <td>FullBath</td>\n",
       "      <td>1460</td>\n",
       "      <td>int64</td>\n",
       "      <td>Full bathrooms above grade</td>\n",
       "    </tr>\n",
       "    <tr>\n",
       "      <th>49</th>\n",
       "      <td>HalfBath</td>\n",
       "      <td>1460</td>\n",
       "      <td>int64</td>\n",
       "      <td>Half baths above grade</td>\n",
       "    </tr>\n",
       "    <tr>\n",
       "      <th>50</th>\n",
       "      <td>KitchenQual</td>\n",
       "      <td>1460</td>\n",
       "      <td>object</td>\n",
       "      <td>Kitchen quality</td>\n",
       "    </tr>\n",
       "    <tr>\n",
       "      <th>51</th>\n",
       "      <td>TotRmsAbvGrd</td>\n",
       "      <td>1460</td>\n",
       "      <td>int64</td>\n",
       "      <td>Total rooms above grade (does not include bathrooms)</td>\n",
       "    </tr>\n",
       "    <tr>\n",
       "      <th>52</th>\n",
       "      <td>Functional</td>\n",
       "      <td>1460</td>\n",
       "      <td>object</td>\n",
       "      <td>Home functionality (Assume typical unless deductions are warranted)</td>\n",
       "    </tr>\n",
       "    <tr>\n",
       "      <th>53</th>\n",
       "      <td>Fireplaces</td>\n",
       "      <td>1460</td>\n",
       "      <td>int64</td>\n",
       "      <td>Number of fireplaces</td>\n",
       "    </tr>\n",
       "    <tr>\n",
       "      <th>54</th>\n",
       "      <td>FireplaceQu</td>\n",
       "      <td>770</td>\n",
       "      <td>object</td>\n",
       "      <td>Fireplace quality</td>\n",
       "    </tr>\n",
       "    <tr>\n",
       "      <th>55</th>\n",
       "      <td>GarageType</td>\n",
       "      <td>1379</td>\n",
       "      <td>object</td>\n",
       "      <td>Garage location</td>\n",
       "    </tr>\n",
       "    <tr>\n",
       "      <th>56</th>\n",
       "      <td>GarageYrBlt</td>\n",
       "      <td>1379</td>\n",
       "      <td>float64</td>\n",
       "      <td>Year garage was built</td>\n",
       "    </tr>\n",
       "    <tr>\n",
       "      <th>57</th>\n",
       "      <td>GarageFinish</td>\n",
       "      <td>1379</td>\n",
       "      <td>object</td>\n",
       "      <td>Interior finish of the garage</td>\n",
       "    </tr>\n",
       "    <tr>\n",
       "      <th>58</th>\n",
       "      <td>GarageCars</td>\n",
       "      <td>1460</td>\n",
       "      <td>int64</td>\n",
       "      <td>Size of garage in car capacity</td>\n",
       "    </tr>\n",
       "    <tr>\n",
       "      <th>59</th>\n",
       "      <td>GarageArea</td>\n",
       "      <td>1460</td>\n",
       "      <td>int64</td>\n",
       "      <td>Size of garage in square feet</td>\n",
       "    </tr>\n",
       "    <tr>\n",
       "      <th>60</th>\n",
       "      <td>GarageQual</td>\n",
       "      <td>1379</td>\n",
       "      <td>object</td>\n",
       "      <td>Garage quality</td>\n",
       "    </tr>\n",
       "    <tr>\n",
       "      <th>61</th>\n",
       "      <td>GarageCond</td>\n",
       "      <td>1379</td>\n",
       "      <td>object</td>\n",
       "      <td>Garage condition</td>\n",
       "    </tr>\n",
       "    <tr>\n",
       "      <th>62</th>\n",
       "      <td>PavedDrive</td>\n",
       "      <td>1460</td>\n",
       "      <td>object</td>\n",
       "      <td>Paved driveway</td>\n",
       "    </tr>\n",
       "    <tr>\n",
       "      <th>63</th>\n",
       "      <td>WoodDeckSF</td>\n",
       "      <td>1460</td>\n",
       "      <td>int64</td>\n",
       "      <td>Wood deck area in square feet</td>\n",
       "    </tr>\n",
       "    <tr>\n",
       "      <th>64</th>\n",
       "      <td>OpenPorchSF</td>\n",
       "      <td>1460</td>\n",
       "      <td>int64</td>\n",
       "      <td>Open porch area in square feet</td>\n",
       "    </tr>\n",
       "    <tr>\n",
       "      <th>65</th>\n",
       "      <td>EnclosedPorch</td>\n",
       "      <td>1460</td>\n",
       "      <td>int64</td>\n",
       "      <td>Enclosed porch area in square feet</td>\n",
       "    </tr>\n",
       "    <tr>\n",
       "      <th>66</th>\n",
       "      <td>3SsnPorch</td>\n",
       "      <td>1460</td>\n",
       "      <td>int64</td>\n",
       "      <td>Three season porch area in square feet</td>\n",
       "    </tr>\n",
       "    <tr>\n",
       "      <th>67</th>\n",
       "      <td>ScreenPorch</td>\n",
       "      <td>1460</td>\n",
       "      <td>int64</td>\n",
       "      <td>Screen porch area in square feet</td>\n",
       "    </tr>\n",
       "    <tr>\n",
       "      <th>68</th>\n",
       "      <td>PoolArea</td>\n",
       "      <td>1460</td>\n",
       "      <td>int64</td>\n",
       "      <td>Pool area in square feet</td>\n",
       "    </tr>\n",
       "    <tr>\n",
       "      <th>69</th>\n",
       "      <td>PoolQC</td>\n",
       "      <td>7</td>\n",
       "      <td>object</td>\n",
       "      <td>Pool quality</td>\n",
       "    </tr>\n",
       "    <tr>\n",
       "      <th>70</th>\n",
       "      <td>Fence</td>\n",
       "      <td>281</td>\n",
       "      <td>object</td>\n",
       "      <td>Fence quality</td>\n",
       "    </tr>\n",
       "    <tr>\n",
       "      <th>71</th>\n",
       "      <td>MiscFeature</td>\n",
       "      <td>54</td>\n",
       "      <td>object</td>\n",
       "      <td>Miscellaneous feature not covered in other categories</td>\n",
       "    </tr>\n",
       "    <tr>\n",
       "      <th>72</th>\n",
       "      <td>MiscVal</td>\n",
       "      <td>1460</td>\n",
       "      <td>int64</td>\n",
       "      <td>$Value of miscellaneous feature</td>\n",
       "    </tr>\n",
       "    <tr>\n",
       "      <th>73</th>\n",
       "      <td>MoSold</td>\n",
       "      <td>1460</td>\n",
       "      <td>int64</td>\n",
       "      <td>Month Sold (MM)</td>\n",
       "    </tr>\n",
       "    <tr>\n",
       "      <th>74</th>\n",
       "      <td>YrSold</td>\n",
       "      <td>1460</td>\n",
       "      <td>int64</td>\n",
       "      <td>Year Sold (YYYY)</td>\n",
       "    </tr>\n",
       "    <tr>\n",
       "      <th>75</th>\n",
       "      <td>SaleType</td>\n",
       "      <td>1460</td>\n",
       "      <td>object</td>\n",
       "      <td>Type of sale</td>\n",
       "    </tr>\n",
       "    <tr>\n",
       "      <th>76</th>\n",
       "      <td>SaleCondition</td>\n",
       "      <td>1460</td>\n",
       "      <td>object</td>\n",
       "      <td>Condition of sale</td>\n",
       "    </tr>\n",
       "  </tbody>\n",
       "</table>\n",
       "<p>77 rows × 4 columns</p>\n",
       "</div>"
      ],
      "text/plain": [
       "         Variable  Count     Type  \\\n",
       "0   MSSubClass     1460   int64     \n",
       "1   MSZoning       1460   object    \n",
       "2   LotFrontage    1201   float64   \n",
       "3   LotArea        1460   int64     \n",
       "4   Street         1460   object    \n",
       "5   Alley          91     object    \n",
       "6   LotShape       1460   object    \n",
       "7   LandContour    1460   object    \n",
       "8   Utilities      1460   object    \n",
       "9   LotConfig      1460   object    \n",
       "10  LandSlope      1460   object    \n",
       "11  Neighborhood   1460   object    \n",
       "12  Condition1     1460   object    \n",
       "13  Condition2     1460   object    \n",
       "14  BldgType       1460   object    \n",
       "15  HouseStyle     1460   object    \n",
       "16  OverallQual    1460   int64     \n",
       "17  OverallCond    1460   int64     \n",
       "18  YearBuilt      1460   int64     \n",
       "19  YearRemodAdd   1460   int64     \n",
       "20  RoofStyle      1460   object    \n",
       "21  RoofMatl       1460   object    \n",
       "22  Exterior1st    1460   object    \n",
       "23  Exterior2nd    1460   object    \n",
       "24  MasVnrType     1452   object    \n",
       "25  MasVnrArea     1452   float64   \n",
       "26  ExterQual      1460   object    \n",
       "27  ExterCond      1460   object    \n",
       "28  Foundation     1460   object    \n",
       "29  BsmtQual       1423   object    \n",
       "..       ...        ...      ...    \n",
       "47  BsmtHalfBath   1460   int64     \n",
       "48  FullBath       1460   int64     \n",
       "49  HalfBath       1460   int64     \n",
       "50  KitchenQual    1460   object    \n",
       "51  TotRmsAbvGrd   1460   int64     \n",
       "52  Functional     1460   object    \n",
       "53  Fireplaces     1460   int64     \n",
       "54  FireplaceQu    770    object    \n",
       "55  GarageType     1379   object    \n",
       "56  GarageYrBlt    1379   float64   \n",
       "57  GarageFinish   1379   object    \n",
       "58  GarageCars     1460   int64     \n",
       "59  GarageArea     1460   int64     \n",
       "60  GarageQual     1379   object    \n",
       "61  GarageCond     1379   object    \n",
       "62  PavedDrive     1460   object    \n",
       "63  WoodDeckSF     1460   int64     \n",
       "64  OpenPorchSF    1460   int64     \n",
       "65  EnclosedPorch  1460   int64     \n",
       "66  3SsnPorch      1460   int64     \n",
       "67  ScreenPorch    1460   int64     \n",
       "68  PoolArea       1460   int64     \n",
       "69  PoolQC         7      object    \n",
       "70  Fence          281    object    \n",
       "71  MiscFeature    54     object    \n",
       "72  MiscVal        1460   int64     \n",
       "73  MoSold         1460   int64     \n",
       "74  YrSold         1460   int64     \n",
       "75  SaleType       1460   object    \n",
       "76  SaleCondition  1460   object    \n",
       "\n",
       "                                                                Description  \n",
       "0    Identifies the type of dwelling involved in the sale.                   \n",
       "1    Identifies the general zoning classification of the sale.               \n",
       "2    Linear feet of street connected to property                             \n",
       "3    Lot size in square feet                                                 \n",
       "4    Type of road access to property                                         \n",
       "5    Type of alley access to property                                        \n",
       "6    General shape of property                                               \n",
       "7    Flatness of the property                                                \n",
       "8    Type of utilities available                                             \n",
       "9    Lot configuration                                                       \n",
       "10   Slope of property                                                       \n",
       "11   Physical locations within Ames city limits                              \n",
       "12   Proximity to various conditions                                         \n",
       "13   Proximity to various conditions (if more than one is present)           \n",
       "14   Type of dwelling                                                        \n",
       "15   Style of dwelling                                                       \n",
       "16   Rates the overall material and finish of the house                      \n",
       "17   Rates the overall condition of the house                                \n",
       "18   Original construction date                                              \n",
       "19   Remodel date (same as construction date if no remodeling or additions)  \n",
       "20   Type of roof                                                            \n",
       "21   Roof material                                                           \n",
       "22   Exterior covering on house                                              \n",
       "23   Exterior covering on house (if more than one material)                  \n",
       "24   Masonry veneer type                                                     \n",
       "25   Masonry veneer area in square feet                                      \n",
       "26   Evaluates the quality of the material on the exterior                   \n",
       "27   Evaluates the present condition of the material on the exterior         \n",
       "28   Type of foundation                                                      \n",
       "29   Evaluates the height of the basement                                    \n",
       "..                                    ...                                    \n",
       "47   Basement half bathrooms                                                 \n",
       "48   Full bathrooms above grade                                              \n",
       "49   Half baths above grade                                                  \n",
       "50   Kitchen quality                                                         \n",
       "51   Total rooms above grade (does not include bathrooms)                    \n",
       "52   Home functionality (Assume typical unless deductions are warranted)     \n",
       "53   Number of fireplaces                                                    \n",
       "54   Fireplace quality                                                       \n",
       "55   Garage location                                                         \n",
       "56   Year garage was built                                                   \n",
       "57   Interior finish of the garage                                           \n",
       "58   Size of garage in car capacity                                          \n",
       "59   Size of garage in square feet                                           \n",
       "60   Garage quality                                                          \n",
       "61   Garage condition                                                        \n",
       "62   Paved driveway                                                          \n",
       "63   Wood deck area in square feet                                           \n",
       "64   Open porch area in square feet                                          \n",
       "65   Enclosed porch area in square feet                                      \n",
       "66   Three season porch area in square feet                                  \n",
       "67   Screen porch area in square feet                                        \n",
       "68   Pool area in square feet                                                \n",
       "69   Pool quality                                                            \n",
       "70   Fence quality                                                           \n",
       "71   Miscellaneous feature not covered in other categories                   \n",
       "72   $Value of miscellaneous feature                                         \n",
       "73   Month Sold (MM)                                                         \n",
       "74   Year Sold (YYYY)                                                        \n",
       "75   Type of sale                                                            \n",
       "76   Condition of sale                                                       \n",
       "\n",
       "[77 rows x 4 columns]"
      ]
     },
     "execution_count": 13,
     "metadata": {},
     "output_type": "execute_result"
    }
   ],
   "source": [
    "dfCheatFinal\n",
    "#need to figure out how to make the description longer or wrap arround"
   ]
  },
  {
   "cell_type": "code",
   "execution_count": 14,
   "metadata": {
    "collapsed": false
   },
   "outputs": [],
   "source": [
    "#Data Cleaning\n",
    "\n",
    "#identify & drop where missing half of the data\n",
    "\n",
    "#length of data set\n",
    "threshold = len(df_train)/2\n",
    "#print(threshold)\n",
    "\n",
    "#like indexing the data frame\n",
    "#can index the df.columns based on boolean value\n",
    "columnsToDrop = df_train.columns[(df_train.count()<threshold)]\n",
    "df_master.drop(labels = columnsToDrop,inplace = True, axis = 1)"
   ]
  },
  {
   "cell_type": "code",
   "execution_count": 15,
   "metadata": {
    "collapsed": true
   },
   "outputs": [],
   "source": [
    "#implement data cleaning changes\n",
    "df_train = df_master[df_master['DataType']=='Train']\n",
    "df_test = df_master[df_master['DataType']=='Test']"
   ]
  },
  {
   "cell_type": "code",
   "execution_count": 23,
   "metadata": {
    "collapsed": false
   },
   "outputs": [],
   "source": [
    "#df_train.isnull() # returns a df w/ boolean values indicating if false\n",
    "\n",
    "#sums up all NAs \n",
    "#df_train.isnull().sum()\n",
    "\n",
    "#probably could condense this to only return the columns where it is greater than 5%\n",
    "\n",
    "\n",
    "#returns only the colums where NA is greater than zero\n",
    "NaColumns = df_train.columns[df_train.isnull().sum() > 0]\n",
    "\n",
    "#df_train.BsmtCond"
   ]
  },
  {
   "cell_type": "code",
   "execution_count": 27,
   "metadata": {
    "collapsed": false
   },
   "outputs": [
    {
     "data": {
      "text/plain": [
       "BsmtCond        37 \n",
       "BsmtExposure    38 \n",
       "BsmtFinType1    37 \n",
       "BsmtFinType2    38 \n",
       "BsmtQual        37 \n",
       "Electrical      1  \n",
       "FireplaceQu     690\n",
       "GarageCond      81 \n",
       "GarageFinish    81 \n",
       "GarageQual      81 \n",
       "GarageType      81 \n",
       "GarageYrBlt     81 \n",
       "LotFrontage     259\n",
       "MasVnrArea      8  \n",
       "MasVnrType      8  \n",
       "dtype: int64"
      ]
     },
     "execution_count": 27,
     "metadata": {},
     "output_type": "execute_result"
    }
   ],
   "source": [
    "df_train[NaColumns].isnull().sum()\n",
    "\n",
    "#https://www.dataquest.io/blog/machine-learning-preparing-data/\n",
    "#recommended to remove any columns where 1% of the row or more is missing \n",
    "#why 1%?  What if it was 10%?  Let's try 5% given that feels right"
   ]
  },
  {
   "cell_type": "code",
   "execution_count": 32,
   "metadata": {
    "collapsed": false
   },
   "outputs": [
    {
     "name": "stdout",
     "output_type": "stream",
     "text": [
      "14.6\n",
      "73.0\n",
      "146.0\n"
     ]
    }
   ],
   "source": [
    "# different % of data\n",
    "print(len(df_train)*.01)\n",
    "print(len(df_train)*.05)\n",
    "print(len(df_train)*.1)"
   ]
  },
  {
   "cell_type": "code",
   "execution_count": 33,
   "metadata": {
    "collapsed": true
   },
   "outputs": [],
   "source": [
    "MissingDataCutOff = len(df_train)*.05"
   ]
  },
  {
   "cell_type": "code",
   "execution_count": 47,
   "metadata": {
    "collapsed": false
   },
   "outputs": [],
   "source": [
    "#Need to break this out into more steps, its a litle complicated right now\n",
    "MoreDropColumns = df_train[NaColumns].columns[df_train[NaColumns].isnull().sum() > MissingDataCutOff]\n",
    "#df_train[NaColumns].columns.isna"
   ]
  },
  {
   "cell_type": "code",
   "execution_count": 49,
   "metadata": {
    "collapsed": false
   },
   "outputs": [],
   "source": [
    "df_master.drop(labels = MoreDropColumns,inplace = True, axis = 1)"
   ]
  },
  {
   "cell_type": "code",
   "execution_count": 50,
   "metadata": {
    "collapsed": true
   },
   "outputs": [],
   "source": [
    "#implement data cleaning changes\n",
    "df_train = df_master[df_master['DataType']=='Train']\n",
    "df_test = df_master[df_master['DataType']=='Test']"
   ]
  },
  {
   "cell_type": "code",
   "execution_count": 55,
   "metadata": {
    "collapsed": false
   },
   "outputs": [
    {
     "data": {
      "text/plain": [
       "Index(['BsmtCond', 'BsmtExposure', 'BsmtFinType1', 'BsmtFinType2', 'BsmtQual',\n",
       "       'Electrical', 'MasVnrArea', 'MasVnrType'],\n",
       "      dtype='object')"
      ]
     },
     "execution_count": 55,
     "metadata": {},
     "output_type": "execute_result"
    }
   ],
   "source": [
    "df_train.columns[df_train.isnull().sum()>0]"
   ]
  },
  {
   "cell_type": "code",
   "execution_count": 18,
   "metadata": {
    "collapsed": false
   },
   "outputs": [
    {
     "data": {
      "text/html": [
       "<div>\n",
       "<table border=\"1\" class=\"dataframe\">\n",
       "  <thead>\n",
       "    <tr style=\"text-align: right;\">\n",
       "      <th></th>\n",
       "      <th>Variable</th>\n",
       "      <th>Count</th>\n",
       "      <th>Type</th>\n",
       "      <th>Description</th>\n",
       "    </tr>\n",
       "  </thead>\n",
       "  <tbody>\n",
       "    <tr>\n",
       "      <th>30</th>\n",
       "      <td>BsmtCond</td>\n",
       "      <td>1423</td>\n",
       "      <td>object</td>\n",
       "      <td>Evaluates the general condition of the basement</td>\n",
       "    </tr>\n",
       "  </tbody>\n",
       "</table>\n",
       "</div>"
      ],
      "text/plain": [
       "    Variable  Count    Type                                       Description\n",
       "30  BsmtCond  1423   object   Evaluates the general condition of the basement"
      ]
     },
     "execution_count": 18,
     "metadata": {},
     "output_type": "execute_result"
    }
   ],
   "source": [
    "dfCheatFinal[dfCheatFinal['Variable'] == 'BsmtCond']"
   ]
  },
  {
   "cell_type": "code",
   "execution_count": null,
   "metadata": {
    "collapsed": false
   },
   "outputs": [],
   "source": [
    "#Exploring & Removing Null Values"
   ]
  },
  {
   "cell_type": "code",
   "execution_count": null,
   "metadata": {
    "collapsed": true
   },
   "outputs": [],
   "source": [
    "#Data Engineering\n",
    "df_master['TotFullBath'] = (df_master['BsmtFullBath'] + df_master['FullBath'])\n",
    "df_master['TotHalfBath'] = (df_master['BsmtHalfBath'] + df_master['HalfBath'])\n",
    "df_master['YrSinceRemod'] = (2011 - df_master['YearRemodAdd'])\n",
    "df_master['HouseAge'] = (2011 -df_master['YearBuilt'])\n",
    "df_master['TotSF'] = (df_master['1stFlrSF'] + df_master['2ndFlrSF'])"
   ]
  },
  {
   "cell_type": "code",
   "execution_count": null,
   "metadata": {
    "collapsed": true
   },
   "outputs": [],
   "source": [
    "basic_variables = ['LotArea','HouseAge','YrSinceRemod','TotSF','BedroomAbvGr','TotRmsAbvGrd','SalePrice']"
   ]
  },
  {
   "cell_type": "code",
   "execution_count": null,
   "metadata": {
    "collapsed": true
   },
   "outputs": [],
   "source": [
    "#implement data changes engineering \n",
    "\n",
    "df_train = df_master[df_master['DataType']=='Train']\n",
    "df_test = df_master[df_master['DataType']=='Test']"
   ]
  },
  {
   "cell_type": "code",
   "execution_count": null,
   "metadata": {
    "collapsed": false
   },
   "outputs": [],
   "source": [
    "sns.pairplot(df_train[basic_variables])"
   ]
  },
  {
   "cell_type": "code",
   "execution_count": null,
   "metadata": {
    "collapsed": false
   },
   "outputs": [],
   "source": [
    "df_train[['BedroomAbvGr','SalePrice']].corr()"
   ]
  },
  {
   "cell_type": "code",
   "execution_count": null,
   "metadata": {
    "collapsed": false
   },
   "outputs": [],
   "source": [
    "df_train[['TotRmsAbvGrd','SalePrice']].corr()"
   ]
  },
  {
   "cell_type": "code",
   "execution_count": null,
   "metadata": {
    "collapsed": true
   },
   "outputs": [],
   "source": [
    "df_basic = df_train[basic_variables]\n",
    "df_basic_test = df_test[basic_variables]"
   ]
  },
  {
   "cell_type": "code",
   "execution_count": null,
   "metadata": {
    "collapsed": true
   },
   "outputs": [],
   "source": [
    "#Machine Learning Classification\n",
    "x_train = df_basic.drop(labels = 'SalePrice',axis=1)\n",
    "y_train = df_basic.SalePrice\n",
    "\n",
    "x_test = df_basic_test.drop(labels = 'SalePrice',axis=1)"
   ]
  },
  {
   "cell_type": "code",
   "execution_count": null,
   "metadata": {
    "collapsed": true
   },
   "outputs": [],
   "source": [
    "#Machine Learning\n",
    "y = y_train"
   ]
  },
  {
   "cell_type": "code",
   "execution_count": null,
   "metadata": {
    "collapsed": true
   },
   "outputs": [],
   "source": [
    "clf_tree = DecisionTreeClassifier()"
   ]
  },
  {
   "cell_type": "code",
   "execution_count": null,
   "metadata": {
    "collapsed": false
   },
   "outputs": [],
   "source": [
    "clf_tree.fit(x_train,y_train)"
   ]
  },
  {
   "cell_type": "code",
   "execution_count": null,
   "metadata": {
    "collapsed": true
   },
   "outputs": [],
   "source": [
    "pred_tree = clf_tree.predict(x_test)"
   ]
  },
  {
   "cell_type": "code",
   "execution_count": null,
   "metadata": {
    "collapsed": false
   },
   "outputs": [],
   "source": [
    "print(pred_tree)"
   ]
  },
  {
   "cell_type": "code",
   "execution_count": null,
   "metadata": {
    "collapsed": true
   },
   "outputs": [],
   "source": [
    "clf_reg = linear_model.LinearRegression()\n",
    "clf_reg.fit(x_train,y_train)\n",
    "pred_reg = clf_reg.predict(x_test)"
   ]
  },
  {
   "cell_type": "code",
   "execution_count": null,
   "metadata": {
    "collapsed": false
   },
   "outputs": [],
   "source": [
    "print(pred_reg)"
   ]
  },
  {
   "cell_type": "code",
   "execution_count": null,
   "metadata": {
    "collapsed": true
   },
   "outputs": [],
   "source": [
    "df_test = pd.read_csv(\"test.csv\")"
   ]
  },
  {
   "cell_type": "code",
   "execution_count": null,
   "metadata": {
    "collapsed": true
   },
   "outputs": [],
   "source": [
    "test_ids = df_test.Id\n",
    "\n",
    "#submission_reg = {'Id':test_ids,'SalePrice':pred_reg}\n",
    "sub_tree1 = {'Id':test_ids,'SalePrice':pred_tree}\n",
    "\n",
    "#sub_reg = pd.DataFrame(submission_reg)\n",
    "sub_tree = pd.DataFrame(sub_tree1)"
   ]
  },
  {
   "cell_type": "code",
   "execution_count": null,
   "metadata": {
    "collapsed": true
   },
   "outputs": [],
   "source": [
    "#sub_reg.to_csv(\"Regression.csv\",index = False)\n",
    "sub_tree.to_csv(\"Tree.csv\",index = False)"
   ]
  },
  {
   "cell_type": "code",
   "execution_count": null,
   "metadata": {
    "collapsed": true
   },
   "outputs": [],
   "source": [
    "#https://towardsdatascience.com/train-test-split-and-cross-validation-in-python-80b61beca4b6"
   ]
  }
 ],
 "metadata": {
  "kernelspec": {
   "display_name": "Python 3",
   "language": "python",
   "name": "python3"
  },
  "language_info": {
   "codemirror_mode": {
    "name": "ipython",
    "version": 3
   },
   "file_extension": ".py",
   "mimetype": "text/x-python",
   "name": "python",
   "nbconvert_exporter": "python",
   "pygments_lexer": "ipython3",
   "version": "3.5.2"
  }
 },
 "nbformat": 4,
 "nbformat_minor": 2
}
