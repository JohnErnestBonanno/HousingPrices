{
 "cells": [
  {
   "cell_type": "code",
   "execution_count": 1,
   "metadata": {
    "collapsed": true
   },
   "outputs": [],
   "source": [
    "#import statements\n",
    "\n",
    "#standard imports\n",
    "import pandas as pd\n",
    "import matplotlib.pyplot as plt\n",
    "import seaborn as sns\n",
    "import numpy as np\n",
    "\n",
    "#standard sklearn imports\n",
    "from sklearn.model_selection import train_test_split\n",
    "from sklearn.metrics import mean_squared_error\n",
    "\n",
    "#sklearn algorithms\n",
    "from sklearn import linear_model\n",
    "from sklearn.tree import DecisionTreeRegressor\n",
    "from sklearn.cluster import KMeans\n",
    "\n",
    "%matplotlib inline"
   ]
  },
  {
   "cell_type": "code",
   "execution_count": 2,
   "metadata": {
    "collapsed": true
   },
   "outputs": [],
   "source": [
    "#load data\n",
    "dfTrain = pd.read_csv('FinalTrain.csv',index_col =0) \n",
    "dfTest = pd.read_csv('FinalTest.csv',index_col =0) "
   ]
  },
  {
   "cell_type": "code",
   "execution_count": 3,
   "metadata": {},
   "outputs": [
    {
     "name": "stdout",
     "output_type": "stream",
     "text": [
      "(1460, 80)\n",
      "(1459, 79)\n"
     ]
    }
   ],
   "source": [
    "print(dfTrain.shape)\n",
    "print(dfTest.shape)\n",
    "#dfTest does not have SalePriceLog because couldn't convert it\n",
    "#need to remove SalePriceLog from training data before training"
   ]
  },
  {
   "cell_type": "code",
   "execution_count": 4,
   "metadata": {
    "collapsed": true
   },
   "outputs": [],
   "source": [
    "#list to filter the data set\n",
    "\n",
    "goalNfilter = ['SalePrice']\n",
    "goalLfilter = ['SalePriceLog']\n",
    "\n",
    "objectFilter = ['BldgType', 'BsmtCond', 'BsmtExposure', 'BsmtFinType1', 'BsmtFinType2',\n",
    "       'BsmtQual', 'CentralAir', 'Condition1', 'Condition2', 'DataType',\n",
    "       'Electrical', 'ExterCond', 'ExterQual', 'Exterior1st', 'Exterior2nd',\n",
    "       'Foundation', 'Functional', 'Heating', 'HeatingQC', 'HouseStyle',\n",
    "       'KitchenQual', 'LandContour', 'LandSlope', 'LotConfig', 'LotShape',\n",
    "       'MSZoning', 'MasVnrType', 'Neighborhood', 'PavedDrive', 'RoofMatl',\n",
    "       'RoofStyle', 'SaleCondition', 'SaleType']\n",
    "\n",
    "intFilter = ['1stFlrSF', '2ndFlrSF', '3SsnPorch', 'BedroomAbvGr', 'BsmtFinSF1',\n",
    "       'BsmtFinSF2', 'BsmtFullBath', 'BsmtHalfBath', 'BsmtUnfSF',\n",
    "       'EnclosedPorch', 'Fireplaces', 'FullBath', 'GarageArea', 'GarageCars',\n",
    "       'GrLivArea', 'HalfBath', 'Id', 'KitchenAbvGr', 'LotArea',\n",
    "       'LowQualFinSF', 'MSSubClass', 'MiscVal', 'MoSold',\n",
    "       'OpenPorchSF', 'OverallCond', 'OverallQual', 'PoolArea', 'SalePrice',\n",
    "       'ScreenPorch', 'TotRmsAbvGrd', 'TotalBsmtSF', 'WoodDeckSF', 'YearBuilt',\n",
    "       'YearRemodAdd', 'YrSold']\n",
    "\n",
    "OrgFeatures = [objectFilter + intFilter]\n",
    "\n",
    "FeatEnginer = list(dfTrain.columns[-10:])\n",
    "\n",
    "intFilterAll = intFilter + FeatEnginer"
   ]
  },
  {
   "cell_type": "code",
   "execution_count": 5,
   "metadata": {
    "collapsed": true
   },
   "outputs": [],
   "source": [
    "#Filter to look at that might perform better\n",
    "topBot5 = ['OverallQual','TotSF','GrLivArea','GarageCars','GarageArea',\n",
    "           'MSSubClass','EnclosedPorch','KitchenAbvGr','YrSinceRemod','HouseAge']\n",
    "\n",
    "topBot10 = ['BsmtFinSF2','BsmtHalfBath','MiscVal','LowQualFinSF','YrSold',\n",
    "            'OverallCond','MSSubClass','EnclosedPorch','KitchenAbvGr','YrSinceRemod','HouseAge',\n",
    "'OverallQual','TotSF','GrLivArea','GarageCars','GarageArea','TotalBsmtSF','1stFlrSF','TotFullBath','FullBath','TotRmsAbvGrd']"
   ]
  },
  {
   "cell_type": "code",
   "execution_count": 6,
   "metadata": {
    "collapsed": true
   },
   "outputs": [],
   "source": [
    "#create target variable(s)\n",
    "yNormal = dfTrain.SalePrice\n",
    "yLog = dfTrain.SalePriceLog"
   ]
  },
  {
   "cell_type": "code",
   "execution_count": 7,
   "metadata": {},
   "outputs": [],
   "source": [
    "#create data set for normal testing + log testing\n",
    "\n",
    "#looking only at topBot5 to start because easiest\n",
    "dfTrainN = dfTrain[topBot5].copy()\n",
    "dfTrainL = dfTrain[topBot5].copy()"
   ]
  },
  {
   "cell_type": "code",
   "execution_count": 8,
   "metadata": {
    "collapsed": true
   },
   "outputs": [],
   "source": [
    "#create target variables\n",
    "yTargetN = dfTrain.SalePrice\n",
    "yTargetL = dfTrain.SalePriceLog"
   ]
  },
  {
   "cell_type": "code",
   "execution_count": 9,
   "metadata": {},
   "outputs": [],
   "source": [
    "#create test and training data\n",
    "\n",
    "#Normal Set up\n",
    "xTrainNorm, xTestNorm, yTrainNorm, yTestNorm = train_test_split(dfTrainN,yNormal,test_size = .3)\n",
    "\n",
    "#Log Set Up\n",
    "xTrainLog, xTestLog, yTrainLog, yTestLog = train_test_split(dfTrainL,yLog,test_size = .3)"
   ]
  },
  {
   "cell_type": "code",
   "execution_count": 10,
   "metadata": {},
   "outputs": [
    {
     "name": "stdout",
     "output_type": "stream",
     "text": [
      "(1022, 10)\n",
      "(1022,)\n",
      "\n",
      "(438, 10)\n",
      "(438,)\n"
     ]
    }
   ],
   "source": [
    "print(xTrainNorm.shape)\n",
    "print(yTrainNorm.shape)\n",
    "print()\n",
    "print(xTestNorm.shape)\n",
    "print(yTestNorm.shape)"
   ]
  },
  {
   "cell_type": "code",
   "execution_count": 13,
   "metadata": {
    "collapsed": true
   },
   "outputs": [],
   "source": [
    "#Define Classifiers\n",
    "\n",
    "#Normal Classifiers\n",
    "clfNlin = linear_model.LinearRegression()\n",
    "clfNtree = DecisionTreeRegressor()\n",
    "clfNknn = KMeans(n_clusters=3)\n",
    "\n",
    "#Log Classifiers\n",
    "clfLlin = linear_model.LinearRegression()\n",
    "clfLtree = DecisionTreeRegressor()\n",
    "clfLknn = KMeans(n_clusters=3)"
   ]
  },
  {
   "cell_type": "code",
   "execution_count": 14,
   "metadata": {},
   "outputs": [
    {
     "data": {
      "text/plain": [
       "KMeans(algorithm='auto', copy_x=True, init='k-means++', max_iter=300,\n",
       "    n_clusters=3, n_init=10, n_jobs=1, precompute_distances='auto',\n",
       "    random_state=None, tol=0.0001, verbose=0)"
      ]
     },
     "execution_count": 14,
     "metadata": {},
     "output_type": "execute_result"
    }
   ],
   "source": [
    "#Make Predictions\n",
    "\n",
    "#Fit Normal Classifiers\n",
    "clfNlin.fit(xTrainNorm,yTrainNorm)\n",
    "clfNtree.fit(xTrainNorm,yTrainNorm)\n",
    "clfNknn.fit(xTrainNorm,yTrainNorm)\n",
    "\n",
    "#Fit Log Classifiers\n",
    "clfLlin.fit(xTrainLog,yTrainLog)\n",
    "clfLtree.fit(xTrainLog,yTrainLog)\n",
    "clfLknn.fit(xTrainLog,yTrainLog)"
   ]
  },
  {
   "cell_type": "code",
   "execution_count": 15,
   "metadata": {
    "collapsed": true
   },
   "outputs": [],
   "source": [
    "#Make predictions\n",
    "\n",
    "#Normal Predictions\n",
    "predNlin = clfNlin.predict(xTestNorm)\n",
    "predNtree = clfNtree.predict(xTestNorm)\n",
    "predNknn = clfNknn.predict(xTestNorm)\n",
    "\n",
    "#Log Predictions\n",
    "predLlin = clfLlin.predict(xTestLog)\n",
    "predLtree = clfLtree.predict(xTestLog)\n",
    "predLknn = clfLknn.predict(xTestLog)"
   ]
  },
  {
   "cell_type": "code",
   "execution_count": 16,
   "metadata": {},
   "outputs": [],
   "source": [
    "#Predictions\n",
    "ACCpredNlin = np.sqrt(mean_squared_error(predNlin,yTestNorm))\n",
    "ACCpredNtree = np.sqrt(mean_squared_error(predNtree,yTestNorm))\n",
    "ACCpredNknn = np.sqrt(mean_squared_error(predNknn,yTestNorm))\n",
    "\n",
    "ACCpredLlin = np.sqrt(mean_squared_error(predLlin,yTestLog))\n",
    "ACCLtree = np.sqrt(mean_squared_error(predLtree,yTestLog))\n",
    "ACCLknn = np.sqrt(mean_squared_error(predLknn,yTestLog))"
   ]
  },
  {
   "cell_type": "code",
   "execution_count": 17,
   "metadata": {},
   "outputs": [
    {
     "name": "stdout",
     "output_type": "stream",
     "text": [
      "34350.4840861\n",
      "42451.0993005\n",
      "199085.209768\n",
      "\n",
      "0.164640409401\n",
      "0.21204803977\n",
      "10.7313305479\n"
     ]
    }
   ],
   "source": [
    "print(ACCpredNlin)\n",
    "print(ACCpredNtree)\n",
    "print(ACCpredNknn)\n",
    "\n",
    "print()\n",
    "\n",
    "print(ACCpredLlin)\n",
    "print(ACCLtree)\n",
    "print(ACCLknn)"
   ]
  },
  {
   "cell_type": "code",
   "execution_count": 18,
   "metadata": {},
   "outputs": [
    {
     "data": {
      "text/plain": [
       "<matplotlib.collections.PathCollection at 0x1b8eca78400>"
      ]
     },
     "execution_count": 18,
     "metadata": {},
     "output_type": "execute_result"
    },
    {
     "data": {
      "image/png": "[encoded data removed]",
      "text/plain": [
       "<matplotlib.figure.Figure at 0x1b8ed22e518>"
      ]
     },
     "metadata": {},
     "output_type": "display_data"
    }
   ],
   "source": [
    "plt.scatter(yTestNorm,predNlin)"
   ]
  },
  {
   "cell_type": "code",
   "execution_count": 22,
   "metadata": {},
   "outputs": [
    {
     "name": "stdout",
     "output_type": "stream",
     "text": [
      "[2 0 0 0 0 2 1 1 0 1 0 0 2 1 1 0 0 1 0 1 2 0 1 0 0 0 1 1 1 0 0 0 1 1 1 0 1\n",
      " 0 1 0 0 1 1 1 1 2 2 0 1 0 1 0 1 1 0 0 1 2 0 1 1 1 2 1 0 2 1 1 2 0 0 0 1 1\n",
      " 1 1 2 0 1 0 2 2 2 0 0 0 0 1 2 1 0 1 2 1 1 1 1 0 1 0 0 2 1 0 1 1 1 1 0 2 1\n",
      " 0 1 1 0 2 0 1 0 0 0 1 0 1 1 0 0 1 0 1 0 0 0 0 1 1 1 1 1 2 1 1 1 0 2 1 0 1\n",
      " 1 1 1 1 0 1 1 0 0 1 0 0 0 1 1 0 2 0 1 0 1 1 0 0 0 0 0 1 1 1 0 0 2 0 1 2 0\n",
      " 1 1 0 0 1 0 0 0 0 1 0 1 2 0 1 1 1 1 0 1 1 0 1 1 1 0 2 1 2 2 1 2 0 0 0 1 0\n",
      " 1 0 1 1 0 1 1 1 1 0 0 2 1 0 0 0 1 0 2 1 2 2 0 0 0 0 1 0 0 1 1 0 1 0 1 1 0\n",
      " 0 0 1 0 1 1 0 1 1 0 0 0 2 1 1 2 1 2 1 0 0 0 0 2 0 1 0 2 1 0 1 1 1 2 1 1 0\n",
      " 1 2 1 1 0 0 1 2 0 1 2 0 2 0 1 1 1 2 1 0 1 0 1 1 1 2 0 0 1 0 0 1 1 1 1 0 0\n",
      " 1 2 0 1 1 0 1 0 1 1 0 1 0 2 0 0 2 1 0 1 1 2 0 1 0 0 1 0 0 1 0 0 0 1 0 1 1\n",
      " 0 0 1 0 0 1 0 0 1 1 0 1 0 0 2 0 0 1 2 2 1 1 1 2 0 1 0 0 1 2 0 1 0 0 1 0 2\n",
      " 0 0 1 0 1 1 0 1 0 0 1 0 0 1 1 0 0 0 0 1 1 2 1 1 0 0 0 1 0 0 1]\n",
      "\n",
      "[1 1 0 1 1 1 2 1 2 0 1 2 2 1 2 0 2 0 2 2 1 2 1 2 2 1 1 2 2 1 2 2 0 1 2 2 2\n",
      " 1 2 1 2 2 2 2 1 0 2 2 1 1 1 2 2 1 2 2 1 2 0 2 1 0 0 2 1 1 1 1 2 2 2 1 2 1\n",
      " 2 2 0 0 1 2 1 2 2 2 2 1 1 2 1 1 2 2 2 1 2 2 1 0 1 2 1 0 1 2 0 1 2 2 2 1 2\n",
      " 0 1 2 2 1 1 1 1 2 1 2 1 1 2 2 2 2 1 1 1 1 2 0 2 0 1 0 1 1 1 1 2 2 2 1 2 2\n",
      " 2 2 2 1 1 2 1 1 1 2 2 1 2 2 1 2 2 0 1 1 1 2 1 2 0 1 1 2 2 2 1 2 2 0 2 2 1\n",
      " 1 0 1 1 2 1 1 1 2 1 2 0 1 2 0 2 1 0 1 1 2 1 1 1 2 2 1 1 1 0 2 0 2 1 2 2 1\n",
      " 0 2 1 2 1 0 1 1 1 0 2 2 2 1 1 1 2 2 1 2 1 2 2 2 2 1 2 1 1 0 2 0 2 2 1 2 2\n",
      " 2 1 0 2 0 1 1 2 2 2 1 2 2 0 0 1 2 2 0 0 1 0 2 1 1 1 1 2 1 2 1 2 2 2 1 2 2\n",
      " 2 2 1 2 2 1 1 1 2 2 1 2 0 0 0 1 2 2 2 1 2 2 2 1 0 1 1 0 2 1 2 2 1 1 1 1 1\n",
      " 2 2 1 1 1 1 1 1 1 2 1 1 1 2 1 2 2 2 2 1 2 2 2 2 2 0 1 1 1 0 1 2 1 1 2 2 1\n",
      " 0 1 2 1 0 0 1 2 0 0 1 2 1 1 1 2 2 1 1 2 2 2 2 2 2 1 1 1 2 1 1 1 1 1 0 0 2\n",
      " 1 1 2 1 2 1 1 2 1 1 1 2 2 2 1 2 2 1 1 1 0 2 2 2 2 2 2 2 1 2 2]\n"
     ]
    }
   ],
   "source": [
    "#Such high values for KNN suggests they aren't working at all.  Should be seeing normal decent looking housing prices \n",
    "print(predNknn)\n",
    "print()\n",
    "print(predLknn)"
   ]
  },
  {
   "cell_type": "code",
   "execution_count": 41,
   "metadata": {},
   "outputs": [],
   "source": [
    "xTest = dfTest[topBot5].copy()"
   ]
  },
  {
   "cell_type": "code",
   "execution_count": 42,
   "metadata": {},
   "outputs": [
    {
     "data": {
      "text/html": [
       "<div>\n",
       "<style>\n",
       "    .dataframe thead tr:only-child th {\n",
       "        text-align: right;\n",
       "    }\n",
       "\n",
       "    .dataframe thead th {\n",
       "        text-align: left;\n",
       "    }\n",
       "\n",
       "    .dataframe tbody tr th {\n",
       "        vertical-align: top;\n",
       "    }\n",
       "</style>\n",
       "<table border=\"1\" class=\"dataframe\">\n",
       "  <thead>\n",
       "    <tr style=\"text-align: right;\">\n",
       "      <th></th>\n",
       "      <th>OverallQual</th>\n",
       "      <th>TotSF</th>\n",
       "      <th>GrLivArea</th>\n",
       "      <th>GarageCars</th>\n",
       "      <th>GarageArea</th>\n",
       "      <th>MSSubClass</th>\n",
       "      <th>EnclosedPorch</th>\n",
       "      <th>KitchenAbvGr</th>\n",
       "      <th>YrSinceRemod</th>\n",
       "      <th>HouseAge</th>\n",
       "    </tr>\n",
       "  </thead>\n",
       "  <tbody>\n",
       "    <tr>\n",
       "      <th>0</th>\n",
       "      <td>5</td>\n",
       "      <td>896</td>\n",
       "      <td>896</td>\n",
       "      <td>1.0</td>\n",
       "      <td>730.0</td>\n",
       "      <td>20</td>\n",
       "      <td>0</td>\n",
       "      <td>1</td>\n",
       "      <td>50</td>\n",
       "      <td>50</td>\n",
       "    </tr>\n",
       "    <tr>\n",
       "      <th>1</th>\n",
       "      <td>6</td>\n",
       "      <td>1329</td>\n",
       "      <td>1329</td>\n",
       "      <td>1.0</td>\n",
       "      <td>312.0</td>\n",
       "      <td>20</td>\n",
       "      <td>0</td>\n",
       "      <td>1</td>\n",
       "      <td>53</td>\n",
       "      <td>53</td>\n",
       "    </tr>\n",
       "    <tr>\n",
       "      <th>2</th>\n",
       "      <td>5</td>\n",
       "      <td>1629</td>\n",
       "      <td>1629</td>\n",
       "      <td>2.0</td>\n",
       "      <td>482.0</td>\n",
       "      <td>60</td>\n",
       "      <td>0</td>\n",
       "      <td>1</td>\n",
       "      <td>13</td>\n",
       "      <td>14</td>\n",
       "    </tr>\n",
       "    <tr>\n",
       "      <th>3</th>\n",
       "      <td>6</td>\n",
       "      <td>1604</td>\n",
       "      <td>1604</td>\n",
       "      <td>2.0</td>\n",
       "      <td>470.0</td>\n",
       "      <td>60</td>\n",
       "      <td>0</td>\n",
       "      <td>1</td>\n",
       "      <td>13</td>\n",
       "      <td>13</td>\n",
       "    </tr>\n",
       "    <tr>\n",
       "      <th>4</th>\n",
       "      <td>8</td>\n",
       "      <td>1280</td>\n",
       "      <td>1280</td>\n",
       "      <td>2.0</td>\n",
       "      <td>506.0</td>\n",
       "      <td>120</td>\n",
       "      <td>0</td>\n",
       "      <td>1</td>\n",
       "      <td>19</td>\n",
       "      <td>19</td>\n",
       "    </tr>\n",
       "  </tbody>\n",
       "</table>\n",
       "</div>"
      ],
      "text/plain": [
       "   OverallQual  TotSF  GrLivArea  GarageCars  GarageArea  MSSubClass  \\\n",
       "0            5    896        896         1.0       730.0          20   \n",
       "1            6   1329       1329         1.0       312.0          20   \n",
       "2            5   1629       1629         2.0       482.0          60   \n",
       "3            6   1604       1604         2.0       470.0          60   \n",
       "4            8   1280       1280         2.0       506.0         120   \n",
       "\n",
       "   EnclosedPorch  KitchenAbvGr  YrSinceRemod  HouseAge  \n",
       "0              0             1            50        50  \n",
       "1              0             1            53        53  \n",
       "2              0             1            13        14  \n",
       "3              0             1            13        13  \n",
       "4              0             1            19        19  "
      ]
     },
     "execution_count": 42,
     "metadata": {},
     "output_type": "execute_result"
    }
   ],
   "source": [
    "xTest.head()"
   ]
  },
  {
   "cell_type": "code",
   "execution_count": 43,
   "metadata": {
    "collapsed": true
   },
   "outputs": [],
   "source": [
    "#submit to kaggle\n",
    "\n",
    "NormLinSub = clfNlin.predict(xTest) \n",
    "NormTreeSub = clfNtree.predict(xTest)\n",
    "\n",
    "LogLinSub = clfLlin.predict(xTest)\n",
    "LogTreeSub = clfLtree.predict(xTest) "
   ]
  },
  {
   "cell_type": "code",
   "execution_count": 46,
   "metadata": {
    "collapsed": true
   },
   "outputs": [],
   "source": [
    "#unlog numbers in python\n",
    "LogLinSub = np.exp(LogLinSub)\n",
    "\n",
    "LogTreeSub = np.exp(LogTreeSub)"
   ]
  },
  {
   "cell_type": "code",
   "execution_count": 49,
   "metadata": {},
   "outputs": [],
   "source": [
    "#get list of test Ids for submission\n",
    "testIds = dfTest.Id"
   ]
  },
  {
   "cell_type": "code",
   "execution_count": 51,
   "metadata": {
    "collapsed": true
   },
   "outputs": [],
   "source": [
    "#create dictionary with Ids and Sales Price\n",
    "NormLinSub1 = {'Id':testIds,'SalePrice':NormLinSub}\n",
    "NormTreeSub1 = {'Id':testIds,'SalePrice':NormTreeSub}\n",
    "LogLinSub1 = {'Id':testIds,'SalePrice':LogLinSub}\n",
    "LogTreeSub1 = {'Id':testIds,'SalePrice':LogTreeSub}"
   ]
  },
  {
   "cell_type": "code",
   "execution_count": 55,
   "metadata": {},
   "outputs": [],
   "source": [
    "#turn into a dataframe\n",
    "NormLinSub1 = pd.DataFrame(NormLinSub1)\n",
    "NormTreeSub1 = pd.DataFrame(NormTreeSub1)\n",
    "LogLinSub1 = pd.DataFrame(LogLinSub1)\n",
    "LogTreeSub1 = pd.DataFrame(LogTreeSub1)"
   ]
  },
  {
   "cell_type": "code",
   "execution_count": 56,
   "metadata": {},
   "outputs": [],
   "source": [
    "#NormLinSub1.to_csv(\"NormLinSub1.csv\",index = False)\n",
    "#NormTreeSub1.to_csv(\"NormTreeSub1.csv\",index = False)\n",
    "LogLinSub1.to_csv(\"LogLinSub1.csv\",index = False)\n",
    "#LogTreeSub1.to_csv(\"LogTreeSub1.csv\",index = False)"
   ]
  }
 ],
 "metadata": {
  "kernelspec": {
   "display_name": "Python 3",
   "language": "python",
   "name": "python3"
  },
  "language_info": {
   "codemirror_mode": {
    "name": "ipython",
    "version": 3
   },
   "file_extension": ".py",
   "mimetype": "text/x-python",
   "name": "python",
   "nbconvert_exporter": "python",
   "pygments_lexer": "ipython3",
   "version": "3.6.3"
  }
 },
 "nbformat": 4,
 "nbformat_minor": 2
}
