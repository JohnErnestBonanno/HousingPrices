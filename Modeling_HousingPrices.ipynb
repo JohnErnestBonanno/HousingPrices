{
 "cells": [
  {
   "cell_type": "code",
   "execution_count": null,
   "metadata": {
    "collapsed": true
   },
   "outputs": [],
   "source": [
    "#USING THE WRONG LINEAR REGRESSSION!!! NEED TO FIX TO GET REGRESSION NOT CLASSIFICATION!"
   ]
  },
  {
   "cell_type": "markdown",
   "metadata": {},
   "source": [
    "Goals include:\n",
    "test three different models using sklearn split\n",
    "* linear regressions\n",
    "* decision tree\n",
    "* KNN\n",
    "See which was is best\n",
    "\n",
    "See which gives better training, SalePrice or SalePriceLog\n",
    "\n",
    "Also see how the data changes when using different data cuts (objects, data engineering, etc.)\n",
    "\n",
    "Try to validate data using k-folds\n",
    "Confirm that the alogrithm is still working\n",
    "\n",
    "Play around with KNN parameters to see if I can get better performance"
   ]
  },
  {
   "cell_type": "code",
   "execution_count": 1,
   "metadata": {
    "collapsed": true
   },
   "outputs": [],
   "source": [
    "#import statements\n",
    "\n",
    "#standard imports\n",
    "import pandas as pd\n",
    "import matplotlib.pyplot as plt\n",
    "import seaborn as sns\n",
    "import numpy as np\n",
    "\n",
    "#standard sklearn imports\n",
    "from sklearn.model_selection import train_test_split\n",
    "from sklearn.metrics import accuracy_score\n",
    "\n",
    "#sklearn algorithms\n",
    "from sklearn import linear_model\n",
    "from sklearn.tree import DecisionTreeClassifier\n",
    "from sklearn.cluster import KMeans\n",
    "\n",
    "%matplotlib inline"
   ]
  },
  {
   "cell_type": "code",
   "execution_count": 2,
   "metadata": {
    "collapsed": true
   },
   "outputs": [],
   "source": [
    "dfTrain = pd.read_csv('FinalTrain.csv',index_col =0) "
   ]
  },
  {
   "cell_type": "code",
   "execution_count": 5,
   "metadata": {},
   "outputs": [],
   "source": [
    "#list to filter the data set\n",
    "\n",
    "objectFilter = ['BldgType', 'BsmtCond', 'BsmtExposure', 'BsmtFinType1', 'BsmtFinType2',\n",
    "       'BsmtQual', 'CentralAir', 'Condition1', 'Condition2', 'DataType',\n",
    "       'Electrical', 'ExterCond', 'ExterQual', 'Exterior1st', 'Exterior2nd',\n",
    "       'Foundation', 'Functional', 'Heating', 'HeatingQC', 'HouseStyle',\n",
    "       'KitchenQual', 'LandContour', 'LandSlope', 'LotConfig', 'LotShape',\n",
    "       'MSZoning', 'MasVnrType', 'Neighborhood', 'PavedDrive', 'RoofMatl',\n",
    "       'RoofStyle', 'SaleCondition', 'SaleType']\n",
    "\n",
    "intFilter = ['1stFlrSF', '2ndFlrSF', '3SsnPorch', 'BedroomAbvGr', 'BsmtFinSF1',\n",
    "       'BsmtFinSF2', 'BsmtFullBath', 'BsmtHalfBath', 'BsmtUnfSF',\n",
    "       'EnclosedPorch', 'Fireplaces', 'FullBath', 'GarageArea', 'GarageCars',\n",
    "       'GrLivArea', 'HalfBath', 'Id', 'KitchenAbvGr', 'LotArea',\n",
    "       'LowQualFinSF', 'MSSubClass', 'MasVnrArea', 'MiscVal', 'MoSold',\n",
    "       'OpenPorchSF', 'OverallCond', 'OverallQual', 'PoolArea', 'SalePrice',\n",
    "       'ScreenPorch', 'TotRmsAbvGrd', 'TotalBsmtSF', 'WoodDeckSF', 'YearBuilt',\n",
    "       'YearRemodAdd', 'YrSold']\n",
    "\n",
    "OrgFeatures = [objectFilter + intFilter]\n",
    "\n",
    "FeatEnginer = list(dfTrain.columns[-10:])\n",
    "\n",
    "intFilterAll = intFilter + FeatEnginer"
   ]
  },
  {
   "cell_type": "code",
   "execution_count": 37,
   "metadata": {},
   "outputs": [
    {
     "ename": "ValueError",
     "evalue": "labels ['MasVnrArea'] not contained in axis",
     "output_type": "error",
     "traceback": [
      "\u001b[1;31m---------------------------------------------------------------------------\u001b[0m",
      "\u001b[1;31mValueError\u001b[0m                                Traceback (most recent call last)",
      "\u001b[1;32m<ipython-input-37-f53b6904c234>\u001b[0m in \u001b[0;36m<module>\u001b[1;34m()\u001b[0m\n\u001b[0;32m      1\u001b[0m \u001b[1;31m#drop missing MasVnrArea Column which was causing problems\u001b[0m\u001b[1;33m\u001b[0m\u001b[1;33m\u001b[0m\u001b[0m\n\u001b[1;32m----> 2\u001b[1;33m \u001b[0mdfTrain\u001b[0m\u001b[1;33m.\u001b[0m\u001b[0mdrop\u001b[0m\u001b[1;33m(\u001b[0m\u001b[0mlabels\u001b[0m \u001b[1;33m=\u001b[0m \u001b[1;34m'MasVnrArea'\u001b[0m\u001b[1;33m,\u001b[0m \u001b[0maxis\u001b[0m \u001b[1;33m=\u001b[0m \u001b[1;36m1\u001b[0m\u001b[1;33m,\u001b[0m \u001b[0minplace\u001b[0m \u001b[1;33m=\u001b[0m \u001b[1;32mTrue\u001b[0m\u001b[1;33m)\u001b[0m\u001b[1;33m\u001b[0m\u001b[0m\n\u001b[0m",
      "\u001b[1;32m~\\Anaconda3\\lib\\site-packages\\pandas\\core\\generic.py\u001b[0m in \u001b[0;36mdrop\u001b[1;34m(self, labels, axis, level, inplace, errors)\u001b[0m\n\u001b[0;32m   2159\u001b[0m                 \u001b[0mnew_axis\u001b[0m \u001b[1;33m=\u001b[0m \u001b[0maxis\u001b[0m\u001b[1;33m.\u001b[0m\u001b[0mdrop\u001b[0m\u001b[1;33m(\u001b[0m\u001b[0mlabels\u001b[0m\u001b[1;33m,\u001b[0m \u001b[0mlevel\u001b[0m\u001b[1;33m=\u001b[0m\u001b[0mlevel\u001b[0m\u001b[1;33m,\u001b[0m \u001b[0merrors\u001b[0m\u001b[1;33m=\u001b[0m\u001b[0merrors\u001b[0m\u001b[1;33m)\u001b[0m\u001b[1;33m\u001b[0m\u001b[0m\n\u001b[0;32m   2160\u001b[0m             \u001b[1;32melse\u001b[0m\u001b[1;33m:\u001b[0m\u001b[1;33m\u001b[0m\u001b[0m\n\u001b[1;32m-> 2161\u001b[1;33m                 \u001b[0mnew_axis\u001b[0m \u001b[1;33m=\u001b[0m \u001b[0maxis\u001b[0m\u001b[1;33m.\u001b[0m\u001b[0mdrop\u001b[0m\u001b[1;33m(\u001b[0m\u001b[0mlabels\u001b[0m\u001b[1;33m,\u001b[0m \u001b[0merrors\u001b[0m\u001b[1;33m=\u001b[0m\u001b[0merrors\u001b[0m\u001b[1;33m)\u001b[0m\u001b[1;33m\u001b[0m\u001b[0m\n\u001b[0m\u001b[0;32m   2162\u001b[0m             \u001b[0mdropped\u001b[0m \u001b[1;33m=\u001b[0m \u001b[0mself\u001b[0m\u001b[1;33m.\u001b[0m\u001b[0mreindex\u001b[0m\u001b[1;33m(\u001b[0m\u001b[1;33m**\u001b[0m\u001b[1;33m{\u001b[0m\u001b[0maxis_name\u001b[0m\u001b[1;33m:\u001b[0m \u001b[0mnew_axis\u001b[0m\u001b[1;33m}\u001b[0m\u001b[1;33m)\u001b[0m\u001b[1;33m\u001b[0m\u001b[0m\n\u001b[0;32m   2163\u001b[0m             \u001b[1;32mtry\u001b[0m\u001b[1;33m:\u001b[0m\u001b[1;33m\u001b[0m\u001b[0m\n",
      "\u001b[1;32m~\\Anaconda3\\lib\\site-packages\\pandas\\core\\indexes\\base.py\u001b[0m in \u001b[0;36mdrop\u001b[1;34m(self, labels, errors)\u001b[0m\n\u001b[0;32m   3622\u001b[0m             \u001b[1;32mif\u001b[0m \u001b[0merrors\u001b[0m \u001b[1;33m!=\u001b[0m \u001b[1;34m'ignore'\u001b[0m\u001b[1;33m:\u001b[0m\u001b[1;33m\u001b[0m\u001b[0m\n\u001b[0;32m   3623\u001b[0m                 raise ValueError('labels %s not contained in axis' %\n\u001b[1;32m-> 3624\u001b[1;33m                                  labels[mask])\n\u001b[0m\u001b[0;32m   3625\u001b[0m             \u001b[0mindexer\u001b[0m \u001b[1;33m=\u001b[0m \u001b[0mindexer\u001b[0m\u001b[1;33m[\u001b[0m\u001b[1;33m~\u001b[0m\u001b[0mmask\u001b[0m\u001b[1;33m]\u001b[0m\u001b[1;33m\u001b[0m\u001b[0m\n\u001b[0;32m   3626\u001b[0m         \u001b[1;32mreturn\u001b[0m \u001b[0mself\u001b[0m\u001b[1;33m.\u001b[0m\u001b[0mdelete\u001b[0m\u001b[1;33m(\u001b[0m\u001b[0mindexer\u001b[0m\u001b[1;33m)\u001b[0m\u001b[1;33m\u001b[0m\u001b[0m\n",
      "\u001b[1;31mValueError\u001b[0m: labels ['MasVnrArea'] not contained in axis"
     ]
    }
   ],
   "source": [
    "#drop missing MasVnrArea Column which was causing problems\n",
    "dfTrain.drop(labels = 'MasVnrArea', axis = 1, inplace = True)"
   ]
  },
  {
   "cell_type": "code",
   "execution_count": 38,
   "metadata": {
    "collapsed": true
   },
   "outputs": [],
   "source": [
    "#create target variable(s)\n",
    "yNormal = dfTrain.SalePrice\n",
    "yLog = dfTrain.SalePriceLog"
   ]
  },
  {
   "cell_type": "code",
   "execution_count": 39,
   "metadata": {},
   "outputs": [],
   "source": [
    "#Normal Set up\n",
    "xTrainNorm, xTestNorm, yTrainNorm, yTestNorm = train_test_split(dfTrain,yNormal,test_size = .3)\n",
    "\n",
    "#Log Set Up\n",
    "xTrainLog, xTestLog, yTrainLog, yTestLog = train_test_split(dfTrain,yLog,test_size = .3)"
   ]
  },
  {
   "cell_type": "code",
   "execution_count": 40,
   "metadata": {
    "collapsed": true
   },
   "outputs": [],
   "source": [
    "#Normal Classifiers\n",
    "clfNlin = linear_model.LinearRegression()\n",
    "clfNtree = DecisionTreeClassifier()\n",
    "clfNknn = KMeans(n_clusters=3)\n",
    "\n",
    "#Log Classifiers\n",
    "clfLlin = linear_model.LinearRegression()\n",
    "clfLtree = DecisionTreeClassifier()\n",
    "clfNknn = KMeans(n_clusters=3)"
   ]
  },
  {
   "cell_type": "code",
   "execution_count": 42,
   "metadata": {},
   "outputs": [
    {
     "data": {
      "text/plain": [
       "KMeans(algorithm='auto', copy_x=True, init='k-means++', max_iter=300,\n",
       "    n_clusters=3, n_init=10, n_jobs=1, precompute_distances='auto',\n",
       "    random_state=None, tol=0.0001, verbose=0)"
      ]
     },
     "execution_count": 42,
     "metadata": {},
     "output_type": "execute_result"
    }
   ],
   "source": [
    "#Fit Normal Classifiers\n",
    "clfNlin.fit(xTrainNorm,yTrainNorm)\n",
    "#clfNtree.fit(xTrainNorm,yTrainNorm)\n",
    "clfNknn.fit(xTrainNorm,yTrainNorm)\n",
    "\n",
    "#Fit Log Classifiers\n",
    "clfLlin.fit(xTrainLog,yTrainLog)\n",
    "#clfLtree.fit(xTrainLog,yTrainLog)\n",
    "clfNknn.fit(xTrainLog,yTrainLog)"
   ]
  },
  {
   "cell_type": "code",
   "execution_count": 29,
   "metadata": {
    "collapsed": true
   },
   "outputs": [],
   "source": [
    "pd.set_option('display.max_rows',100)"
   ]
  },
  {
   "cell_type": "code",
   "execution_count": 30,
   "metadata": {},
   "outputs": [
    {
     "data": {
      "text/plain": [
       "[1stFlrSF           False\n",
       " 2ndFlrSF           False\n",
       " 3SsnPorch          False\n",
       " BedroomAbvGr       False\n",
       " BldgType           False\n",
       " BsmtCond           False\n",
       " BsmtExposure       False\n",
       " BsmtFinSF1         False\n",
       " BsmtFinSF2         False\n",
       " BsmtFinType1       False\n",
       " BsmtFinType2       False\n",
       " BsmtFullBath       False\n",
       " BsmtHalfBath       False\n",
       " BsmtQual           False\n",
       " BsmtUnfSF          False\n",
       " CentralAir         False\n",
       " Condition1         False\n",
       " Condition2         False\n",
       " DataType           False\n",
       " Electrical         False\n",
       " EnclosedPorch      False\n",
       " ExterCond          False\n",
       " ExterQual          False\n",
       " Exterior1st        False\n",
       " Exterior2nd        False\n",
       " Fireplaces         False\n",
       " Foundation         False\n",
       " FullBath           False\n",
       " Functional         False\n",
       " GarageArea         False\n",
       " GarageCars         False\n",
       " GrLivArea          False\n",
       " HalfBath           False\n",
       " Heating            False\n",
       " HeatingQC          False\n",
       " HouseStyle         False\n",
       " Id                 False\n",
       " KitchenAbvGr       False\n",
       " KitchenQual        False\n",
       " LandContour        False\n",
       " LandSlope          False\n",
       " LotArea            False\n",
       " LotConfig          False\n",
       " LotShape           False\n",
       " LowQualFinSF       False\n",
       " MSSubClass         False\n",
       " MSZoning           False\n",
       " MasVnrArea          True\n",
       " MasVnrType         False\n",
       " MiscVal            False\n",
       " MoSold             False\n",
       " Neighborhood       False\n",
       " OpenPorchSF        False\n",
       " OverallCond        False\n",
       " OverallQual        False\n",
       " PavedDrive         False\n",
       " PoolArea           False\n",
       " RoofMatl           False\n",
       " RoofStyle          False\n",
       " SaleCondition      False\n",
       " SalePrice          False\n",
       " SaleType           False\n",
       " ScreenPorch        False\n",
       " TotRmsAbvGrd       False\n",
       " TotalBsmtSF        False\n",
       " WoodDeckSF         False\n",
       " YearBuilt          False\n",
       " YearRemodAdd       False\n",
       " YrSold             False\n",
       " TotFullBath        False\n",
       " TotHalfBath        False\n",
       " HouseAge           False\n",
       " YrSinceRemod       False\n",
       " TotSF              False\n",
       " HasBasement        False\n",
       " Has2Floor          False\n",
       " HasGarage          False\n",
       " HasPool            False\n",
       " SalePriceLog       False\n",
       " NewNeighborhood    False\n",
       " dtype: bool]"
      ]
     },
     "execution_count": 30,
     "metadata": {},
     "output_type": "execute_result"
    }
   ],
   "source": [
    "#xTrainNorm.head()\n",
    "#yTrainNorm.head()\n",
    "[xTrainNorm.isnull().sum()>0]"
   ]
  },
  {
   "cell_type": "code",
   "execution_count": null,
   "metadata": {
    "collapsed": true
   },
   "outputs": [],
   "source": [
    "x_train, x_test, y_train, y_test = train_test_split(df,y,test_size = 0.2)\n",
    "clf = KMeans(n_clusters = 3)\n",
    "clf.fit(x_train,y_train)\n",
    "pred = clf.predict(x_test)"
   ]
  },
  {
   "cell_type": "code",
   "execution_count": null,
   "metadata": {
    "collapsed": true
   },
   "outputs": [],
   "source": []
  }
 ],
 "metadata": {
  "kernelspec": {
   "display_name": "Python 3",
   "language": "python",
   "name": "python3"
  },
  "language_info": {
   "codemirror_mode": {
    "name": "ipython",
    "version": 3
   },
   "file_extension": ".py",
   "mimetype": "text/x-python",
   "name": "python",
   "nbconvert_exporter": "python",
   "pygments_lexer": "ipython3",
   "version": "3.6.3"
  }
 },
 "nbformat": 4,
 "nbformat_minor": 2
}
