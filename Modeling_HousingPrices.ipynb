{
 "cells": [
  {
   "cell_type": "markdown",
   "metadata": {},
   "source": [
    "Goals include:\n",
    "test three different models using sklearn split\n",
    "* linear regressions\n",
    "* decision tree\n",
    "* KNN\n",
    "See which was is best\n",
    "\n",
    "See which gives better training, SalePrice or SalePriceLog\n",
    "\n",
    "Also see how the data changes when using different data cuts (objects, data engineering, etc.)\n",
    "\n",
    "Try to validate data using k-folds\n",
    "Confirm that the alogrithm is still working\n",
    "\n",
    "Play around with KNN parameters to see if I can get better performance"
   ]
  },
  {
   "cell_type": "code",
   "execution_count": 1,
   "metadata": {
    "collapsed": true
   },
   "outputs": [],
   "source": [
    "#import statements\n",
    "\n",
    "#standard imports\n",
    "import pandas as pd\n",
    "import matplotlib.pyplot as plt\n",
    "import seaborn as sns\n",
    "import numpy as np\n",
    "\n",
    "#standard sklearn imports\n",
    "from sklearn.model_selection import train_test_split\n",
    "from sklearn.metrics import mean_squared_error\n",
    "\n",
    "#sklearn algorithms\n",
    "from sklearn import linear_model\n",
    "from sklearn.tree import DecisionTreeRegressor\n",
    "from sklearn.cluster import KMeans\n",
    "\n",
    "%matplotlib inline"
   ]
  },
  {
   "cell_type": "code",
   "execution_count": 2,
   "metadata": {
    "collapsed": true
   },
   "outputs": [],
   "source": [
    "dfTrain = pd.read_csv('FinalTrain.csv',index_col =0) "
   ]
  },
  {
   "cell_type": "code",
   "execution_count": 18,
   "metadata": {},
   "outputs": [
    {
     "data": {
      "text/html": [
       "<div>\n",
       "<style>\n",
       "    .dataframe thead tr:only-child th {\n",
       "        text-align: right;\n",
       "    }\n",
       "\n",
       "    .dataframe thead th {\n",
       "        text-align: left;\n",
       "    }\n",
       "\n",
       "    .dataframe tbody tr th {\n",
       "        vertical-align: top;\n",
       "    }\n",
       "</style>\n",
       "<table border=\"1\" class=\"dataframe\">\n",
       "  <thead>\n",
       "    <tr style=\"text-align: right;\">\n",
       "      <th></th>\n",
       "      <th>1stFlrSF</th>\n",
       "      <th>2ndFlrSF</th>\n",
       "      <th>3SsnPorch</th>\n",
       "      <th>BedroomAbvGr</th>\n",
       "      <th>BldgType</th>\n",
       "      <th>BsmtCond</th>\n",
       "      <th>BsmtExposure</th>\n",
       "      <th>BsmtFinSF1</th>\n",
       "      <th>BsmtFinSF2</th>\n",
       "      <th>BsmtFinType1</th>\n",
       "      <th>...</th>\n",
       "      <th>TotHalfBath</th>\n",
       "      <th>HouseAge</th>\n",
       "      <th>YrSinceRemod</th>\n",
       "      <th>TotSF</th>\n",
       "      <th>HasBasement</th>\n",
       "      <th>Has2Floor</th>\n",
       "      <th>HasGarage</th>\n",
       "      <th>HasPool</th>\n",
       "      <th>SalePriceLog</th>\n",
       "      <th>NewNeighborhood</th>\n",
       "    </tr>\n",
       "  </thead>\n",
       "  <tbody>\n",
       "    <tr>\n",
       "      <th>0</th>\n",
       "      <td>856</td>\n",
       "      <td>854</td>\n",
       "      <td>0</td>\n",
       "      <td>3</td>\n",
       "      <td>0</td>\n",
       "      <td>3</td>\n",
       "      <td>3</td>\n",
       "      <td>706.0</td>\n",
       "      <td>0.0</td>\n",
       "      <td>2</td>\n",
       "      <td>...</td>\n",
       "      <td>1.0</td>\n",
       "      <td>8</td>\n",
       "      <td>8</td>\n",
       "      <td>1710</td>\n",
       "      <td>1</td>\n",
       "      <td>1</td>\n",
       "      <td>1</td>\n",
       "      <td>0</td>\n",
       "      <td>12.247694</td>\n",
       "      <td>109.616454</td>\n",
       "    </tr>\n",
       "    <tr>\n",
       "      <th>1</th>\n",
       "      <td>1262</td>\n",
       "      <td>0</td>\n",
       "      <td>0</td>\n",
       "      <td>3</td>\n",
       "      <td>0</td>\n",
       "      <td>3</td>\n",
       "      <td>1</td>\n",
       "      <td>978.0</td>\n",
       "      <td>0.0</td>\n",
       "      <td>0</td>\n",
       "      <td>...</td>\n",
       "      <td>1.0</td>\n",
       "      <td>35</td>\n",
       "      <td>35</td>\n",
       "      <td>1262</td>\n",
       "      <td>1</td>\n",
       "      <td>0</td>\n",
       "      <td>1</td>\n",
       "      <td>0</td>\n",
       "      <td>12.109011</td>\n",
       "      <td>121.178432</td>\n",
       "    </tr>\n",
       "    <tr>\n",
       "      <th>2</th>\n",
       "      <td>920</td>\n",
       "      <td>866</td>\n",
       "      <td>0</td>\n",
       "      <td>3</td>\n",
       "      <td>0</td>\n",
       "      <td>3</td>\n",
       "      <td>2</td>\n",
       "      <td>486.0</td>\n",
       "      <td>0.0</td>\n",
       "      <td>2</td>\n",
       "      <td>...</td>\n",
       "      <td>1.0</td>\n",
       "      <td>10</td>\n",
       "      <td>9</td>\n",
       "      <td>1786</td>\n",
       "      <td>1</td>\n",
       "      <td>1</td>\n",
       "      <td>1</td>\n",
       "      <td>0</td>\n",
       "      <td>12.317167</td>\n",
       "      <td>109.616454</td>\n",
       "    </tr>\n",
       "    <tr>\n",
       "      <th>3</th>\n",
       "      <td>961</td>\n",
       "      <td>756</td>\n",
       "      <td>0</td>\n",
       "      <td>3</td>\n",
       "      <td>0</td>\n",
       "      <td>1</td>\n",
       "      <td>3</td>\n",
       "      <td>216.0</td>\n",
       "      <td>0.0</td>\n",
       "      <td>0</td>\n",
       "      <td>...</td>\n",
       "      <td>0.0</td>\n",
       "      <td>96</td>\n",
       "      <td>41</td>\n",
       "      <td>1717</td>\n",
       "      <td>1</td>\n",
       "      <td>1</td>\n",
       "      <td>1</td>\n",
       "      <td>0</td>\n",
       "      <td>11.849398</td>\n",
       "      <td>111.519733</td>\n",
       "    </tr>\n",
       "    <tr>\n",
       "      <th>4</th>\n",
       "      <td>1145</td>\n",
       "      <td>1053</td>\n",
       "      <td>0</td>\n",
       "      <td>4</td>\n",
       "      <td>0</td>\n",
       "      <td>3</td>\n",
       "      <td>0</td>\n",
       "      <td>655.0</td>\n",
       "      <td>0.0</td>\n",
       "      <td>2</td>\n",
       "      <td>...</td>\n",
       "      <td>1.0</td>\n",
       "      <td>11</td>\n",
       "      <td>11</td>\n",
       "      <td>2198</td>\n",
       "      <td>1</td>\n",
       "      <td>1</td>\n",
       "      <td>1</td>\n",
       "      <td>0</td>\n",
       "      <td>12.429216</td>\n",
       "      <td>167.593107</td>\n",
       "    </tr>\n",
       "  </tbody>\n",
       "</table>\n",
       "<p>5 rows × 79 columns</p>\n",
       "</div>"
      ],
      "text/plain": [
       "   1stFlrSF  2ndFlrSF  3SsnPorch  BedroomAbvGr  BldgType  BsmtCond  \\\n",
       "0       856       854          0             3         0         3   \n",
       "1      1262         0          0             3         0         3   \n",
       "2       920       866          0             3         0         3   \n",
       "3       961       756          0             3         0         1   \n",
       "4      1145      1053          0             4         0         3   \n",
       "\n",
       "   BsmtExposure  BsmtFinSF1  BsmtFinSF2  BsmtFinType1       ...         \\\n",
       "0             3       706.0         0.0             2       ...          \n",
       "1             1       978.0         0.0             0       ...          \n",
       "2             2       486.0         0.0             2       ...          \n",
       "3             3       216.0         0.0             0       ...          \n",
       "4             0       655.0         0.0             2       ...          \n",
       "\n",
       "   TotHalfBath  HouseAge  YrSinceRemod  TotSF  HasBasement  Has2Floor  \\\n",
       "0          1.0         8             8   1710            1          1   \n",
       "1          1.0        35            35   1262            1          0   \n",
       "2          1.0        10             9   1786            1          1   \n",
       "3          0.0        96            41   1717            1          1   \n",
       "4          1.0        11            11   2198            1          1   \n",
       "\n",
       "   HasGarage  HasPool  SalePriceLog  NewNeighborhood  \n",
       "0          1        0     12.247694       109.616454  \n",
       "1          1        0     12.109011       121.178432  \n",
       "2          1        0     12.317167       109.616454  \n",
       "3          1        0     11.849398       111.519733  \n",
       "4          1        0     12.429216       167.593107  \n",
       "\n",
       "[5 rows x 79 columns]"
      ]
     },
     "execution_count": 18,
     "metadata": {},
     "output_type": "execute_result"
    }
   ],
   "source": [
    "dfTrain.head()"
   ]
  },
  {
   "cell_type": "code",
   "execution_count": 3,
   "metadata": {
    "collapsed": true
   },
   "outputs": [],
   "source": [
    "#list to filter the data set\n",
    "\n",
    "objectFilter = ['BldgType', 'BsmtCond', 'BsmtExposure', 'BsmtFinType1', 'BsmtFinType2',\n",
    "       'BsmtQual', 'CentralAir', 'Condition1', 'Condition2', 'DataType',\n",
    "       'Electrical', 'ExterCond', 'ExterQual', 'Exterior1st', 'Exterior2nd',\n",
    "       'Foundation', 'Functional', 'Heating', 'HeatingQC', 'HouseStyle',\n",
    "       'KitchenQual', 'LandContour', 'LandSlope', 'LotConfig', 'LotShape',\n",
    "       'MSZoning', 'MasVnrType', 'Neighborhood', 'PavedDrive', 'RoofMatl',\n",
    "       'RoofStyle', 'SaleCondition', 'SaleType']\n",
    "\n",
    "intFilter = ['1stFlrSF', '2ndFlrSF', '3SsnPorch', 'BedroomAbvGr', 'BsmtFinSF1',\n",
    "       'BsmtFinSF2', 'BsmtFullBath', 'BsmtHalfBath', 'BsmtUnfSF',\n",
    "       'EnclosedPorch', 'Fireplaces', 'FullBath', 'GarageArea', 'GarageCars',\n",
    "       'GrLivArea', 'HalfBath', 'Id', 'KitchenAbvGr', 'LotArea',\n",
    "       'LowQualFinSF', 'MSSubClass', 'MiscVal', 'MoSold',\n",
    "       'OpenPorchSF', 'OverallCond', 'OverallQual', 'PoolArea', 'SalePrice',\n",
    "       'ScreenPorch', 'TotRmsAbvGrd', 'TotalBsmtSF', 'WoodDeckSF', 'YearBuilt',\n",
    "       'YearRemodAdd', 'YrSold']\n",
    "\n",
    "OrgFeatures = [objectFilter + intFilter]\n",
    "\n",
    "FeatEnginer = list(dfTrain.columns[-10:])\n",
    "\n",
    "intFilterAll = intFilter + FeatEnginer"
   ]
  },
  {
   "cell_type": "code",
   "execution_count": 4,
   "metadata": {
    "collapsed": true
   },
   "outputs": [],
   "source": [
    "#Filter to look at that might perform better\n",
    "topBot5 = ['OverallQual','TotSF','GrLivArea','GarageCars','GarageArea',\n",
    "           'MSSubClass','EnclosedPorch','KitchenAbvGr','YrSinceRemod','HouseAge']\n",
    "\n",
    "topBot10 = ['BsmtFinSF2','BsmtHalfBath','MiscVal','LowQualFinSF','YrSold',\n",
    "            'OverallCond','MSSubClass','EnclosedPorch','KitchenAbvGr','YrSinceRemod','HouseAge',\n",
    "'OverallQual','TotSF','GrLivArea','GarageCars','GarageArea','TotalBsmtSF','1stFlrSF','TotFullBath','FullBath','TotRmsAbvGrd']"
   ]
  },
  {
   "cell_type": "code",
   "execution_count": 5,
   "metadata": {},
   "outputs": [],
   "source": [
    "#drop missing MasVnrArea Column which was causing problems\n",
    "dfTrain.drop(labels = 'MasVnrArea', axis = 1, inplace = True)"
   ]
  },
  {
   "cell_type": "code",
   "execution_count": 6,
   "metadata": {
    "collapsed": true
   },
   "outputs": [],
   "source": [
    "#create target variable(s)\n",
    "yNormal = dfTrain.SalePrice\n",
    "yLog = dfTrain.SalePriceLog"
   ]
  },
  {
   "cell_type": "code",
   "execution_count": 7,
   "metadata": {
    "collapsed": true
   },
   "outputs": [],
   "source": [
    "#Normal Set up\n",
    "xTrainNorm, xTestNorm, yTrainNorm, yTestNorm = train_test_split(dfTrain,yNormal,test_size = .3)\n",
    "\n",
    "#Log Set Up\n",
    "xTrainLog, xTestLog, yTrainLog, yTestLog = train_test_split(dfTrain,yLog,test_size = .3)"
   ]
  },
  {
   "cell_type": "code",
   "execution_count": 8,
   "metadata": {},
   "outputs": [
    {
     "name": "stdout",
     "output_type": "stream",
     "text": [
      "(1022, 79)\n",
      "(1022,)\n",
      "\n",
      "(438, 79)\n",
      "(438,)\n"
     ]
    }
   ],
   "source": [
    "print(xTrainNorm.shape)\n",
    "print(yTrainNorm.shape)\n",
    "print()\n",
    "print(xTestNorm.shape)\n",
    "print(yTestNorm.shape)"
   ]
  },
  {
   "cell_type": "code",
   "execution_count": 9,
   "metadata": {},
   "outputs": [],
   "source": [
    "#Normal Classifiers\n",
    "clfNlin = linear_model.LinearRegression()\n",
    "clfNtree = DecisionTreeRegressor()\n",
    "clfNknn = KMeans(n_clusters=3)\n",
    "\n",
    "#Log Classifiers\n",
    "clfLlin = linear_model.LinearRegression()\n",
    "clfLtree = DecisionTreeRegressor()\n",
    "clfLknn = KMeans(n_clusters=3)"
   ]
  },
  {
   "cell_type": "code",
   "execution_count": 10,
   "metadata": {},
   "outputs": [
    {
     "data": {
      "text/plain": [
       "KMeans(algorithm='auto', copy_x=True, init='k-means++', max_iter=300,\n",
       "    n_clusters=3, n_init=10, n_jobs=1, precompute_distances='auto',\n",
       "    random_state=None, tol=0.0001, verbose=0)"
      ]
     },
     "execution_count": 10,
     "metadata": {},
     "output_type": "execute_result"
    }
   ],
   "source": [
    "#Fit Normal Classifiers\n",
    "clfNlin.fit(xTrainNorm,yTrainNorm)\n",
    "clfNtree.fit(xTrainNorm,yTrainNorm)\n",
    "clfNknn.fit(xTrainNorm,yTrainNorm)\n",
    "\n",
    "#Fit Log Classifiers\n",
    "clfLlin.fit(xTrainLog,yTrainLog)\n",
    "clfLtree.fit(xTrainLog,yTrainLog)\n",
    "clfLknn.fit(xTrainLog,yTrainLog)"
   ]
  },
  {
   "cell_type": "code",
   "execution_count": 11,
   "metadata": {},
   "outputs": [],
   "source": [
    "#Make predictions\n",
    "\n",
    "#Normal Predictions\n",
    "predNlin = clfNlin.predict(xTestNorm)\n",
    "predNtree = clfNtree.predict(xTestNorm)\n",
    "predNknn = clfNknn.predict(xTestNorm)\n",
    "\n",
    "#Log Predictions\n",
    "predLlin = clfLlin.predict(xTestLog)\n",
    "predLtree = clfLtree.predict(xTestLog)\n",
    "predLknn = clfLknn.predict(xTestLog)"
   ]
  },
  {
   "cell_type": "code",
   "execution_count": 12,
   "metadata": {
    "collapsed": true
   },
   "outputs": [],
   "source": [
    "ACCpredNlin = mean_squared_error(predNlin,yTestNorm)\n",
    "ACCpredNtree = mean_squared_error(predNtree,yTestNorm)\n",
    "ACCpredNknn = mean_squared_error(predNknn,yTestNorm)\n",
    "\n",
    "ACCpredLlin = mean_squared_error(predLlin,yTestLog)\n",
    "ACCLtree = mean_squared_error(predLtree,yTestLog)\n",
    "ACCLknn = mean_squared_error(predLknn,yTestLog)"
   ]
  },
  {
   "cell_type": "code",
   "execution_count": 13,
   "metadata": {},
   "outputs": [
    {
     "name": "stdout",
     "output_type": "stream",
     "text": [
      "1.11524796056e-20\n",
      "43106571.2123\n",
      "37734509439.4\n",
      "\n",
      "3.33809914044e-27\n",
      "3.51855938808e-05\n",
      "120.629398262\n"
     ]
    }
   ],
   "source": [
    "print(ACCpredNlin)\n",
    "print(ACCpredNtree)\n",
    "print(ACCpredNknn)\n",
    "\n",
    "print()\n",
    "\n",
    "print(ACCpredLlin)\n",
    "print(ACCLtree)\n",
    "print(ACCLknn)"
   ]
  },
  {
   "cell_type": "code",
   "execution_count": 14,
   "metadata": {
    "collapsed": true
   },
   "outputs": [],
   "source": [
    "dfTest = pd.read_csv('FinalTest.csv',index_col =0)"
   ]
  },
  {
   "cell_type": "code",
   "execution_count": 17,
   "metadata": {},
   "outputs": [
    {
     "data": {
      "text/plain": [
       "Index(['1stFlrSF', '2ndFlrSF', '3SsnPorch', 'BedroomAbvGr', 'BldgType',\n",
       "       'BsmtCond', 'BsmtExposure', 'BsmtFinSF1', 'BsmtFinSF2', 'BsmtFinType1',\n",
       "       'BsmtFinType2', 'BsmtFullBath', 'BsmtHalfBath', 'BsmtQual', 'BsmtUnfSF',\n",
       "       'CentralAir', 'Condition1', 'Condition2', 'DataType', 'Electrical',\n",
       "       'EnclosedPorch', 'ExterCond', 'ExterQual', 'Exterior1st', 'Exterior2nd',\n",
       "       'Fireplaces', 'Foundation', 'FullBath', 'Functional', 'GarageArea',\n",
       "       'GarageCars', 'GrLivArea', 'HalfBath', 'Heating', 'HeatingQC',\n",
       "       'HouseStyle', 'Id', 'KitchenAbvGr', 'KitchenQual', 'LandContour',\n",
       "       'LandSlope', 'LotArea', 'LotConfig', 'LotShape', 'LowQualFinSF',\n",
       "       'MSSubClass', 'MSZoning', 'MasVnrArea', 'MasVnrType', 'MiscVal',\n",
       "       'MoSold', 'Neighborhood', 'OpenPorchSF', 'OverallCond', 'OverallQual',\n",
       "       'PavedDrive', 'PoolArea', 'RoofMatl', 'RoofStyle', 'SaleCondition',\n",
       "       'SalePrice', 'SaleType', 'ScreenPorch', 'TotRmsAbvGrd', 'TotalBsmtSF',\n",
       "       'WoodDeckSF', 'YearBuilt', 'YearRemodAdd', 'YrSold', 'TotFullBath',\n",
       "       'TotHalfBath', 'HouseAge', 'YrSinceRemod', 'TotSF', 'HasBasement',\n",
       "       'Has2Floor', 'HasGarage', 'HasPool', 'NewNeighborhood'],\n",
       "      dtype='object')"
      ]
     },
     "execution_count": 17,
     "metadata": {},
     "output_type": "execute_result"
    }
   ],
   "source": [
    "dfTest.columns"
   ]
  },
  {
   "cell_type": "code",
   "execution_count": null,
   "metadata": {
    "collapsed": true
   },
   "outputs": [],
   "source": [
    "#Let's fit the top3\n",
    "predNlinTest = clfNlin.predict(xTestNorm)\n",
    "predLlinTest = clfLlin.predict(xTestLog)\n",
    "predLtreeTest = clfLtree.predict(xTestLog)"
   ]
  },
  {
   "cell_type": "code",
   "execution_count": null,
   "metadata": {
    "collapsed": true
   },
   "outputs": [],
   "source": [
    "#Something wrong with the way KMeans is working or it has too much data.  Shouldn't be off by that much.  \n",
    "#Best by far looks like Linear regression with logs.  ALthough decision tree isn't that bad either"
   ]
  },
  {
   "cell_type": "code",
   "execution_count": null,
   "metadata": {
    "collapsed": true
   },
   "outputs": [],
   "source": [
    "#Let's try again with only the top and bottom 5.  And see if our numbers get any better.  "
   ]
  },
  {
   "cell_type": "code",
   "execution_count": null,
   "metadata": {},
   "outputs": [],
   "source": [
    "dfTopBot5 = dfTrain[topBot5].copy()"
   ]
  },
  {
   "cell_type": "code",
   "execution_count": null,
   "metadata": {
    "collapsed": true
   },
   "outputs": [],
   "source": [
    "#Normal Set up\n",
    "xTrainNorm, xTestNorm, yTrainNorm, yTestNorm = train_test_split(dfTopBot5,yNormal,test_size = .3)\n",
    "\n",
    "#Log Set Up\n",
    "xTrainLog, xTestLog, yTrainLog, yTestLog = train_test_split(dfTopBot5,yLog,test_size = .3)"
   ]
  },
  {
   "cell_type": "code",
   "execution_count": null,
   "metadata": {
    "collapsed": true
   },
   "outputs": [],
   "source": [
    "#Normal Classifiers\n",
    "clfNlin = linear_model.LinearRegression()\n",
    "clfNtree = DecisionTreeRegressor()\n",
    "clfNknn = KMeans(n_clusters=3)\n",
    "\n",
    "#Log Classifiers\n",
    "clfLlin = linear_model.LinearRegression()\n",
    "clfLtree = DecisionTreeRegressor()\n",
    "clfLknn = KMeans(n_clusters=3)\n",
    "\n",
    "#Fit Normal Classifiers\n",
    "clfNlin.fit(xTrainNorm,yTrainNorm)\n",
    "clfNtree.fit(xTrainNorm,yTrainNorm)\n",
    "clfNknn.fit(xTrainNorm,yTrainNorm)\n",
    "\n",
    "#Fit Log Classifiers\n",
    "clfLlin.fit(xTrainLog,yTrainLog)\n",
    "clfLtree.fit(xTrainLog,yTrainLog)\n",
    "clfLknn.fit(xTrainLog,yTrainLog)\n",
    "\n",
    "#Make predictions\n",
    "\n",
    "#Normal Predictions\n",
    "predNlin = clfNlin.predict(xTestNorm)\n",
    "predNtree = clfNtree.predict(xTestNorm)\n",
    "predNknn = clfNknn.predict(xTestNorm)\n",
    "\n",
    "#Log Predictions\n",
    "predLlin = clfLlin.predict(xTestLog)\n",
    "predLtree = clfLtree.predict(xTestLog)\n",
    "predLknn = clfLknn.predict(xTestLog)"
   ]
  },
  {
   "cell_type": "code",
   "execution_count": null,
   "metadata": {
    "collapsed": true
   },
   "outputs": [],
   "source": [
    "ACCpredNlin = mean_squared_error(predNlin,yTestNorm)\n",
    "ACCpredNtree = mean_squared_error(predNtree,yTestNorm)\n",
    "ACCpredNknn = mean_squared_error(predNknn,yTestNorm)\n",
    "\n",
    "ACCpredLlin = mean_squared_error(predLlin,yTestLog)\n",
    "ACCLtree = mean_squared_error(predLtree,yTestLog)\n",
    "ACCLknn = mean_squared_error(predLknn,yTestLog)"
   ]
  },
  {
   "cell_type": "code",
   "execution_count": null,
   "metadata": {},
   "outputs": [],
   "source": [
    "print(ACCpredNlin)\n",
    "print(ACCpredNtree)\n",
    "print(ACCpredNknn)\n",
    "\n",
    "print()\n",
    "\n",
    "print(ACCpredLlin)\n",
    "print(ACCLtree)\n",
    "print(ACCLknn)"
   ]
  },
  {
   "cell_type": "code",
   "execution_count": null,
   "metadata": {
    "collapsed": true
   },
   "outputs": [],
   "source": []
  }
 ],
 "metadata": {
  "kernelspec": {
   "display_name": "Python 3",
   "language": "python",
   "name": "python3"
  },
  "language_info": {
   "codemirror_mode": {
    "name": "ipython",
    "version": 3
   },
   "file_extension": ".py",
   "mimetype": "text/x-python",
   "name": "python",
   "nbconvert_exporter": "python",
   "pygments_lexer": "ipython3",
   "version": "3.6.3"
  }
 },
 "nbformat": 4,
 "nbformat_minor": 2
}
